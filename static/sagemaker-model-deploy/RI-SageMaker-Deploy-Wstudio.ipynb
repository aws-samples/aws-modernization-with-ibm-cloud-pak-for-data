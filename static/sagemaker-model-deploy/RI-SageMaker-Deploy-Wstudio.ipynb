{
 "cells": [
  {
   "cell_type": "markdown",
   "id": "c0bb1151",
   "metadata": {
    "id": "1c2a3654-8b51-4150-b16f-9a3773e26390"
   },
   "source": [
    "# Build multiclass classifiers with Amazon SageMaker linear learner to predict Risk Index per Region"
   ]
  },
  {
   "cell_type": "code",
   "execution_count": 1,
   "id": "e4b2b716",
   "metadata": {
    "id": "0efeaf67-910c-4372-a0b0-6b37b9d24070"
   },
   "outputs": [],
   "source": [
    "import time\n",
    "st = time.time()"
   ]
  },
  {
   "cell_type": "code",
   "execution_count": 2,
   "id": "f7db86d8",
   "metadata": {
    "id": "016491122aff46b785a056cdabb1488b"
   },
   "outputs": [
    {
     "name": "stdout",
     "output_type": "stream",
     "text": [
      "Requirement already satisfied: sagemaker in /opt/conda/envs/Python-3.9/lib/python3.9/site-packages (2.112.2)\n",
      "Requirement already satisfied: pandas in /opt/conda/envs/Python-3.9/lib/python3.9/site-packages (from sagemaker) (1.3.4)\n",
      "Requirement already satisfied: schema in /opt/conda/envs/Python-3.9/lib/python3.9/site-packages (from sagemaker) (0.7.5)\n",
      "Requirement already satisfied: pathos in /opt/conda/envs/Python-3.9/lib/python3.9/site-packages (from sagemaker) (0.2.9)\n",
      "Requirement already satisfied: importlib-metadata<5.0,>=1.4.0 in /opt/conda/envs/Python-3.9/lib/python3.9/site-packages (from sagemaker) (4.8.2)\n",
      "Requirement already satisfied: numpy<2.0,>=1.9.0 in /opt/conda/envs/Python-3.9/lib/python3.9/site-packages (from sagemaker) (1.20.3)\n",
      "Requirement already satisfied: protobuf3-to-dict<1.0,>=0.1.5 in /opt/conda/envs/Python-3.9/lib/python3.9/site-packages (from sagemaker) (0.1.5)\n",
      "Requirement already satisfied: attrs<23,>=20.3.0 in /opt/conda/envs/Python-3.9/lib/python3.9/site-packages (from sagemaker) (21.2.0)\n",
      "Requirement already satisfied: smdebug-rulesconfig==1.0.1 in /opt/conda/envs/Python-3.9/lib/python3.9/site-packages (from sagemaker) (1.0.1)\n",
      "Requirement already satisfied: google-pasta in /opt/conda/envs/Python-3.9/lib/python3.9/site-packages (from sagemaker) (0.2.0)\n",
      "Requirement already satisfied: packaging>=20.0 in /opt/conda/envs/Python-3.9/lib/python3.9/site-packages (from sagemaker) (21.3)\n",
      "Requirement already satisfied: protobuf<4.0,>=3.1 in /opt/conda/envs/Python-3.9/lib/python3.9/site-packages (from sagemaker) (3.19.1)\n",
      "Requirement already satisfied: boto3<2.0,>=1.20.21 in /opt/conda/envs/Python-3.9/lib/python3.9/site-packages (from sagemaker) (1.24.89)\n",
      "Requirement already satisfied: jmespath<2.0.0,>=0.7.1 in /opt/conda/envs/Python-3.9/lib/python3.9/site-packages (from boto3<2.0,>=1.20.21->sagemaker) (0.10.0)\n",
      "Requirement already satisfied: s3transfer<0.7.0,>=0.6.0 in /opt/conda/envs/Python-3.9/lib/python3.9/site-packages (from boto3<2.0,>=1.20.21->sagemaker) (0.6.0)\n",
      "Requirement already satisfied: botocore<1.28.0,>=1.27.89 in /opt/conda/envs/Python-3.9/lib/python3.9/site-packages (from boto3<2.0,>=1.20.21->sagemaker) (1.27.89)\n",
      "Requirement already satisfied: python-dateutil<3.0.0,>=2.1 in /opt/conda/envs/Python-3.9/lib/python3.9/site-packages (from botocore<1.28.0,>=1.27.89->boto3<2.0,>=1.20.21->sagemaker) (2.8.2)\n",
      "Requirement already satisfied: urllib3<1.27,>=1.25.4 in /opt/conda/envs/Python-3.9/lib/python3.9/site-packages (from botocore<1.28.0,>=1.27.89->boto3<2.0,>=1.20.21->sagemaker) (1.26.7)\n",
      "Requirement already satisfied: zipp>=0.5 in /opt/conda/envs/Python-3.9/lib/python3.9/site-packages (from importlib-metadata<5.0,>=1.4.0->sagemaker) (3.6.0)\n",
      "Requirement already satisfied: pyparsing!=3.0.5,>=2.0.2 in /opt/conda/envs/Python-3.9/lib/python3.9/site-packages (from packaging>=20.0->sagemaker) (3.0.4)\n",
      "Requirement already satisfied: six in /opt/conda/envs/Python-3.9/lib/python3.9/site-packages (from protobuf3-to-dict<1.0,>=0.1.5->sagemaker) (1.15.0)\n",
      "Requirement already satisfied: pytz>=2017.3 in /opt/conda/envs/Python-3.9/lib/python3.9/site-packages (from pandas->sagemaker) (2021.3)\n",
      "Requirement already satisfied: dill>=0.3.5.1 in /opt/conda/envs/Python-3.9/lib/python3.9/site-packages (from pathos->sagemaker) (0.3.5.1)\n",
      "Requirement already satisfied: ppft>=1.7.6.5 in /opt/conda/envs/Python-3.9/lib/python3.9/site-packages (from pathos->sagemaker) (1.7.6.5)\n",
      "Requirement already satisfied: multiprocess>=0.70.13 in /opt/conda/envs/Python-3.9/lib/python3.9/site-packages (from pathos->sagemaker) (0.70.13)\n",
      "Requirement already satisfied: pox>=0.3.1 in /opt/conda/envs/Python-3.9/lib/python3.9/site-packages (from pathos->sagemaker) (0.3.1)\n",
      "Requirement already satisfied: contextlib2>=0.5.5 in /opt/conda/envs/Python-3.9/lib/python3.9/site-packages (from schema->sagemaker) (21.6.0)\n"
     ]
    }
   ],
   "source": [
    "!pip install sagemaker"
   ]
  },
  {
   "cell_type": "markdown",
   "id": "e5e47ef7",
   "metadata": {
    "id": "9be6fde4-27a3-4df0-ac29-80e694481bda"
   },
   "source": [
    "### Import the libraries into the notebook"
   ]
  },
  {
   "cell_type": "code",
   "execution_count": 3,
   "id": "f007c6c2",
   "metadata": {
    "id": "ab4e3b14-063c-41db-81d5-173baf52d73c"
   },
   "outputs": [],
   "source": [
    "%matplotlib inline\n",
    "import numpy as np \n",
    "import pandas as pd \n",
    "import matplotlib.pyplot as plt\n",
    "import ipaddress\n",
    "from sklearn import preprocessing\n",
    "import warnings\n",
    "warnings.filterwarnings(\"ignore\")\n",
    "import time\n",
    "import boto3\n",
    "from sklearn.linear_model import LogisticRegression\n",
    "from sklearn.model_selection import train_test_split\n",
    "from sklearn import preprocessing\n",
    "from sklearn.model_selection import train_test_split\n",
    "from sklearn.ensemble import RandomForestClassifier\n",
    "from sklearn.metrics import accuracy_score\n",
    "from sklearn.metrics import confusion_matrix\n",
    "from sklearn import metrics\n",
    "import seaborn as sns\n",
    "sns.set(style=\"white\")\n",
    "sns.set(style=\"whitegrid\", color_codes=True)"
   ]
  },
  {
   "cell_type": "markdown",
   "id": "83bb1656",
   "metadata": {
    "id": "60c6ad98-95b7-48bb-8f4b-80b37104f116"
   },
   "source": [
    "### Update the credentials of SageMaker Access & Secret Keys"
   ]
  },
  {
   "cell_type": "code",
   "execution_count": 4,
   "id": "7855bd03",
   "metadata": {
    "id": "8d3c2e2e-92dc-488e-af20-1d7d38c22766"
   },
   "outputs": [],
   "source": [
    "S3_BUCKET_REGION = \"us-east-2\"\n",
    "SAGEMAKER_ACCESS_KEY_ID = \"\"\n",
    "SAGEMAKER_SECRET_ACCESS_KEY = \"\""
   ]
  },
  {
   "cell_type": "markdown",
   "id": "5c6544f6",
   "metadata": {
    "id": "01cecc0f-b6fe-4664-9f77-e4498b0020ae"
   },
   "source": [
    "### Update the SageMaker Full Access role in the below cell"
   ]
  },
  {
   "cell_type": "code",
   "execution_count": 5,
   "id": "45a4146b",
   "metadata": {
    "id": "f66bd626-932f-4c44-b132-b29bc5150573"
   },
   "outputs": [],
   "source": [
    "role=''"
   ]
  },
  {
   "cell_type": "markdown",
   "id": "88ac8bdd",
   "metadata": {
    "id": "4551c425-aea9-4002-8745-dc0e39fcb12c"
   },
   "source": [
    "### Read the Risk Index per Region data as dataframe and display five records\n",
    "We will ingest the data files which were pre-processed in the earlier steps using the Data pre-processing Notebook"
   ]
  },
  {
   "cell_type": "code",
   "execution_count": 6,
   "id": "a32c912f",
   "metadata": {
    "id": "aa5f1912-8e3b-4d52-a493-8c674b33bf56"
   },
   "outputs": [
    {
     "data": {
      "text/html": [
       "<div>\n",
       "<style scoped>\n",
       "    .dataframe tbody tr th:only-of-type {\n",
       "        vertical-align: middle;\n",
       "    }\n",
       "\n",
       "    .dataframe tbody tr th {\n",
       "        vertical-align: top;\n",
       "    }\n",
       "\n",
       "    .dataframe thead th {\n",
       "        text-align: right;\n",
       "    }\n",
       "</style>\n",
       "<table border=\"1\" class=\"dataframe\">\n",
       "  <thead>\n",
       "    <tr style=\"text-align: right;\">\n",
       "      <th></th>\n",
       "      <th>DATE</th>\n",
       "      <th>REGION</th>\n",
       "      <th>Total_cases</th>\n",
       "      <th>Risk_Index</th>\n",
       "    </tr>\n",
       "  </thead>\n",
       "  <tbody>\n",
       "    <tr>\n",
       "      <th>0</th>\n",
       "      <td>2020-03-15</td>\n",
       "      <td>Brussels</td>\n",
       "      <td>119</td>\n",
       "      <td>0</td>\n",
       "    </tr>\n",
       "    <tr>\n",
       "      <th>1</th>\n",
       "      <td>2020-03-15</td>\n",
       "      <td>Flanders</td>\n",
       "      <td>461</td>\n",
       "      <td>2</td>\n",
       "    </tr>\n",
       "    <tr>\n",
       "      <th>2</th>\n",
       "      <td>2020-03-15</td>\n",
       "      <td>Wallonia</td>\n",
       "      <td>383</td>\n",
       "      <td>1</td>\n",
       "    </tr>\n",
       "    <tr>\n",
       "      <th>3</th>\n",
       "      <td>2020-03-16</td>\n",
       "      <td>Brussels</td>\n",
       "      <td>238</td>\n",
       "      <td>0</td>\n",
       "    </tr>\n",
       "    <tr>\n",
       "      <th>4</th>\n",
       "      <td>2020-03-16</td>\n",
       "      <td>Flanders</td>\n",
       "      <td>794</td>\n",
       "      <td>2</td>\n",
       "    </tr>\n",
       "  </tbody>\n",
       "</table>\n",
       "</div>"
      ],
      "text/plain": [
       "         DATE    REGION  Total_cases  Risk_Index\n",
       "0  2020-03-15  Brussels          119           0\n",
       "1  2020-03-15  Flanders          461           2\n",
       "2  2020-03-15  Wallonia          383           1\n",
       "3  2020-03-16  Brussels          238           0\n",
       "4  2020-03-16  Flanders          794           2"
      ]
     },
     "execution_count": 6,
     "metadata": {},
     "output_type": "execute_result"
    }
   ],
   "source": [
    "data = pd.read_csv('https://ibm-aws-immersion-day.s3.us-east-2.amazonaws.com/publicdata/ts-data-region-RI.csv')\n",
    "data.head()"
   ]
  },
  {
   "cell_type": "markdown",
   "id": "930336a7",
   "metadata": {
    "id": "ef4d9779-5116-4a99-98a4-443103323635"
   },
   "source": [
    "### Identify the Data Types"
   ]
  },
  {
   "cell_type": "code",
   "execution_count": 7,
   "id": "3d0b5d91",
   "metadata": {
    "id": "258f3b6d-316f-4659-8999-445f78fd9e37"
   },
   "outputs": [
    {
     "data": {
      "text/plain": [
       "DATE           object\n",
       "REGION         object\n",
       "Total_cases     int64\n",
       "Risk_Index      int64\n",
       "dtype: object"
      ]
     },
     "execution_count": 7,
     "metadata": {},
     "output_type": "execute_result"
    }
   ],
   "source": [
    "data.dtypes"
   ]
  },
  {
   "cell_type": "markdown",
   "id": "7a9fc327",
   "metadata": {
    "id": "e3247dcf-e02b-4cee-9ca0-e3f1f108ee86"
   },
   "source": [
    "### Drop the Date attribute as we will not be using it"
   ]
  },
  {
   "cell_type": "code",
   "execution_count": 8,
   "id": "b11620f7",
   "metadata": {
    "id": "72514323-cd42-4d89-b442-703a3044f87b"
   },
   "outputs": [
    {
     "data": {
      "text/html": [
       "<div>\n",
       "<style scoped>\n",
       "    .dataframe tbody tr th:only-of-type {\n",
       "        vertical-align: middle;\n",
       "    }\n",
       "\n",
       "    .dataframe tbody tr th {\n",
       "        vertical-align: top;\n",
       "    }\n",
       "\n",
       "    .dataframe thead th {\n",
       "        text-align: right;\n",
       "    }\n",
       "</style>\n",
       "<table border=\"1\" class=\"dataframe\">\n",
       "  <thead>\n",
       "    <tr style=\"text-align: right;\">\n",
       "      <th></th>\n",
       "      <th>REGION</th>\n",
       "      <th>Total_cases</th>\n",
       "      <th>Risk_Index</th>\n",
       "    </tr>\n",
       "  </thead>\n",
       "  <tbody>\n",
       "    <tr>\n",
       "      <th>0</th>\n",
       "      <td>Brussels</td>\n",
       "      <td>119</td>\n",
       "      <td>0</td>\n",
       "    </tr>\n",
       "    <tr>\n",
       "      <th>1</th>\n",
       "      <td>Flanders</td>\n",
       "      <td>461</td>\n",
       "      <td>2</td>\n",
       "    </tr>\n",
       "    <tr>\n",
       "      <th>2</th>\n",
       "      <td>Wallonia</td>\n",
       "      <td>383</td>\n",
       "      <td>1</td>\n",
       "    </tr>\n",
       "    <tr>\n",
       "      <th>3</th>\n",
       "      <td>Brussels</td>\n",
       "      <td>238</td>\n",
       "      <td>0</td>\n",
       "    </tr>\n",
       "    <tr>\n",
       "      <th>4</th>\n",
       "      <td>Flanders</td>\n",
       "      <td>794</td>\n",
       "      <td>2</td>\n",
       "    </tr>\n",
       "    <tr>\n",
       "      <th>...</th>\n",
       "      <td>...</td>\n",
       "      <td>...</td>\n",
       "      <td>...</td>\n",
       "    </tr>\n",
       "    <tr>\n",
       "      <th>2215</th>\n",
       "      <td>Brussels</td>\n",
       "      <td>677</td>\n",
       "      <td>0</td>\n",
       "    </tr>\n",
       "    <tr>\n",
       "      <th>2216</th>\n",
       "      <td>Flanders</td>\n",
       "      <td>7909</td>\n",
       "      <td>2</td>\n",
       "    </tr>\n",
       "    <tr>\n",
       "      <th>2217</th>\n",
       "      <td>Wallonia</td>\n",
       "      <td>1371</td>\n",
       "      <td>1</td>\n",
       "    </tr>\n",
       "    <tr>\n",
       "      <th>2218</th>\n",
       "      <td>Flanders</td>\n",
       "      <td>295</td>\n",
       "      <td>2</td>\n",
       "    </tr>\n",
       "    <tr>\n",
       "      <th>2219</th>\n",
       "      <td>Wallonia</td>\n",
       "      <td>33</td>\n",
       "      <td>0</td>\n",
       "    </tr>\n",
       "  </tbody>\n",
       "</table>\n",
       "<p>2220 rows × 3 columns</p>\n",
       "</div>"
      ],
      "text/plain": [
       "        REGION  Total_cases  Risk_Index\n",
       "0     Brussels          119           0\n",
       "1     Flanders          461           2\n",
       "2     Wallonia          383           1\n",
       "3     Brussels          238           0\n",
       "4     Flanders          794           2\n",
       "...        ...          ...         ...\n",
       "2215  Brussels          677           0\n",
       "2216  Flanders         7909           2\n",
       "2217  Wallonia         1371           1\n",
       "2218  Flanders          295           2\n",
       "2219  Wallonia           33           0\n",
       "\n",
       "[2220 rows x 3 columns]"
      ]
     },
     "execution_count": 8,
     "metadata": {},
     "output_type": "execute_result"
    }
   ],
   "source": [
    "data.drop('DATE', axis=1, inplace=True)\n",
    "data"
   ]
  },
  {
   "cell_type": "markdown",
   "id": "4a62a1ba",
   "metadata": {
    "id": "bf5b3552-d60c-4a83-9e26-8e0c47f13912"
   },
   "source": [
    "### Encode the Region data into integers\n",
    "\n",
    "Brussels is encoded as 0 ::: Flanders is encoded as 1 ::: Wallonia is encoded as 2"
   ]
  },
  {
   "cell_type": "code",
   "execution_count": 9,
   "id": "08147866",
   "metadata": {
    "id": "e1414fef-af09-41da-a021-434dea08e174"
   },
   "outputs": [
    {
     "data": {
      "text/html": [
       "<div>\n",
       "<style scoped>\n",
       "    .dataframe tbody tr th:only-of-type {\n",
       "        vertical-align: middle;\n",
       "    }\n",
       "\n",
       "    .dataframe tbody tr th {\n",
       "        vertical-align: top;\n",
       "    }\n",
       "\n",
       "    .dataframe thead th {\n",
       "        text-align: right;\n",
       "    }\n",
       "</style>\n",
       "<table border=\"1\" class=\"dataframe\">\n",
       "  <thead>\n",
       "    <tr style=\"text-align: right;\">\n",
       "      <th></th>\n",
       "      <th>REGION</th>\n",
       "      <th>Total_cases</th>\n",
       "      <th>Risk_Index</th>\n",
       "    </tr>\n",
       "  </thead>\n",
       "  <tbody>\n",
       "    <tr>\n",
       "      <th>0</th>\n",
       "      <td>0</td>\n",
       "      <td>119</td>\n",
       "      <td>0</td>\n",
       "    </tr>\n",
       "    <tr>\n",
       "      <th>1</th>\n",
       "      <td>1</td>\n",
       "      <td>461</td>\n",
       "      <td>2</td>\n",
       "    </tr>\n",
       "    <tr>\n",
       "      <th>2</th>\n",
       "      <td>2</td>\n",
       "      <td>383</td>\n",
       "      <td>1</td>\n",
       "    </tr>\n",
       "    <tr>\n",
       "      <th>3</th>\n",
       "      <td>0</td>\n",
       "      <td>238</td>\n",
       "      <td>0</td>\n",
       "    </tr>\n",
       "    <tr>\n",
       "      <th>4</th>\n",
       "      <td>1</td>\n",
       "      <td>794</td>\n",
       "      <td>2</td>\n",
       "    </tr>\n",
       "    <tr>\n",
       "      <th>...</th>\n",
       "      <td>...</td>\n",
       "      <td>...</td>\n",
       "      <td>...</td>\n",
       "    </tr>\n",
       "    <tr>\n",
       "      <th>2215</th>\n",
       "      <td>0</td>\n",
       "      <td>677</td>\n",
       "      <td>0</td>\n",
       "    </tr>\n",
       "    <tr>\n",
       "      <th>2216</th>\n",
       "      <td>1</td>\n",
       "      <td>7909</td>\n",
       "      <td>2</td>\n",
       "    </tr>\n",
       "    <tr>\n",
       "      <th>2217</th>\n",
       "      <td>2</td>\n",
       "      <td>1371</td>\n",
       "      <td>1</td>\n",
       "    </tr>\n",
       "    <tr>\n",
       "      <th>2218</th>\n",
       "      <td>1</td>\n",
       "      <td>295</td>\n",
       "      <td>2</td>\n",
       "    </tr>\n",
       "    <tr>\n",
       "      <th>2219</th>\n",
       "      <td>2</td>\n",
       "      <td>33</td>\n",
       "      <td>0</td>\n",
       "    </tr>\n",
       "  </tbody>\n",
       "</table>\n",
       "<p>2220 rows × 3 columns</p>\n",
       "</div>"
      ],
      "text/plain": [
       "      REGION  Total_cases  Risk_Index\n",
       "0          0          119           0\n",
       "1          1          461           2\n",
       "2          2          383           1\n",
       "3          0          238           0\n",
       "4          1          794           2\n",
       "...      ...          ...         ...\n",
       "2215       0          677           0\n",
       "2216       1         7909           2\n",
       "2217       2         1371           1\n",
       "2218       1          295           2\n",
       "2219       2           33           0\n",
       "\n",
       "[2220 rows x 3 columns]"
      ]
     },
     "execution_count": 9,
     "metadata": {},
     "output_type": "execute_result"
    }
   ],
   "source": [
    "label_encoder = preprocessing.LabelEncoder()\n",
    "\n",
    "data['REGION']= label_encoder.fit_transform(data['REGION'])\n",
    "\n",
    "data"
   ]
  },
  {
   "cell_type": "markdown",
   "id": "89d65a81",
   "metadata": {
    "id": "186346b6-2e4e-4af6-a8e8-e9ba49759229"
   },
   "source": [
    "### Convert dataframe to numpy array"
   ]
  },
  {
   "cell_type": "code",
   "execution_count": 10,
   "id": "c29469ec",
   "metadata": {
    "id": "e3ed04af-ec6a-42be-9e4c-0111103a77fc"
   },
   "outputs": [],
   "source": [
    "data = data.to_numpy(dtype ='float32')"
   ]
  },
  {
   "cell_type": "markdown",
   "id": "926223f6",
   "metadata": {
    "id": "c1efc710-5fa9-4d76-8ec5-d9ec7ccfc349"
   },
   "source": [
    "### Generate Data features (input) & Data Labels (target)"
   ]
  },
  {
   "cell_type": "code",
   "execution_count": 11,
   "id": "6bb48c50",
   "metadata": {
    "id": "b2e64e76-8459-4484-8c9c-adac194265d5"
   },
   "outputs": [],
   "source": [
    "data_features, data_labels = data[:, :2], data[:, 2]"
   ]
  },
  {
   "cell_type": "code",
   "execution_count": 12,
   "id": "751096e0",
   "metadata": {
    "id": "abeae90a-4761-44a1-9077-7cf0a651ab6b"
   },
   "outputs": [
    {
     "data": {
      "text/plain": [
       "array([0., 2., 1., ..., 1., 2., 0.], dtype=float32)"
      ]
     },
     "execution_count": 12,
     "metadata": {},
     "output_type": "execute_result"
    }
   ],
   "source": [
    "data_labels"
   ]
  },
  {
   "cell_type": "markdown",
   "id": "2154fc24",
   "metadata": {
    "id": "855745ae-ecfd-4b09-b85a-2e567b6bc031"
   },
   "source": [
    "### Split the data into training & testing data with 80:20 ratio"
   ]
  },
  {
   "cell_type": "code",
   "execution_count": 13,
   "id": "c7c8e574",
   "metadata": {
    "id": "3bf179b4-13fe-449e-945e-4fe0536ba0bd"
   },
   "outputs": [],
   "source": [
    "np.random.seed(0)\n",
    "train_features, test_features, train_labels, test_labels = train_test_split(\n",
    "    data_features, data_labels, test_size=0.2)"
   ]
  },
  {
   "cell_type": "markdown",
   "id": "fffcbecb",
   "metadata": {
    "id": "18a8c08c-c106-4849-a94e-36e568f596db"
   },
   "source": [
    "### Further split the test set into validation and test sets"
   ]
  },
  {
   "cell_type": "code",
   "execution_count": 14,
   "id": "7bc30a27",
   "metadata": {
    "id": "1ba02e8a-e268-4a6b-a37a-8ebb7198b44f"
   },
   "outputs": [],
   "source": [
    "val_features, test_features, val_labels, test_labels = train_test_split(\n",
    "    test_features, test_labels, test_size=0.5)"
   ]
  },
  {
   "cell_type": "markdown",
   "id": "adc8e3c2",
   "metadata": {
    "id": "c2d3b26b-a345-4406-829f-5fb824231786"
   },
   "source": [
    "### Check the count of observations in features & labels"
   ]
  },
  {
   "cell_type": "code",
   "execution_count": 15,
   "id": "751dbdfa",
   "metadata": {
    "id": "d761ae3e-27ad-4fc7-ab43-fedc27f8c288"
   },
   "outputs": [
    {
     "data": {
      "text/plain": [
       "1776"
      ]
     },
     "execution_count": 15,
     "metadata": {},
     "output_type": "execute_result"
    }
   ],
   "source": [
    "len(train_features)\n",
    "len(train_labels)"
   ]
  },
  {
   "cell_type": "markdown",
   "id": "4614f4a2",
   "metadata": {
    "id": "eb647f2c-d49d-43db-b6e4-a378fc398e1a"
   },
   "source": [
    "### Assign label names and count label frequencies"
   ]
  },
  {
   "cell_type": "code",
   "execution_count": 16,
   "id": "b3543261",
   "metadata": {
    "id": "69196dd1-84cc-46be-8065-320542fb1722"
   },
   "outputs": [
    {
     "data": {
      "text/plain": [
       "<AxesSubplot:title={'center':'Label Counts'}>"
      ]
     },
     "execution_count": 16,
     "metadata": {},
     "output_type": "execute_result"
    },
    {
     "data": {
      "image/png": "[encoded data removed]",
      "text/plain": [
       "<Figure size 432x288 with 1 Axes>"
      ]
     },
     "metadata": {},
     "output_type": "display_data"
    }
   ],
   "source": [
    "label_map = {0:'Low Risk', 1:'Moderate Risk', 2:'High Risk'}\n",
    "label_counts = pd.DataFrame(data=train_labels)[0].map(label_map).value_counts(sort=False).sort_index(ascending=False)\n",
    "label_counts.plot(kind='barh', color='tomato', title='Label Counts')"
   ]
  },
  {
   "cell_type": "code",
   "execution_count": 17,
   "id": "8eeced13",
   "metadata": {
    "id": "1d301b8c161246e68c81cbf1b0dc33fb"
   },
   "outputs": [],
   "source": [
    "import sagemaker\n",
    "session = boto3.session.Session(\n",
    "    aws_access_key_id = SAGEMAKER_ACCESS_KEY_ID,\n",
    "    aws_secret_access_key = SAGEMAKER_SECRET_ACCESS_KEY,\n",
    "    region_name = S3_BUCKET_REGION\n",
    ")\n",
    "region = session.region_name\n",
    "sagemaker_session = sagemaker.Session(session)"
   ]
  },
  {
   "cell_type": "code",
   "execution_count": 18,
   "id": "04ff0ebe",
   "metadata": {
    "id": "fb4b383a869b40aba899bd153b95f498"
   },
   "outputs": [],
   "source": [
    "import os\n",
    "os.environ['AWS_DEFAULT_REGION'] = S3_BUCKET_REGION\n",
    "os.environ['AWS_ACCESS_KEY_ID'] = SAGEMAKER_ACCESS_KEY_ID\n",
    "os.environ['AWS_SECRET_ACCESS_KEY'] = SAGEMAKER_SECRET_ACCESS_KEY"
   ]
  },
  {
   "cell_type": "markdown",
   "id": "1222bcea",
   "metadata": {
    "id": "2dc3700a-46cb-4bdd-9a33-9656bc760fbc"
   },
   "source": [
    "## Model Building Process"
   ]
  },
  {
   "cell_type": "markdown",
   "id": "ab564dd2",
   "metadata": {
    "id": "5049d185-ffdd-4f8b-aa6d-907139f9e8a0"
   },
   "source": [
    "### Instantiate the LinearLearner estimator object"
   ]
  },
  {
   "cell_type": "code",
   "execution_count": 19,
   "id": "3c91ac8a",
   "metadata": {
    "id": "26377032-d715-4842-8b15-5108892009d2"
   },
   "outputs": [
    {
     "name": "stderr",
     "output_type": "stream",
     "text": [
      "train_instance_count has been renamed in sagemaker>=2.\n",
      "See: https://sagemaker.readthedocs.io/en/stable/v2.html for details.\n",
      "train_instance_type has been renamed in sagemaker>=2.\n",
      "See: https://sagemaker.readthedocs.io/en/stable/v2.html for details.\n"
     ]
    }
   ],
   "source": [
    "import sagemaker\n",
    "from sagemaker.amazon.amazon_estimator import RecordSet\n",
    "import boto3\n",
    "\n",
    "multiclass_estimator = sagemaker.LinearLearner(role=role,\n",
    "                                               train_instance_count=1,\n",
    "                                               train_instance_type='ml.m4.xlarge',\n",
    "                                               predictor_type='multiclass_classifier',\n",
    "                                               num_classes=3)"
   ]
  },
  {
   "cell_type": "markdown",
   "id": "ac515b6c",
   "metadata": {
    "id": "43b38ee9-8135-49fb-8596-dac4fa2a48b8"
   },
   "source": [
    "### Wrap data in RecordSet objects"
   ]
  },
  {
   "cell_type": "code",
   "execution_count": 20,
   "id": "0c3e0af8",
   "metadata": {
    "id": "c5b32e30-b3e9-4a83-8151-c4a4b205cb9e"
   },
   "outputs": [],
   "source": [
    "train_records = multiclass_estimator.record_set(train_features, train_labels, channel='train')\n",
    "val_records = multiclass_estimator.record_set(val_features, val_labels, channel='validation')\n",
    "test_records = multiclass_estimator.record_set(test_features, test_labels, channel='test')"
   ]
  },
  {
   "cell_type": "markdown",
   "id": "26c56991",
   "metadata": {
    "id": "9493026f-9070-4c2d-b15c-66c410752088"
   },
   "source": [
    "### Start a training job"
   ]
  },
  {
   "cell_type": "code",
   "execution_count": 21,
   "id": "3770a752",
   "metadata": {
    "id": "1a23e459-b776-45bf-9e5a-78b8ea9d0c15"
   },
   "outputs": [
    {
     "name": "stdout",
     "output_type": "stream",
     "text": [
      "2022-10-13 14:52:53 Starting - Starting the training job...\n",
      "2022-10-13 14:53:20 Starting - Preparing the instances for trainingProfilerReport-1665672773: InProgress\n",
      ".........\n",
      "2022-10-13 14:54:54 Downloading - Downloading input data...\n",
      "2022-10-13 14:55:14 Training - Downloading the training image............\n",
      "2022-10-13 14:57:24 Uploading - Uploading generated training model\u001b[34mDocker entrypoint called with argument(s): train\u001b[0m\n",
      "\u001b[34mRunning default environment configuration script\u001b[0m\n",
      "\u001b[34m[10/13/2022 14:57:12 INFO 140479147329344] Reading default configuration from /opt/amazon/lib/python3.7/site-packages/algorithm/resources/default-input.json: {'mini_batch_size': '1000', 'epochs': '15', 'feature_dim': 'auto', 'use_bias': 'true', 'binary_classifier_model_selection_criteria': 'accuracy', 'f_beta': '1.0', 'target_recall': '0.8', 'target_precision': '0.8', 'num_models': 'auto', 'num_calibration_samples': '10000000', 'init_method': 'uniform', 'init_scale': '0.07', 'init_sigma': '0.01', 'init_bias': '0.0', 'optimizer': 'auto', 'loss': 'auto', 'margin': '1.0', 'quantile': '0.5', 'loss_insensitivity': '0.01', 'huber_delta': '1.0', 'num_classes': '1', 'accuracy_top_k': '3', 'wd': 'auto', 'l1': 'auto', 'momentum': 'auto', 'learning_rate': 'auto', 'beta_1': 'auto', 'beta_2': 'auto', 'bias_lr_mult': 'auto', 'bias_wd_mult': 'auto', 'use_lr_scheduler': 'true', 'lr_scheduler_step': 'auto', 'lr_scheduler_factor': 'auto', 'lr_scheduler_minimum_lr': 'auto', 'positive_example_weight_mult': '1.0', 'balance_multiclass_weights': 'false', 'normalize_data': 'true', 'normalize_label': 'auto', 'unbias_data': 'auto', 'unbias_label': 'auto', 'num_point_for_scaler': '10000', '_kvstore': 'auto', '_num_gpus': 'auto', '_num_kv_servers': 'auto', '_log_level': 'info', '_tuning_objective_metric': '', 'early_stopping_patience': '3', 'early_stopping_tolerance': '0.001', '_enable_profiler': 'false'}\u001b[0m\n",
      "\u001b[34m[10/13/2022 14:57:12 INFO 140479147329344] Merging with provided configuration from /opt/ml/input/config/hyperparameters.json: {'feature_dim': '2', 'mini_batch_size': '1000', 'num_classes': '3', 'predictor_type': 'multiclass_classifier'}\u001b[0m\n",
      "\u001b[34m[10/13/2022 14:57:12 INFO 140479147329344] Final configuration: {'mini_batch_size': '1000', 'epochs': '15', 'feature_dim': '2', 'use_bias': 'true', 'binary_classifier_model_selection_criteria': 'accuracy', 'f_beta': '1.0', 'target_recall': '0.8', 'target_precision': '0.8', 'num_models': 'auto', 'num_calibration_samples': '10000000', 'init_method': 'uniform', 'init_scale': '0.07', 'init_sigma': '0.01', 'init_bias': '0.0', 'optimizer': 'auto', 'loss': 'auto', 'margin': '1.0', 'quantile': '0.5', 'loss_insensitivity': '0.01', 'huber_delta': '1.0', 'num_classes': '3', 'accuracy_top_k': '3', 'wd': 'auto', 'l1': 'auto', 'momentum': 'auto', 'learning_rate': 'auto', 'beta_1': 'auto', 'beta_2': 'auto', 'bias_lr_mult': 'auto', 'bias_wd_mult': 'auto', 'use_lr_scheduler': 'true', 'lr_scheduler_step': 'auto', 'lr_scheduler_factor': 'auto', 'lr_scheduler_minimum_lr': 'auto', 'positive_example_weight_mult': '1.0', 'balance_multiclass_weights': 'false', 'normalize_data': 'true', 'normalize_label': 'auto', 'unbias_data': 'auto', 'unbias_label': 'auto', 'num_point_for_scaler': '10000', '_kvstore': 'auto', '_num_gpus': 'auto', '_num_kv_servers': 'auto', '_log_level': 'info', '_tuning_objective_metric': '', 'early_stopping_patience': '3', 'early_stopping_tolerance': '0.001', '_enable_profiler': 'false', 'predictor_type': 'multiclass_classifier'}\u001b[0m\n",
      "\u001b[34m[10/13/2022 14:57:16 WARNING 140479147329344] Loggers have already been setup.\u001b[0m\n",
      "\u001b[34m[10/13/2022 14:57:16 INFO 140479147329344] Final configuration: {'mini_batch_size': '1000', 'epochs': '15', 'feature_dim': '2', 'use_bias': 'true', 'binary_classifier_model_selection_criteria': 'accuracy', 'f_beta': '1.0', 'target_recall': '0.8', 'target_precision': '0.8', 'num_models': 'auto', 'num_calibration_samples': '10000000', 'init_method': 'uniform', 'init_scale': '0.07', 'init_sigma': '0.01', 'init_bias': '0.0', 'optimizer': 'auto', 'loss': 'auto', 'margin': '1.0', 'quantile': '0.5', 'loss_insensitivity': '0.01', 'huber_delta': '1.0', 'num_classes': '3', 'accuracy_top_k': '3', 'wd': 'auto', 'l1': 'auto', 'momentum': 'auto', 'learning_rate': 'auto', 'beta_1': 'auto', 'beta_2': 'auto', 'bias_lr_mult': 'auto', 'bias_wd_mult': 'auto', 'use_lr_scheduler': 'true', 'lr_scheduler_step': 'auto', 'lr_scheduler_factor': 'auto', 'lr_scheduler_minimum_lr': 'auto', 'positive_example_weight_mult': '1.0', 'balance_multiclass_weights': 'false', 'normalize_data': 'true', 'normalize_label': 'auto', 'unbias_data': 'auto', 'unbias_label': 'auto', 'num_point_for_scaler': '10000', '_kvstore': 'auto', '_num_gpus': 'auto', '_num_kv_servers': 'auto', '_log_level': 'info', '_tuning_objective_metric': '', 'early_stopping_patience': '3', 'early_stopping_tolerance': '0.001', '_enable_profiler': 'false', 'predictor_type': 'multiclass_classifier'}\u001b[0m\n",
      "\u001b[34m[10/13/2022 14:57:16 WARNING 140479147329344] Loggers have already been setup.\u001b[0m\n",
      "\u001b[34mProcess 1 is a worker.\u001b[0m\n",
      "\u001b[34m[10/13/2022 14:57:16 INFO 140479147329344] Using default worker.\u001b[0m\n",
      "\u001b[34m[10/13/2022 14:57:16 INFO 140479147329344] Checkpoint loading and saving are disabled.\u001b[0m\n",
      "\u001b[34m[2022-10-13 14:57:16.724] [tensorio] [warning] TensorIO is already initialized; ignoring the initialization routine.\u001b[0m\n",
      "\u001b[34m[2022-10-13 14:57:16.725] [tensorio] [warning] TensorIO is already initialized; ignoring the initialization routine.\u001b[0m\n",
      "\u001b[34m[2022-10-13 14:57:16.755] [tensorio] [info] epoch_stats={\"data_pipeline\": \"/opt/ml/input/data/train\", \"epoch\": 0, \"duration\": 33, \"num_examples\": 1, \"num_bytes\": 52000}\u001b[0m\n",
      "\u001b[34m[10/13/2022 14:57:16 INFO 140479147329344] Create Store: local\u001b[0m\n",
      "\u001b[34m[2022-10-13 14:57:16.785] [tensorio] [info] epoch_stats={\"data_pipeline\": \"/opt/ml/input/data/train\", \"epoch\": 1, \"duration\": 28, \"num_examples\": 2, \"num_bytes\": 92352}\u001b[0m\n",
      "\u001b[34m[10/13/2022 14:57:16 INFO 140479147329344] Scaler algorithm parameters\n",
      " <algorithm.scaler.ScalerAlgorithmStable object at 0x7fc35010c890>\u001b[0m\n",
      "\u001b[34m[10/13/2022 14:57:16 INFO 140479147329344] Scaling model computed with parameters:\n",
      " {'stdev_label': None, 'stdev_weight': \u001b[0m\n",
      "\u001b[34m[8.0769736e-01 4.2531353e+03]\u001b[0m\n",
      "\u001b[34m<NDArray 2 @cpu(0)>, 'mean_label': None, 'mean_weight': \u001b[0m\n",
      "\u001b[34m[9.750000e-01 2.589306e+03]\u001b[0m\n",
      "\u001b[34m<NDArray 2 @cpu(0)>}\u001b[0m\n",
      "\u001b[34m[10/13/2022 14:57:16 INFO 140479147329344] nvidia-smi: took 0.032 seconds to run.\u001b[0m\n",
      "\u001b[34m[10/13/2022 14:57:16 INFO 140479147329344] nvidia-smi identified 0 GPUs.\u001b[0m\n",
      "\u001b[34m[10/13/2022 14:57:16 INFO 140479147329344] Number of GPUs being used: 0\u001b[0m\n",
      "\u001b[34m#metrics {\"StartTime\": 1665673036.9105487, \"EndTime\": 1665673036.910585, \"Dimensions\": {\"Algorithm\": \"Linear Learner\", \"Host\": \"algo-1\", \"Operation\": \"training\", \"Meta\": \"init_train_data_iter\"}, \"Metrics\": {\"Total Records Seen\": {\"sum\": 2776.0, \"count\": 1, \"min\": 2776, \"max\": 2776}, \"Total Batches Seen\": {\"sum\": 3.0, \"count\": 1, \"min\": 3, \"max\": 3}, \"Max Records Seen Between Resets\": {\"sum\": 1776.0, \"count\": 1, \"min\": 1776, \"max\": 1776}, \"Max Batches Seen Between Resets\": {\"sum\": 2.0, \"count\": 1, \"min\": 2, \"max\": 2}, \"Reset Count\": {\"sum\": 2.0, \"count\": 1, \"min\": 2, \"max\": 2}, \"Number of Records Since Last Reset\": {\"sum\": 0.0, \"count\": 1, \"min\": 0, \"max\": 0}, \"Number of Batches Since Last Reset\": {\"sum\": 0.0, \"count\": 1, \"min\": 0, \"max\": 0}}}\u001b[0m\n",
      "\u001b[34m[2022-10-13 14:57:16.985] [tensorio] [info] epoch_stats={\"data_pipeline\": \"/opt/ml/input/data/train\", \"epoch\": 4, \"duration\": 74, \"num_examples\": 2, \"num_bytes\": 92352}\u001b[0m\n",
      "\u001b[34m#metrics {\"StartTime\": 1665673036.9854827, \"EndTime\": 1665673036.9855692, \"Dimensions\": {\"Algorithm\": \"Linear Learner\", \"Host\": \"algo-1\", \"Operation\": \"training\", \"epoch\": 0, \"model\": 0}, \"Metrics\": {\"train_multiclass_cross_entropy_objective\": {\"sum\": 1.0954010009765625, \"count\": 1, \"min\": 1.0954010009765625, \"max\": 1.0954010009765625}}}\u001b[0m\n",
      "\u001b[34m#metrics {\"StartTime\": 1665673036.9856544, \"EndTime\": 1665673036.985672, \"Dimensions\": {\"Algorithm\": \"Linear Learner\", \"Host\": \"algo-1\", \"Operation\": \"training\", \"epoch\": 0, \"model\": 1}, \"Metrics\": {\"train_multiclass_cross_entropy_objective\": {\"sum\": 1.0995819091796875, \"count\": 1, \"min\": 1.0995819091796875, \"max\": 1.0995819091796875}}}\u001b[0m\n",
      "\u001b[34m#metrics {\"StartTime\": 1665673036.9857838, \"EndTime\": 1665673036.9858246, \"Dimensions\": {\"Algorithm\": \"Linear Learner\", \"Host\": \"algo-1\", \"Operation\": \"training\", \"epoch\": 0, \"model\": 2}, \"Metrics\": {\"train_multiclass_cross_entropy_objective\": {\"sum\": 1.1139429931640625, \"count\": 1, \"min\": 1.1139429931640625, \"max\": 1.1139429931640625}}}\u001b[0m\n",
      "\u001b[34m#metrics {\"StartTime\": 1665673036.985883, \"EndTime\": 1665673036.985898, \"Dimensions\": {\"Algorithm\": \"Linear Learner\", \"Host\": \"algo-1\", \"Operation\": \"training\", \"epoch\": 0, \"model\": 3}, \"Metrics\": {\"train_multiclass_cross_entropy_objective\": {\"sum\": 1.06709375, \"count\": 1, \"min\": 1.06709375, \"max\": 1.06709375}}}\u001b[0m\n",
      "\u001b[34m#metrics {\"StartTime\": 1665673036.9859438, \"EndTime\": 1665673036.9859552, \"Dimensions\": {\"Algorithm\": \"Linear Learner\", \"Host\": \"algo-1\", \"Operation\": \"training\", \"epoch\": 0, \"model\": 4}, \"Metrics\": {\"train_multiclass_cross_entropy_objective\": {\"sum\": 1.1328526611328125, \"count\": 1, \"min\": 1.1328526611328125, \"max\": 1.1328526611328125}}}\u001b[0m\n",
      "\u001b[34m#metrics {\"StartTime\": 1665673036.9860282, \"EndTime\": 1665673036.9860435, \"Dimensions\": {\"Algorithm\": \"Linear Learner\", \"Host\": \"algo-1\", \"Operation\": \"training\", \"epoch\": 0, \"model\": 5}, \"Metrics\": {\"train_multiclass_cross_entropy_objective\": {\"sum\": 1.0979373779296875, \"count\": 1, \"min\": 1.0979373779296875, \"max\": 1.0979373779296875}}}\u001b[0m\n",
      "\u001b[34m#metrics {\"StartTime\": 1665673036.986086, \"EndTime\": 1665673036.9860969, \"Dimensions\": {\"Algorithm\": \"Linear Learner\", \"Host\": \"algo-1\", \"Operation\": \"training\", \"epoch\": 0, \"model\": 6}, \"Metrics\": {\"train_multiclass_cross_entropy_objective\": {\"sum\": 1.0733134765625, \"count\": 1, \"min\": 1.0733134765625, \"max\": 1.0733134765625}}}\u001b[0m\n",
      "\u001b[34m#metrics {\"StartTime\": 1665673036.9861677, \"EndTime\": 1665673036.9861836, \"Dimensions\": {\"Algorithm\": \"Linear Learner\", \"Host\": \"algo-1\", \"Operation\": \"training\", \"epoch\": 0, \"model\": 7}, \"Metrics\": {\"train_multiclass_cross_entropy_objective\": {\"sum\": 1.101536376953125, \"count\": 1, \"min\": 1.101536376953125, \"max\": 1.101536376953125}}}\u001b[0m\n",
      "\u001b[34m#metrics {\"StartTime\": 1665673036.9862292, \"EndTime\": 1665673036.9862406, \"Dimensions\": {\"Algorithm\": \"Linear Learner\", \"Host\": \"algo-1\", \"Operation\": \"training\", \"epoch\": 0, \"model\": 8}, \"Metrics\": {\"train_multiclass_cross_entropy_objective\": {\"sum\": 1.1102474365234376, \"count\": 1, \"min\": 1.1102474365234376, \"max\": 1.1102474365234376}}}\u001b[0m\n",
      "\u001b[34m#metrics {\"StartTime\": 1665673036.986279, \"EndTime\": 1665673036.9862895, \"Dimensions\": {\"Algorithm\": \"Linear Learner\", \"Host\": \"algo-1\", \"Operation\": \"training\", \"epoch\": 0, \"model\": 9}, \"Metrics\": {\"train_multiclass_cross_entropy_objective\": {\"sum\": 1.123679443359375, \"count\": 1, \"min\": 1.123679443359375, \"max\": 1.123679443359375}}}\u001b[0m\n",
      "\u001b[34m#metrics {\"StartTime\": 1665673036.986382, \"EndTime\": 1665673036.9863977, \"Dimensions\": {\"Algorithm\": \"Linear Learner\", \"Host\": \"algo-1\", \"Operation\": \"training\", \"epoch\": 0, \"model\": 10}, \"Metrics\": {\"train_multiclass_cross_entropy_objective\": {\"sum\": 1.0930557861328125, \"count\": 1, \"min\": 1.0930557861328125, \"max\": 1.0930557861328125}}}\u001b[0m\n",
      "\u001b[34m#metrics {\"StartTime\": 1665673036.9864714, \"EndTime\": 1665673036.9865131, \"Dimensions\": {\"Algorithm\": \"Linear Learner\", \"Host\": \"algo-1\", \"Operation\": \"training\", \"epoch\": 0, \"model\": 11}, \"Metrics\": {\"train_multiclass_cross_entropy_objective\": {\"sum\": 1.100878662109375, \"count\": 1, \"min\": 1.100878662109375, \"max\": 1.100878662109375}}}\u001b[0m\n",
      "\u001b[34m[10/13/2022 14:57:16 INFO 140479147329344] #quality_metric: host=algo-1, epoch=0, train multiclass_cross_entropy_objective <loss>=1.0954010009765625\u001b[0m\n",
      "\u001b[34m[2022-10-13 14:57:17.000] [tensorio] [info] epoch_stats={\"data_pipeline\": \"/opt/ml/input/data/validation\", \"epoch\": 0, \"duration\": 275, \"num_examples\": 1, \"num_bytes\": 11544}\u001b[0m\n",
      "\u001b[34m[2022-10-13 14:57:17.015] [tensorio] [info] epoch_stats={\"data_pipeline\": \"/opt/ml/input/data/validation\", \"epoch\": 2, \"duration\": 14, \"num_examples\": 1, \"num_bytes\": 11544}\u001b[0m\n",
      "\u001b[34m#metrics {\"StartTime\": 1665673037.0193179, \"EndTime\": 1665673037.0193799, \"Dimensions\": {\"Algorithm\": \"Linear Learner\", \"Host\": \"algo-1\", \"Operation\": \"training\", \"epoch\": 0, \"model\": 0}, \"Metrics\": {\"validation_multiclass_cross_entropy_objective\": {\"sum\": 1.0870965493691933, \"count\": 1, \"min\": 1.0870965493691933, \"max\": 1.0870965493691933}}}\u001b[0m\n",
      "\u001b[34m#metrics {\"StartTime\": 1665673037.0194638, \"EndTime\": 1665673037.0194852, \"Dimensions\": {\"Algorithm\": \"Linear Learner\", \"Host\": \"algo-1\", \"Operation\": \"training\", \"epoch\": 0, \"model\": 1}, \"Metrics\": {\"validation_multiclass_cross_entropy_objective\": {\"sum\": 1.0952040526244018, \"count\": 1, \"min\": 1.0952040526244018, \"max\": 1.0952040526244018}}}\u001b[0m\n",
      "\u001b[34m#metrics {\"StartTime\": 1665673037.0195482, \"EndTime\": 1665673037.0195668, \"Dimensions\": {\"Algorithm\": \"Linear Learner\", \"Host\": \"algo-1\", \"Operation\": \"training\", \"epoch\": 0, \"model\": 2}, \"Metrics\": {\"validation_multiclass_cross_entropy_objective\": {\"sum\": 1.1503361882390202, \"count\": 1, \"min\": 1.1503361882390202, \"max\": 1.1503361882390202}}}\u001b[0m\n",
      "\u001b[34m#metrics {\"StartTime\": 1665673037.0198133, \"EndTime\": 1665673037.0198379, \"Dimensions\": {\"Algorithm\": \"Linear Learner\", \"Host\": \"algo-1\", \"Operation\": \"training\", \"epoch\": 0, \"model\": 3}, \"Metrics\": {\"validation_multiclass_cross_entropy_objective\": {\"sum\": 1.0671759940482475, \"count\": 1, \"min\": 1.0671759940482475, \"max\": 1.0671759940482475}}}\u001b[0m\n",
      "\u001b[34m#metrics {\"StartTime\": 1665673037.0198998, \"EndTime\": 1665673037.0199862, \"Dimensions\": {\"Algorithm\": \"Linear Learner\", \"Host\": \"algo-1\", \"Operation\": \"training\", \"epoch\": 0, \"model\": 4}, \"Metrics\": {\"validation_multiclass_cross_entropy_objective\": {\"sum\": 1.111834276903857, \"count\": 1, \"min\": 1.111834276903857, \"max\": 1.111834276903857}}}\u001b[0m\n",
      "\u001b[34m#metrics {\"StartTime\": 1665673037.0200992, \"EndTime\": 1665673037.0201216, \"Dimensions\": {\"Algorithm\": \"Linear Learner\", \"Host\": \"algo-1\", \"Operation\": \"training\", \"epoch\": 0, \"model\": 5}, \"Metrics\": {\"validation_multiclass_cross_entropy_objective\": {\"sum\": 1.053416277911212, \"count\": 1, \"min\": 1.053416277911212, \"max\": 1.053416277911212}}}\u001b[0m\n",
      "\u001b[34m#metrics {\"StartTime\": 1665673037.0201793, \"EndTime\": 1665673037.0202537, \"Dimensions\": {\"Algorithm\": \"Linear Learner\", \"Host\": \"algo-1\", \"Operation\": \"training\", \"epoch\": 0, \"model\": 6}, \"Metrics\": {\"validation_multiclass_cross_entropy_objective\": {\"sum\": 0.9854361731726844, \"count\": 1, \"min\": 0.9854361731726844, \"max\": 0.9854361731726844}}}\u001b[0m\n",
      "\u001b[34m#metrics {\"StartTime\": 1665673037.0203767, \"EndTime\": 1665673037.0203993, \"Dimensions\": {\"Algorithm\": \"Linear Learner\", \"Host\": \"algo-1\", \"Operation\": \"training\", \"epoch\": 0, \"model\": 7}, \"Metrics\": {\"validation_multiclass_cross_entropy_objective\": {\"sum\": 1.092049332352372, \"count\": 1, \"min\": 1.092049332352372, \"max\": 1.092049332352372}}}\u001b[0m\n",
      "\u001b[34m#metrics {\"StartTime\": 1665673037.0205162, \"EndTime\": 1665673037.0205324, \"Dimensions\": {\"Algorithm\": \"Linear Learner\", \"Host\": \"algo-1\", \"Operation\": \"training\", \"epoch\": 0, \"model\": 8}, \"Metrics\": {\"validation_multiclass_cross_entropy_objective\": {\"sum\": 1.0225276775188274, \"count\": 1, \"min\": 1.0225276775188274, \"max\": 1.0225276775188274}}}\u001b[0m\n",
      "\u001b[34m#metrics {\"StartTime\": 1665673037.0205696, \"EndTime\": 1665673037.02058, \"Dimensions\": {\"Algorithm\": \"Linear Learner\", \"Host\": \"algo-1\", \"Operation\": \"training\", \"epoch\": 0, \"model\": 9}, \"Metrics\": {\"validation_multiclass_cross_entropy_objective\": {\"sum\": 3.2381616540857263, \"count\": 1, \"min\": 3.2381616540857263, \"max\": 3.2381616540857263}}}\u001b[0m\n",
      "\u001b[34m#metrics {\"StartTime\": 1665673037.0207047, \"EndTime\": 1665673037.0207312, \"Dimensions\": {\"Algorithm\": \"Linear Learner\", \"Host\": \"algo-1\", \"Operation\": \"training\", \"epoch\": 0, \"model\": 10}, \"Metrics\": {\"validation_multiclass_cross_entropy_objective\": {\"sum\": 1.0837469702368383, \"count\": 1, \"min\": 1.0837469702368383, \"max\": 1.0837469702368383}}}\u001b[0m\n",
      "\u001b[34m#metrics {\"StartTime\": 1665673037.0208294, \"EndTime\": 1665673037.020843, \"Dimensions\": {\"Algorithm\": \"Linear Learner\", \"Host\": \"algo-1\", \"Operation\": \"training\", \"epoch\": 0, \"model\": 11}, \"Metrics\": {\"validation_multiclass_cross_entropy_objective\": {\"sum\": 1.9163554423564189, \"count\": 1, \"min\": 1.9163554423564189, \"max\": 1.9163554423564189}}}\u001b[0m\n",
      "\u001b[34m[10/13/2022 14:57:17 INFO 140479147329344] #quality_metric: host=algo-1, epoch=0, validation multiclass_cross_entropy_objective <loss>=1.0870965493691933\u001b[0m\n",
      "\u001b[34m[10/13/2022 14:57:17 INFO 140479147329344] #early_stopping_criteria_metric: host=algo-1, epoch=0, criteria=multiclass_cross_entropy_objective, value=0.9854361731726844\u001b[0m\n",
      "\u001b[34m[10/13/2022 14:57:17 INFO 140479147329344] Epoch 0: Loss improved. Updating best model\u001b[0m\n",
      "\u001b[34m[10/13/2022 14:57:17 INFO 140479147329344] Saving model for epoch: 0\u001b[0m\n",
      "\u001b[34m[10/13/2022 14:57:17 INFO 140479147329344] Saved checkpoint to \"/tmp/tmpl9kr4k38/mx-mod-0000.params\"\u001b[0m\n",
      "\u001b[34m[10/13/2022 14:57:17 INFO 140479147329344] #progress_metric: host=algo-1, completed 6.666666666666667 % of epochs\u001b[0m\n",
      "\u001b[34m#metrics {\"StartTime\": 1665673036.9108946, \"EndTime\": 1665673037.036275, \"Dimensions\": {\"Algorithm\": \"Linear Learner\", \"Host\": \"algo-1\", \"Operation\": \"training\", \"epoch\": 0, \"Meta\": \"training_data_iter\"}, \"Metrics\": {\"Total Records Seen\": {\"sum\": 4552.0, \"count\": 1, \"min\": 4552, \"max\": 4552}, \"Total Batches Seen\": {\"sum\": 5.0, \"count\": 1, \"min\": 5, \"max\": 5}, \"Max Records Seen Between Resets\": {\"sum\": 1776.0, \"count\": 1, \"min\": 1776, \"max\": 1776}, \"Max Batches Seen Between Resets\": {\"sum\": 2.0, \"count\": 1, \"min\": 2, \"max\": 2}, \"Reset Count\": {\"sum\": 3.0, \"count\": 1, \"min\": 3, \"max\": 3}, \"Number of Records Since Last Reset\": {\"sum\": 1776.0, \"count\": 1, \"min\": 1776, \"max\": 1776}, \"Number of Batches Since Last Reset\": {\"sum\": 2.0, \"count\": 1, \"min\": 2, \"max\": 2}}}\u001b[0m\n",
      "\u001b[34m[10/13/2022 14:57:17 INFO 140479147329344] #throughput_metric: host=algo-1, train throughput=14120.95068243858 records/second\u001b[0m\n",
      "\u001b[34m[2022-10-13 14:57:17.067] [tensorio] [info] epoch_stats={\"data_pipeline\": \"/opt/ml/input/data/train\", \"epoch\": 6, \"duration\": 30, \"num_examples\": 2, \"num_bytes\": 92352}\u001b[0m\n",
      "\u001b[34m#metrics {\"StartTime\": 1665673037.0674202, \"EndTime\": 1665673037.0674796, \"Dimensions\": {\"Algorithm\": \"Linear Learner\", \"Host\": \"algo-1\", \"Operation\": \"training\", \"epoch\": 1, \"model\": 0}, \"Metrics\": {\"train_multiclass_cross_entropy_objective\": {\"sum\": 1.086185791015625, \"count\": 1, \"min\": 1.086185791015625, \"max\": 1.086185791015625}}}\u001b[0m\n",
      "\u001b[34m#metrics {\"StartTime\": 1665673037.067563, \"EndTime\": 1665673037.067585, \"Dimensions\": {\"Algorithm\": \"Linear Learner\", \"Host\": \"algo-1\", \"Operation\": \"training\", \"epoch\": 1, \"model\": 1}, \"Metrics\": {\"train_multiclass_cross_entropy_objective\": {\"sum\": 1.09255615234375, \"count\": 1, \"min\": 1.09255615234375, \"max\": 1.09255615234375}}}\u001b[0m\n",
      "\u001b[34m#metrics {\"StartTime\": 1665673037.0676508, \"EndTime\": 1665673037.0676715, \"Dimensions\": {\"Algorithm\": \"Linear Learner\", \"Host\": \"algo-1\", \"Operation\": \"training\", \"epoch\": 1, \"model\": 2}, \"Metrics\": {\"train_multiclass_cross_entropy_objective\": {\"sum\": 1.1436983642578125, \"count\": 1, \"min\": 1.1436983642578125, \"max\": 1.1436983642578125}}}\u001b[0m\n",
      "\u001b[34m#metrics {\"StartTime\": 1665673037.0677311, \"EndTime\": 1665673037.0677497, \"Dimensions\": {\"Algorithm\": \"Linear Learner\", \"Host\": \"algo-1\", \"Operation\": \"training\", \"epoch\": 1, \"model\": 3}, \"Metrics\": {\"train_multiclass_cross_entropy_objective\": {\"sum\": 1.06668115234375, \"count\": 1, \"min\": 1.06668115234375, \"max\": 1.06668115234375}}}\u001b[0m\n",
      "\u001b[34m#metrics {\"StartTime\": 1665673037.067806, \"EndTime\": 1665673037.0678241, \"Dimensions\": {\"Algorithm\": \"Linear Learner\", \"Host\": \"algo-1\", \"Operation\": \"training\", \"epoch\": 1, \"model\": 4}, \"Metrics\": {\"train_multiclass_cross_entropy_objective\": {\"sum\": 1.109125, \"count\": 1, \"min\": 1.109125, \"max\": 1.109125}}}\u001b[0m\n",
      "\u001b[34m#metrics {\"StartTime\": 1665673037.0678797, \"EndTime\": 1665673037.067897, \"Dimensions\": {\"Algorithm\": \"Linear Learner\", \"Host\": \"algo-1\", \"Operation\": \"training\", \"epoch\": 1, \"model\": 5}, \"Metrics\": {\"train_multiclass_cross_entropy_objective\": {\"sum\": 1.0555576171875, \"count\": 1, \"min\": 1.0555576171875, \"max\": 1.0555576171875}}}\u001b[0m\n",
      "\u001b[34m#metrics {\"StartTime\": 1665673037.0679533, \"EndTime\": 1665673037.067971, \"Dimensions\": {\"Algorithm\": \"Linear Learner\", \"Host\": \"algo-1\", \"Operation\": \"training\", \"epoch\": 1, \"model\": 6}, \"Metrics\": {\"train_multiclass_cross_entropy_objective\": {\"sum\": 0.9857898559570313, \"count\": 1, \"min\": 0.9857898559570313, \"max\": 0.9857898559570313}}}\u001b[0m\n",
      "\u001b[34m#metrics {\"StartTime\": 1665673037.068025, \"EndTime\": 1665673037.0680423, \"Dimensions\": {\"Algorithm\": \"Linear Learner\", \"Host\": \"algo-1\", \"Operation\": \"training\", \"epoch\": 1, \"model\": 7}, \"Metrics\": {\"train_multiclass_cross_entropy_objective\": {\"sum\": 1.091218017578125, \"count\": 1, \"min\": 1.091218017578125, \"max\": 1.091218017578125}}}\u001b[0m\n",
      "\u001b[34m#metrics {\"StartTime\": 1665673037.0680952, \"EndTime\": 1665673037.0681133, \"Dimensions\": {\"Algorithm\": \"Linear Learner\", \"Host\": \"algo-1\", \"Operation\": \"training\", \"epoch\": 1, \"model\": 8}, \"Metrics\": {\"train_multiclass_cross_entropy_objective\": {\"sum\": 1.0247166748046874, \"count\": 1, \"min\": 1.0247166748046874, \"max\": 1.0247166748046874}}}\u001b[0m\n",
      "\u001b[34m#metrics {\"StartTime\": 1665673037.0681677, \"EndTime\": 1665673037.0681856, \"Dimensions\": {\"Algorithm\": \"Linear Learner\", \"Host\": \"algo-1\", \"Operation\": \"training\", \"epoch\": 1, \"model\": 9}, \"Metrics\": {\"train_multiclass_cross_entropy_objective\": {\"sum\": 3.1880087890625, \"count\": 1, \"min\": 3.1880087890625, \"max\": 3.1880087890625}}}\u001b[0m\n",
      "\u001b[34m#metrics {\"StartTime\": 1665673037.0682416, \"EndTime\": 1665673037.0682588, \"Dimensions\": {\"Algorithm\": \"Linear Learner\", \"Host\": \"algo-1\", \"Operation\": \"training\", \"epoch\": 1, \"model\": 10}, \"Metrics\": {\"train_multiclass_cross_entropy_objective\": {\"sum\": 1.0830186767578125, \"count\": 1, \"min\": 1.0830186767578125, \"max\": 1.0830186767578125}}}\u001b[0m\n",
      "\u001b[34m#metrics {\"StartTime\": 1665673037.0683138, \"EndTime\": 1665673037.0683312, \"Dimensions\": {\"Algorithm\": \"Linear Learner\", \"Host\": \"algo-1\", \"Operation\": \"training\", \"epoch\": 1, \"model\": 11}, \"Metrics\": {\"train_multiclass_cross_entropy_objective\": {\"sum\": 1.89115087890625, \"count\": 1, \"min\": 1.89115087890625, \"max\": 1.89115087890625}}}\u001b[0m\n",
      "\u001b[34m[10/13/2022 14:57:17 INFO 140479147329344] #quality_metric: host=algo-1, epoch=1, train multiclass_cross_entropy_objective <loss>=1.086185791015625\u001b[0m\n",
      "\u001b[34m[2022-10-13 14:57:17.092] [tensorio] [info] epoch_stats={\"data_pipeline\": \"/opt/ml/input/data/validation\", \"epoch\": 5, \"duration\": 13, \"num_examples\": 1, \"num_bytes\": 11544}\u001b[0m\n",
      "\u001b[34m#metrics {\"StartTime\": 1665673037.0950146, \"EndTime\": 1665673037.095047, \"Dimensions\": {\"Algorithm\": \"Linear Learner\", \"Host\": \"algo-1\", \"Operation\": \"training\", \"epoch\": 1, \"model\": 0}, \"Metrics\": {\"validation_multiclass_cross_entropy_objective\": {\"sum\": 1.0596500431095157, \"count\": 1, \"min\": 1.0596500431095157, \"max\": 1.0596500431095157}}}\u001b[0m\n",
      "\u001b[34m#metrics {\"StartTime\": 1665673037.0951114, \"EndTime\": 1665673037.0951314, \"Dimensions\": {\"Algorithm\": \"Linear Learner\", \"Host\": \"algo-1\", \"Operation\": \"training\", \"epoch\": 1, \"model\": 1}, \"Metrics\": {\"validation_multiclass_cross_entropy_objective\": {\"sum\": 1.0570338481181376, \"count\": 1, \"min\": 1.0570338481181376, \"max\": 1.0570338481181376}}}\u001b[0m\n",
      "\u001b[34m#metrics {\"StartTime\": 1665673037.095214, \"EndTime\": 1665673037.095237, \"Dimensions\": {\"Algorithm\": \"Linear Learner\", \"Host\": \"algo-1\", \"Operation\": \"training\", \"epoch\": 1, \"model\": 2}, \"Metrics\": {\"validation_multiclass_cross_entropy_objective\": {\"sum\": 1.0374676128765483, \"count\": 1, \"min\": 1.0374676128765483, \"max\": 1.0374676128765483}}}\u001b[0m\n",
      "\u001b[34m#metrics {\"StartTime\": 1665673037.095299, \"EndTime\": 1665673037.0953186, \"Dimensions\": {\"Algorithm\": \"Linear Learner\", \"Host\": \"algo-1\", \"Operation\": \"training\", \"epoch\": 1, \"model\": 3}, \"Metrics\": {\"validation_multiclass_cross_entropy_objective\": {\"sum\": 1.0151929425763655, \"count\": 1, \"min\": 1.0151929425763655, \"max\": 1.0151929425763655}}}\u001b[0m\n",
      "\u001b[34m#metrics {\"StartTime\": 1665673037.095376, \"EndTime\": 1665673037.0953934, \"Dimensions\": {\"Algorithm\": \"Linear Learner\", \"Host\": \"algo-1\", \"Operation\": \"training\", \"epoch\": 1, \"model\": 4}, \"Metrics\": {\"validation_multiclass_cross_entropy_objective\": {\"sum\": 1.0885723217113599, \"count\": 1, \"min\": 1.0885723217113599, \"max\": 1.0885723217113599}}}\u001b[0m\n",
      "\u001b[34m#metrics {\"StartTime\": 1665673037.0954502, \"EndTime\": 1665673037.095467, \"Dimensions\": {\"Algorithm\": \"Linear Learner\", \"Host\": \"algo-1\", \"Operation\": \"training\", \"epoch\": 1, \"model\": 5}, \"Metrics\": {\"validation_multiclass_cross_entropy_objective\": {\"sum\": 1.0263055337441933, \"count\": 1, \"min\": 1.0263055337441933, \"max\": 1.0263055337441933}}}\u001b[0m\n",
      "\u001b[34m#metrics {\"StartTime\": 1665673037.0955276, \"EndTime\": 1665673037.0955458, \"Dimensions\": {\"Algorithm\": \"Linear Learner\", \"Host\": \"algo-1\", \"Operation\": \"training\", \"epoch\": 1, \"model\": 6}, \"Metrics\": {\"validation_multiclass_cross_entropy_objective\": {\"sum\": 0.9337130709811374, \"count\": 1, \"min\": 0.9337130709811374, \"max\": 0.9337130709811374}}}\u001b[0m\n",
      "\u001b[34m#metrics {\"StartTime\": 1665673037.0956113, \"EndTime\": 1665673037.0956311, \"Dimensions\": {\"Algorithm\": \"Linear Learner\", \"Host\": \"algo-1\", \"Operation\": \"training\", \"epoch\": 1, \"model\": 7}, \"Metrics\": {\"validation_multiclass_cross_entropy_objective\": {\"sum\": 1.0735106597075592, \"count\": 1, \"min\": 1.0735106597075592, \"max\": 1.0735106597075592}}}\u001b[0m\n",
      "\u001b[34m#metrics {\"StartTime\": 1665673037.0956974, \"EndTime\": 1665673037.095715, \"Dimensions\": {\"Algorithm\": \"Linear Learner\", \"Host\": \"algo-1\", \"Operation\": \"training\", \"epoch\": 1, \"model\": 8}, \"Metrics\": {\"validation_multiclass_cross_entropy_objective\": {\"sum\": 0.9513241879574887, \"count\": 1, \"min\": 0.9513241879574887, \"max\": 0.9513241879574887}}}\u001b[0m\n",
      "\u001b[34m#metrics {\"StartTime\": 1665673037.0957716, \"EndTime\": 1665673037.0957901, \"Dimensions\": {\"Algorithm\": \"Linear Learner\", \"Host\": \"algo-1\", \"Operation\": \"training\", \"epoch\": 1, \"model\": 9}, \"Metrics\": {\"validation_multiclass_cross_entropy_objective\": {\"sum\": 0.7848566416147593, \"count\": 1, \"min\": 0.7848566416147593, \"max\": 0.7848566416147593}}}\u001b[0m\n",
      "\u001b[34m#metrics {\"StartTime\": 1665673037.0958455, \"EndTime\": 1665673037.095862, \"Dimensions\": {\"Algorithm\": \"Linear Learner\", \"Host\": \"algo-1\", \"Operation\": \"training\", \"epoch\": 1, \"model\": 10}, \"Metrics\": {\"validation_multiclass_cross_entropy_objective\": {\"sum\": 1.0707135587125212, \"count\": 1, \"min\": 1.0707135587125212, \"max\": 1.0707135587125212}}}\u001b[0m\n",
      "\u001b[34m#metrics {\"StartTime\": 1665673037.0959175, \"EndTime\": 1665673037.0959353, \"Dimensions\": {\"Algorithm\": \"Linear Learner\", \"Host\": \"algo-1\", \"Operation\": \"training\", \"epoch\": 1, \"model\": 11}, \"Metrics\": {\"validation_multiclass_cross_entropy_objective\": {\"sum\": 0.8712932139903575, \"count\": 1, \"min\": 0.8712932139903575, \"max\": 0.8712932139903575}}}\u001b[0m\n",
      "\u001b[34m[10/13/2022 14:57:17 INFO 140479147329344] #quality_metric: host=algo-1, epoch=1, validation multiclass_cross_entropy_objective <loss>=1.0596500431095157\u001b[0m\n",
      "\u001b[34m[10/13/2022 14:57:17 INFO 140479147329344] #early_stopping_criteria_metric: host=algo-1, epoch=1, criteria=multiclass_cross_entropy_objective, value=0.7848566416147593\u001b[0m\n",
      "\u001b[34m[10/13/2022 14:57:17 INFO 140479147329344] Epoch 1: Loss improved. Updating best model\u001b[0m\n",
      "\u001b[34m[10/13/2022 14:57:17 INFO 140479147329344] Saving model for epoch: 1\u001b[0m\n",
      "\u001b[34m[10/13/2022 14:57:17 INFO 140479147329344] Saved checkpoint to \"/tmp/tmpqvxm7kou/mx-mod-0000.params\"\u001b[0m\n",
      "\u001b[34m[10/13/2022 14:57:17 INFO 140479147329344] #progress_metric: host=algo-1, completed 13.333333333333334 % of epochs\u001b[0m\n",
      "\u001b[34m#metrics {\"StartTime\": 1665673037.0369997, \"EndTime\": 1665673037.1076698, \"Dimensions\": {\"Algorithm\": \"Linear Learner\", \"Host\": \"algo-1\", \"Operation\": \"training\", \"epoch\": 1, \"Meta\": \"training_data_iter\"}, \"Metrics\": {\"Total Records Seen\": {\"sum\": 6328.0, \"count\": 1, \"min\": 6328, \"max\": 6328}, \"Total Batches Seen\": {\"sum\": 7.0, \"count\": 1, \"min\": 7, \"max\": 7}, \"Max Records Seen Between Resets\": {\"sum\": 1776.0, \"count\": 1, \"min\": 1776, \"max\": 1776}, \"Max Batches Seen Between Resets\": {\"sum\": 2.0, \"count\": 1, \"min\": 2, \"max\": 2}, \"Reset Count\": {\"sum\": 4.0, \"count\": 1, \"min\": 4, \"max\": 4}, \"Number of Records Since Last Reset\": {\"sum\": 1776.0, \"count\": 1, \"min\": 1776, \"max\": 1776}, \"Number of Batches Since Last Reset\": {\"sum\": 2.0, \"count\": 1, \"min\": 2, \"max\": 2}}}\u001b[0m\n",
      "\u001b[34m[10/13/2022 14:57:17 INFO 140479147329344] #throughput_metric: host=algo-1, train throughput=25077.290996313688 records/second\u001b[0m\n",
      "\u001b[34m[2022-10-13 14:57:17.130] [tensorio] [info] epoch_stats={\"data_pipeline\": \"/opt/ml/input/data/train\", \"epoch\": 8, \"duration\": 21, \"num_examples\": 2, \"num_bytes\": 92352}\u001b[0m\n",
      "\u001b[34m#metrics {\"StartTime\": 1665673037.1301048, \"EndTime\": 1665673037.1301558, \"Dimensions\": {\"Algorithm\": \"Linear Learner\", \"Host\": \"algo-1\", \"Operation\": \"training\", \"epoch\": 2, \"model\": 0}, \"Metrics\": {\"train_multiclass_cross_entropy_objective\": {\"sum\": 1.0606181640625, \"count\": 1, \"min\": 1.0606181640625, \"max\": 1.0606181640625}}}\u001b[0m\n",
      "\u001b[34m#metrics {\"StartTime\": 1665673037.1302195, \"EndTime\": 1665673037.1302392, \"Dimensions\": {\"Algorithm\": \"Linear Learner\", \"Host\": \"algo-1\", \"Operation\": \"training\", \"epoch\": 2, \"model\": 1}, \"Metrics\": {\"train_multiclass_cross_entropy_objective\": {\"sum\": 1.0572132568359376, \"count\": 1, \"min\": 1.0572132568359376, \"max\": 1.0572132568359376}}}\u001b[0m\n",
      "\u001b[34m#metrics {\"StartTime\": 1665673037.1303, \"EndTime\": 1665673037.1303184, \"Dimensions\": {\"Algorithm\": \"Linear Learner\", \"Host\": \"algo-1\", \"Operation\": \"training\", \"epoch\": 2, \"model\": 2}, \"Metrics\": {\"train_multiclass_cross_entropy_objective\": {\"sum\": 1.0368223876953124, \"count\": 1, \"min\": 1.0368223876953124, \"max\": 1.0368223876953124}}}\u001b[0m\n",
      "\u001b[34m#metrics {\"StartTime\": 1665673037.1303756, \"EndTime\": 1665673037.1303937, \"Dimensions\": {\"Algorithm\": \"Linear Learner\", \"Host\": \"algo-1\", \"Operation\": \"training\", \"epoch\": 2, \"model\": 3}, \"Metrics\": {\"train_multiclass_cross_entropy_objective\": {\"sum\": 1.01776220703125, \"count\": 1, \"min\": 1.01776220703125, \"max\": 1.01776220703125}}}\u001b[0m\n",
      "\u001b[34m#metrics {\"StartTime\": 1665673037.1304486, \"EndTime\": 1665673037.1304657, \"Dimensions\": {\"Algorithm\": \"Linear Learner\", \"Host\": \"algo-1\", \"Operation\": \"training\", \"epoch\": 2, \"model\": 4}, \"Metrics\": {\"train_multiclass_cross_entropy_objective\": {\"sum\": 1.087057373046875, \"count\": 1, \"min\": 1.087057373046875, \"max\": 1.087057373046875}}}\u001b[0m\n",
      "\u001b[34m#metrics {\"StartTime\": 1665673037.1305199, \"EndTime\": 1665673037.1305368, \"Dimensions\": {\"Algorithm\": \"Linear Learner\", \"Host\": \"algo-1\", \"Operation\": \"training\", \"epoch\": 2, \"model\": 5}, \"Metrics\": {\"train_multiclass_cross_entropy_objective\": {\"sum\": 1.0293048095703126, \"count\": 1, \"min\": 1.0293048095703126, \"max\": 1.0293048095703126}}}\u001b[0m\n",
      "\u001b[34m#metrics {\"StartTime\": 1665673037.1305895, \"EndTime\": 1665673037.1306067, \"Dimensions\": {\"Algorithm\": \"Linear Learner\", \"Host\": \"algo-1\", \"Operation\": \"training\", \"epoch\": 2, \"model\": 6}, \"Metrics\": {\"train_multiclass_cross_entropy_objective\": {\"sum\": 0.9412068481445313, \"count\": 1, \"min\": 0.9412068481445313, \"max\": 0.9412068481445313}}}\u001b[0m\n",
      "\u001b[34m#metrics {\"StartTime\": 1665673037.13066, \"EndTime\": 1665673037.1306767, \"Dimensions\": {\"Algorithm\": \"Linear Learner\", \"Host\": \"algo-1\", \"Operation\": \"training\", \"epoch\": 2, \"model\": 7}, \"Metrics\": {\"train_multiclass_cross_entropy_objective\": {\"sum\": 1.07357568359375, \"count\": 1, \"min\": 1.07357568359375, \"max\": 1.07357568359375}}}\u001b[0m\n",
      "\u001b[34m#metrics {\"StartTime\": 1665673037.130729, \"EndTime\": 1665673037.1307456, \"Dimensions\": {\"Algorithm\": \"Linear Learner\", \"Host\": \"algo-1\", \"Operation\": \"training\", \"epoch\": 2, \"model\": 8}, \"Metrics\": {\"train_multiclass_cross_entropy_objective\": {\"sum\": 0.9560392456054687, \"count\": 1, \"min\": 0.9560392456054687, \"max\": 0.9560392456054687}}}\u001b[0m\n",
      "\u001b[34m#metrics {\"StartTime\": 1665673037.1307979, \"EndTime\": 1665673037.1308153, \"Dimensions\": {\"Algorithm\": \"Linear Learner\", \"Host\": \"algo-1\", \"Operation\": \"training\", \"epoch\": 2, \"model\": 9}, \"Metrics\": {\"train_multiclass_cross_entropy_objective\": {\"sum\": 0.8069232788085937, \"count\": 1, \"min\": 0.8069232788085937, \"max\": 0.8069232788085937}}}\u001b[0m\n",
      "\u001b[34m#metrics {\"StartTime\": 1665673037.130871, \"EndTime\": 1665673037.1309292, \"Dimensions\": {\"Algorithm\": \"Linear Learner\", \"Host\": \"algo-1\", \"Operation\": \"training\", \"epoch\": 2, \"model\": 10}, \"Metrics\": {\"train_multiclass_cross_entropy_objective\": {\"sum\": 1.070302490234375, \"count\": 1, \"min\": 1.070302490234375, \"max\": 1.070302490234375}}}\u001b[0m\n",
      "\u001b[34m#metrics {\"StartTime\": 1665673037.1309974, \"EndTime\": 1665673037.1310174, \"Dimensions\": {\"Algorithm\": \"Linear Learner\", \"Host\": \"algo-1\", \"Operation\": \"training\", \"epoch\": 2, \"model\": 11}, \"Metrics\": {\"train_multiclass_cross_entropy_objective\": {\"sum\": 0.8821119995117187, \"count\": 1, \"min\": 0.8821119995117187, \"max\": 0.8821119995117187}}}\u001b[0m\n",
      "\u001b[34m[10/13/2022 14:57:17 INFO 140479147329344] #quality_metric: host=algo-1, epoch=2, train multiclass_cross_entropy_objective <loss>=1.0606181640625\u001b[0m\n",
      "\u001b[34m[2022-10-13 14:57:17.157] [tensorio] [info] epoch_stats={\"data_pipeline\": \"/opt/ml/input/data/validation\", \"epoch\": 8, \"duration\": 15, \"num_examples\": 1, \"num_bytes\": 11544}\u001b[0m\n",
      "\u001b[34m#metrics {\"StartTime\": 1665673037.1617007, \"EndTime\": 1665673037.1617508, \"Dimensions\": {\"Algorithm\": \"Linear Learner\", \"Host\": \"algo-1\", \"Operation\": \"training\", \"epoch\": 2, \"model\": 0}, \"Metrics\": {\"validation_multiclass_cross_entropy_objective\": {\"sum\": 1.0409196733354449, \"count\": 1, \"min\": 1.0409196733354449, \"max\": 1.0409196733354449}}}\u001b[0m\n",
      "\u001b[34m#metrics {\"StartTime\": 1665673037.1618392, \"EndTime\": 1665673037.1618867, \"Dimensions\": {\"Algorithm\": \"Linear Learner\", \"Host\": \"algo-1\", \"Operation\": \"training\", \"epoch\": 2, \"model\": 1}, \"Metrics\": {\"validation_multiclass_cross_entropy_objective\": {\"sum\": 1.0350620166675464, \"count\": 1, \"min\": 1.0350620166675464, \"max\": 1.0350620166675464}}}\u001b[0m\n",
      "\u001b[34m#metrics {\"StartTime\": 1665673037.161952, \"EndTime\": 1665673037.16197, \"Dimensions\": {\"Algorithm\": \"Linear Learner\", \"Host\": \"algo-1\", \"Operation\": \"training\", \"epoch\": 2, \"model\": 2}, \"Metrics\": {\"validation_multiclass_cross_entropy_objective\": {\"sum\": 1.0066045812658362, \"count\": 1, \"min\": 1.0066045812658362, \"max\": 1.0066045812658362}}}\u001b[0m\n",
      "\u001b[34m#metrics {\"StartTime\": 1665673037.1620345, \"EndTime\": 1665673037.1620696, \"Dimensions\": {\"Algorithm\": \"Linear Learner\", \"Host\": \"algo-1\", \"Operation\": \"training\", \"epoch\": 2, \"model\": 3}, \"Metrics\": {\"validation_multiclass_cross_entropy_objective\": {\"sum\": 0.9919012258718679, \"count\": 1, \"min\": 0.9919012258718679, \"max\": 0.9919012258718679}}}\u001b[0m\n",
      "\u001b[34m#metrics {\"StartTime\": 1665673037.1621537, \"EndTime\": 1665673037.1621718, \"Dimensions\": {\"Algorithm\": \"Linear Learner\", \"Host\": \"algo-1\", \"Operation\": \"training\", \"epoch\": 2, \"model\": 4}, \"Metrics\": {\"validation_multiclass_cross_entropy_objective\": {\"sum\": 1.0670623091964033, \"count\": 1, \"min\": 1.0670623091964033, \"max\": 1.0670623091964033}}}\u001b[0m\n",
      "\u001b[34m#metrics {\"StartTime\": 1665673037.1622238, \"EndTime\": 1665673037.1622388, \"Dimensions\": {\"Algorithm\": \"Linear Learner\", \"Host\": \"algo-1\", \"Operation\": \"training\", \"epoch\": 2, \"model\": 5}, \"Metrics\": {\"validation_multiclass_cross_entropy_objective\": {\"sum\": 1.0052759668848537, \"count\": 1, \"min\": 1.0052759668848537, \"max\": 1.0052759668848537}}}\u001b[0m\n",
      "\u001b[34m#metrics {\"StartTime\": 1665673037.1623237, \"EndTime\": 1665673037.1623423, \"Dimensions\": {\"Algorithm\": \"Linear Learner\", \"Host\": \"algo-1\", \"Operation\": \"training\", \"epoch\": 2, \"model\": 6}, \"Metrics\": {\"validation_multiclass_cross_entropy_objective\": {\"sum\": 0.9063583236556869, \"count\": 1, \"min\": 0.9063583236556869, \"max\": 0.9063583236556869}}}\u001b[0m\n",
      "\u001b[34m#metrics {\"StartTime\": 1665673037.1624324, \"EndTime\": 1665673037.16245, \"Dimensions\": {\"Algorithm\": \"Linear Learner\", \"Host\": \"algo-1\", \"Operation\": \"training\", \"epoch\": 2, \"model\": 7}, \"Metrics\": {\"validation_multiclass_cross_entropy_objective\": {\"sum\": 1.05790545489337, \"count\": 1, \"min\": 1.05790545489337, \"max\": 1.05790545489337}}}\u001b[0m\n",
      "\u001b[34m#metrics {\"StartTime\": 1665673037.1624992, \"EndTime\": 1665673037.162514, \"Dimensions\": {\"Algorithm\": \"Linear Learner\", \"Host\": \"algo-1\", \"Operation\": \"training\", \"epoch\": 2, \"model\": 8}, \"Metrics\": {\"validation_multiclass_cross_entropy_objective\": {\"sum\": 0.8919179418065526, \"count\": 1, \"min\": 0.8919179418065526, \"max\": 0.8919179418065526}}}\u001b[0m\n",
      "\u001b[34m#metrics {\"StartTime\": 1665673037.1625996, \"EndTime\": 1665673037.1626177, \"Dimensions\": {\"Algorithm\": \"Linear Learner\", \"Host\": \"algo-1\", \"Operation\": \"training\", \"epoch\": 2, \"model\": 9}, \"Metrics\": {\"validation_multiclass_cross_entropy_objective\": {\"sum\": 0.9264925020235079, \"count\": 1, \"min\": 0.9264925020235079, \"max\": 0.9264925020235079}}}\u001b[0m\n",
      "\u001b[34m#metrics {\"StartTime\": 1665673037.1626973, \"EndTime\": 1665673037.162716, \"Dimensions\": {\"Algorithm\": \"Linear Learner\", \"Host\": \"algo-1\", \"Operation\": \"training\", \"epoch\": 2, \"model\": 10}, \"Metrics\": {\"validation_multiclass_cross_entropy_objective\": {\"sum\": 1.0575632318720087, \"count\": 1, \"min\": 1.0575632318720087, \"max\": 1.0575632318720087}}}\u001b[0m\n",
      "\u001b[34m#metrics {\"StartTime\": 1665673037.1627705, \"EndTime\": 1665673037.1627853, \"Dimensions\": {\"Algorithm\": \"Linear Learner\", \"Host\": \"algo-1\", \"Operation\": \"training\", \"epoch\": 2, \"model\": 11}, \"Metrics\": {\"validation_multiclass_cross_entropy_objective\": {\"sum\": 0.8339095931869369, \"count\": 1, \"min\": 0.8339095931869369, \"max\": 0.8339095931869369}}}\u001b[0m\n",
      "\u001b[34m[10/13/2022 14:57:17 INFO 140479147329344] #quality_metric: host=algo-1, epoch=2, validation multiclass_cross_entropy_objective <loss>=1.0409196733354449\u001b[0m\n",
      "\u001b[34m[10/13/2022 14:57:17 INFO 140479147329344] #early_stopping_criteria_metric: host=algo-1, epoch=2, criteria=multiclass_cross_entropy_objective, value=0.8339095931869369\u001b[0m\n",
      "\u001b[34m[10/13/2022 14:57:17 INFO 140479147329344] Saving model for epoch: 2\u001b[0m\n",
      "\u001b[34m[10/13/2022 14:57:17 INFO 140479147329344] Saved checkpoint to \"/tmp/tmpqdl7f42x/mx-mod-0000.params\"\u001b[0m\n",
      "\u001b[34m[10/13/2022 14:57:17 INFO 140479147329344] #progress_metric: host=algo-1, completed 20.0 % of epochs\u001b[0m\n",
      "\u001b[34m#metrics {\"StartTime\": 1665673037.1079922, \"EndTime\": 1665673037.1731956, \"Dimensions\": {\"Algorithm\": \"Linear Learner\", \"Host\": \"algo-1\", \"Operation\": \"training\", \"epoch\": 2, \"Meta\": \"training_data_iter\"}, \"Metrics\": {\"Total Records Seen\": {\"sum\": 8104.0, \"count\": 1, \"min\": 8104, \"max\": 8104}, \"Total Batches Seen\": {\"sum\": 9.0, \"count\": 1, \"min\": 9, \"max\": 9}, \"Max Records Seen Between Resets\": {\"sum\": 1776.0, \"count\": 1, \"min\": 1776, \"max\": 1776}, \"Max Batches Seen Between Resets\": {\"sum\": 2.0, \"count\": 1, \"min\": 2, \"max\": 2}, \"Reset Count\": {\"sum\": 5.0, \"count\": 1, \"min\": 5, \"max\": 5}, \"Number of Records Since Last Reset\": {\"sum\": 1776.0, \"count\": 1, \"min\": 1776, \"max\": 1776}, \"Number of Batches Since Last Reset\": {\"sum\": 2.0, \"count\": 1, \"min\": 2, \"max\": 2}}}\u001b[0m\n",
      "\u001b[34m[10/13/2022 14:57:17 INFO 140479147329344] #throughput_metric: host=algo-1, train throughput=27192.0943553951 records/second\u001b[0m\n",
      "\u001b[34m[2022-10-13 14:57:17.195] [tensorio] [info] epoch_stats={\"data_pipeline\": \"/opt/ml/input/data/train\", \"epoch\": 10, \"duration\": 21, \"num_examples\": 2, \"num_bytes\": 92352}\u001b[0m\n",
      "\u001b[34m#metrics {\"StartTime\": 1665673037.1956062, \"EndTime\": 1665673037.1956658, \"Dimensions\": {\"Algorithm\": \"Linear Learner\", \"Host\": \"algo-1\", \"Operation\": \"training\", \"epoch\": 3, \"model\": 0}, \"Metrics\": {\"train_multiclass_cross_entropy_objective\": {\"sum\": 1.0444185791015625, \"count\": 1, \"min\": 1.0444185791015625, \"max\": 1.0444185791015625}}}\u001b[0m\n",
      "\u001b[34m#metrics {\"StartTime\": 1665673037.1957471, \"EndTime\": 1665673037.1957688, \"Dimensions\": {\"Algorithm\": \"Linear Learner\", \"Host\": \"algo-1\", \"Operation\": \"training\", \"epoch\": 3, \"model\": 1}, \"Metrics\": {\"train_multiclass_cross_entropy_objective\": {\"sum\": 1.0386099853515625, \"count\": 1, \"min\": 1.0386099853515625, \"max\": 1.0386099853515625}}}\u001b[0m\n",
      "\u001b[34m#metrics {\"StartTime\": 1665673037.1958308, \"EndTime\": 1665673037.195851, \"Dimensions\": {\"Algorithm\": \"Linear Learner\", \"Host\": \"algo-1\", \"Operation\": \"training\", \"epoch\": 3, \"model\": 2}, \"Metrics\": {\"train_multiclass_cross_entropy_objective\": {\"sum\": 1.0124017333984374, \"count\": 1, \"min\": 1.0124017333984374, \"max\": 1.0124017333984374}}}\u001b[0m\n",
      "\u001b[34m#metrics {\"StartTime\": 1665673037.1959083, \"EndTime\": 1665673037.1959264, \"Dimensions\": {\"Algorithm\": \"Linear Learner\", \"Host\": \"algo-1\", \"Operation\": \"training\", \"epoch\": 3, \"model\": 3}, \"Metrics\": {\"train_multiclass_cross_entropy_objective\": {\"sum\": 0.997985595703125, \"count\": 1, \"min\": 0.997985595703125, \"max\": 0.997985595703125}}}\u001b[0m\n",
      "\u001b[34m#metrics {\"StartTime\": 1665673037.1959848, \"EndTime\": 1665673037.196002, \"Dimensions\": {\"Algorithm\": \"Linear Learner\", \"Host\": \"algo-1\", \"Operation\": \"training\", \"epoch\": 3, \"model\": 4}, \"Metrics\": {\"train_multiclass_cross_entropy_objective\": {\"sum\": 1.06651123046875, \"count\": 1, \"min\": 1.06651123046875, \"max\": 1.06651123046875}}}\u001b[0m\n",
      "\u001b[34m#metrics {\"StartTime\": 1665673037.1960561, \"EndTime\": 1665673037.1960728, \"Dimensions\": {\"Algorithm\": \"Linear Learner\", \"Host\": \"algo-1\", \"Operation\": \"training\", \"epoch\": 3, \"model\": 5}, \"Metrics\": {\"train_multiclass_cross_entropy_objective\": {\"sum\": 1.0092876586914064, \"count\": 1, \"min\": 1.0092876586914064, \"max\": 1.0092876586914064}}}\u001b[0m\n",
      "\u001b[34m#metrics {\"StartTime\": 1665673037.1961255, \"EndTime\": 1665673037.1961432, \"Dimensions\": {\"Algorithm\": \"Linear Learner\", \"Host\": \"algo-1\", \"Operation\": \"training\", \"epoch\": 3, \"model\": 6}, \"Metrics\": {\"train_multiclass_cross_entropy_objective\": {\"sum\": 0.91410498046875, \"count\": 1, \"min\": 0.91410498046875, \"max\": 0.91410498046875}}}\u001b[0m\n",
      "\u001b[34m#metrics {\"StartTime\": 1665673037.1961966, \"EndTime\": 1665673037.1962137, \"Dimensions\": {\"Algorithm\": \"Linear Learner\", \"Host\": \"algo-1\", \"Operation\": \"training\", \"epoch\": 3, \"model\": 7}, \"Metrics\": {\"train_multiclass_cross_entropy_objective\": {\"sum\": 1.05976513671875, \"count\": 1, \"min\": 1.05976513671875, \"max\": 1.05976513671875}}}\u001b[0m\n",
      "\u001b[34m#metrics {\"StartTime\": 1665673037.1962674, \"EndTime\": 1665673037.1962836, \"Dimensions\": {\"Algorithm\": \"Linear Learner\", \"Host\": \"algo-1\", \"Operation\": \"training\", \"epoch\": 3, \"model\": 8}, \"Metrics\": {\"train_multiclass_cross_entropy_objective\": {\"sum\": 0.8989544677734375, \"count\": 1, \"min\": 0.8989544677734375, \"max\": 0.8989544677734375}}}\u001b[0m\n",
      "\u001b[34m#metrics {\"StartTime\": 1665673037.1963367, \"EndTime\": 1665673037.1963542, \"Dimensions\": {\"Algorithm\": \"Linear Learner\", \"Host\": \"algo-1\", \"Operation\": \"training\", \"epoch\": 3, \"model\": 9}, \"Metrics\": {\"train_multiclass_cross_entropy_objective\": {\"sum\": 0.9466784057617188, \"count\": 1, \"min\": 0.9466784057617188, \"max\": 0.9466784057617188}}}\u001b[0m\n",
      "\u001b[34m#metrics {\"StartTime\": 1665673037.1964073, \"EndTime\": 1665673037.1964235, \"Dimensions\": {\"Algorithm\": \"Linear Learner\", \"Host\": \"algo-1\", \"Operation\": \"training\", \"epoch\": 3, \"model\": 10}, \"Metrics\": {\"train_multiclass_cross_entropy_objective\": {\"sum\": 1.0585916748046875, \"count\": 1, \"min\": 1.0585916748046875, \"max\": 1.0585916748046875}}}\u001b[0m\n",
      "\u001b[34m#metrics {\"StartTime\": 1665673037.1964834, \"EndTime\": 1665673037.1964998, \"Dimensions\": {\"Algorithm\": \"Linear Learner\", \"Host\": \"algo-1\", \"Operation\": \"training\", \"epoch\": 3, \"model\": 11}, \"Metrics\": {\"train_multiclass_cross_entropy_objective\": {\"sum\": 0.8438983764648438, \"count\": 1, \"min\": 0.8438983764648438, \"max\": 0.8438983764648438}}}\u001b[0m\n",
      "\u001b[34m[10/13/2022 14:57:17 INFO 140479147329344] #quality_metric: host=algo-1, epoch=3, train multiclass_cross_entropy_objective <loss>=1.0444185791015625\u001b[0m\n",
      "\u001b[34m[2022-10-13 14:57:17.219] [tensorio] [info] epoch_stats={\"data_pipeline\": \"/opt/ml/input/data/validation\", \"epoch\": 11, \"duration\": 9, \"num_examples\": 1, \"num_bytes\": 11544}\u001b[0m\n",
      "\u001b[34m#metrics {\"StartTime\": 1665673037.223013, \"EndTime\": 1665673037.2230463, \"Dimensions\": {\"Algorithm\": \"Linear Learner\", \"Host\": \"algo-1\", \"Operation\": \"training\", \"epoch\": 3, \"model\": 0}, \"Metrics\": {\"validation_multiclass_cross_entropy_objective\": {\"sum\": 1.0270592629372537, \"count\": 1, \"min\": 1.0270592629372537, \"max\": 1.0270592629372537}}}\u001b[0m\n",
      "\u001b[34m#metrics {\"StartTime\": 1665673037.223125, \"EndTime\": 1665673037.2231462, \"Dimensions\": {\"Algorithm\": \"Linear Learner\", \"Host\": \"algo-1\", \"Operation\": \"training\", \"epoch\": 3, \"model\": 1}, \"Metrics\": {\"validation_multiclass_cross_entropy_objective\": {\"sum\": 1.019809963466885, \"count\": 1, \"min\": 1.019809963466885, \"max\": 1.019809963466885}}}\u001b[0m\n",
      "\u001b[34m#metrics {\"StartTime\": 1665673037.2232394, \"EndTime\": 1665673037.2232594, \"Dimensions\": {\"Algorithm\": \"Linear Learner\", \"Host\": \"algo-1\", \"Operation\": \"training\", \"epoch\": 3, \"model\": 2}, \"Metrics\": {\"validation_multiclass_cross_entropy_objective\": {\"sum\": 0.9941092138891822, \"count\": 1, \"min\": 0.9941092138891822, \"max\": 0.9941092138891822}}}\u001b[0m\n",
      "\u001b[34m#metrics {\"StartTime\": 1665673037.2233179, \"EndTime\": 1665673037.2233343, \"Dimensions\": {\"Algorithm\": \"Linear Learner\", \"Host\": \"algo-1\", \"Operation\": \"training\", \"epoch\": 3, \"model\": 3}, \"Metrics\": {\"validation_multiclass_cross_entropy_objective\": {\"sum\": 0.9777897327869862, \"count\": 1, \"min\": 0.9777897327869862, \"max\": 0.9777897327869862}}}\u001b[0m\n",
      "\u001b[34m#metrics {\"StartTime\": 1665673037.2233894, \"EndTime\": 1665673037.2234075, \"Dimensions\": {\"Algorithm\": \"Linear Learner\", \"Host\": \"algo-1\", \"Operation\": \"training\", \"epoch\": 3, \"model\": 4}, \"Metrics\": {\"validation_multiclass_cross_entropy_objective\": {\"sum\": 1.046907510843363, \"count\": 1, \"min\": 1.046907510843363, \"max\": 1.046907510843363}}}\u001b[0m\n",
      "\u001b[34m#metrics {\"StartTime\": 1665673037.2234972, \"EndTime\": 1665673037.223518, \"Dimensions\": {\"Algorithm\": \"Linear Learner\", \"Host\": \"algo-1\", \"Operation\": \"training\", \"epoch\": 3, \"model\": 5}, \"Metrics\": {\"validation_multiclass_cross_entropy_objective\": {\"sum\": 0.9883912232545045, \"count\": 1, \"min\": 0.9883912232545045, \"max\": 0.9883912232545045}}}\u001b[0m\n",
      "\u001b[34m#metrics {\"StartTime\": 1665673037.2235768, \"EndTime\": 1665673037.2235932, \"Dimensions\": {\"Algorithm\": \"Linear Learner\", \"Host\": \"algo-1\", \"Operation\": \"training\", \"epoch\": 3, \"model\": 6}, \"Metrics\": {\"validation_multiclass_cross_entropy_objective\": {\"sum\": 0.886699779613598, \"count\": 1, \"min\": 0.886699779613598, \"max\": 0.886699779613598}}}\u001b[0m\n",
      "\u001b[34m#metrics {\"StartTime\": 1665673037.2236483, \"EndTime\": 1665673037.2236645, \"Dimensions\": {\"Algorithm\": \"Linear Learner\", \"Host\": \"algo-1\", \"Operation\": \"training\", \"epoch\": 3, \"model\": 7}, \"Metrics\": {\"validation_multiclass_cross_entropy_objective\": {\"sum\": 1.0451556368991062, \"count\": 1, \"min\": 1.0451556368991062, \"max\": 1.0451556368991062}}}\u001b[0m\n",
      "\u001b[34m#metrics {\"StartTime\": 1665673037.2237196, \"EndTime\": 1665673037.223738, \"Dimensions\": {\"Algorithm\": \"Linear Learner\", \"Host\": \"algo-1\", \"Operation\": \"training\", \"epoch\": 3, \"model\": 8}, \"Metrics\": {\"validation_multiclass_cross_entropy_objective\": {\"sum\": 0.8441734657631265, \"count\": 1, \"min\": 0.8441734657631265, \"max\": 0.8441734657631265}}}\u001b[0m\n",
      "\u001b[34m#metrics {\"StartTime\": 1665673037.223792, \"EndTime\": 1665673037.2238092, \"Dimensions\": {\"Algorithm\": \"Linear Learner\", \"Host\": \"algo-1\", \"Operation\": \"training\", \"epoch\": 3, \"model\": 9}, \"Metrics\": {\"validation_multiclass_cross_entropy_objective\": {\"sum\": 2.0304856858811937, \"count\": 1, \"min\": 2.0304856858811937, \"max\": 2.0304856858811937}}}\u001b[0m\n",
      "\u001b[34m#metrics {\"StartTime\": 1665673037.2238646, \"EndTime\": 1665673037.2238822, \"Dimensions\": {\"Algorithm\": \"Linear Learner\", \"Host\": \"algo-1\", \"Operation\": \"training\", \"epoch\": 3, \"model\": 10}, \"Metrics\": {\"validation_multiclass_cross_entropy_objective\": {\"sum\": 1.045929917344102, \"count\": 1, \"min\": 1.045929917344102, \"max\": 1.045929917344102}}}\u001b[0m\n",
      "\u001b[34m#metrics {\"StartTime\": 1665673037.2239358, \"EndTime\": 1665673037.2239525, \"Dimensions\": {\"Algorithm\": \"Linear Learner\", \"Host\": \"algo-1\", \"Operation\": \"training\", \"epoch\": 3, \"model\": 11}, \"Metrics\": {\"validation_multiclass_cross_entropy_objective\": {\"sum\": 0.8418076661255982, \"count\": 1, \"min\": 0.8418076661255982, \"max\": 0.8418076661255982}}}\u001b[0m\n",
      "\u001b[34m[10/13/2022 14:57:17 INFO 140479147329344] #quality_metric: host=algo-1, epoch=3, validation multiclass_cross_entropy_objective <loss>=1.0270592629372537\u001b[0m\n",
      "\u001b[34m[10/13/2022 14:57:17 INFO 140479147329344] #early_stopping_criteria_metric: host=algo-1, epoch=3, criteria=multiclass_cross_entropy_objective, value=0.8418076661255982\u001b[0m\n",
      "\u001b[34m[10/13/2022 14:57:17 INFO 140479147329344] Saving model for epoch: 3\u001b[0m\n",
      "\u001b[34m[10/13/2022 14:57:17 INFO 140479147329344] Saved checkpoint to \"/tmp/tmpc4_djjpe/mx-mod-0000.params\"\u001b[0m\n",
      "\u001b[34m[10/13/2022 14:57:17 INFO 140479147329344] #progress_metric: host=algo-1, completed 26.666666666666668 % of epochs\u001b[0m\n",
      "\u001b[34m#metrics {\"StartTime\": 1665673037.1734161, \"EndTime\": 1665673037.231262, \"Dimensions\": {\"Algorithm\": \"Linear Learner\", \"Host\": \"algo-1\", \"Operation\": \"training\", \"epoch\": 3, \"Meta\": \"training_data_iter\"}, \"Metrics\": {\"Total Records Seen\": {\"sum\": 9880.0, \"count\": 1, \"min\": 9880, \"max\": 9880}, \"Total Batches Seen\": {\"sum\": 11.0, \"count\": 1, \"min\": 11, \"max\": 11}, \"Max Records Seen Between Resets\": {\"sum\": 1776.0, \"count\": 1, \"min\": 1776, \"max\": 1776}, \"Max Batches Seen Between Resets\": {\"sum\": 2.0, \"count\": 1, \"min\": 2, \"max\": 2}, \"Reset Count\": {\"sum\": 6.0, \"count\": 1, \"min\": 6, \"max\": 6}, \"Number of Records Since Last Reset\": {\"sum\": 1776.0, \"count\": 1, \"min\": 1776, \"max\": 1776}, \"Number of Batches Since Last Reset\": {\"sum\": 2.0, \"count\": 1, \"min\": 2, \"max\": 2}}}\u001b[0m\n",
      "\u001b[34m[10/13/2022 14:57:17 INFO 140479147329344] #throughput_metric: host=algo-1, train throughput=30625.049454231503 records/second\u001b[0m\n",
      "\u001b[34m[2022-10-13 14:57:17.265] [tensorio] [info] epoch_stats={\"data_pipeline\": \"/opt/ml/input/data/train\", \"epoch\": 12, \"duration\": 33, \"num_examples\": 2, \"num_bytes\": 92352}\u001b[0m\n",
      "\u001b[34m#metrics {\"StartTime\": 1665673037.265497, \"EndTime\": 1665673037.265551, \"Dimensions\": {\"Algorithm\": \"Linear Learner\", \"Host\": \"algo-1\", \"Operation\": \"training\", \"epoch\": 4, \"model\": 0}, \"Metrics\": {\"train_multiclass_cross_entropy_objective\": {\"sum\": 1.03218310546875, \"count\": 1, \"min\": 1.03218310546875, \"max\": 1.03218310546875}}}\u001b[0m\n",
      "\u001b[34m#metrics {\"StartTime\": 1665673037.2656631, \"EndTime\": 1665673037.2656875, \"Dimensions\": {\"Algorithm\": \"Linear Learner\", \"Host\": \"algo-1\", \"Operation\": \"training\", \"epoch\": 4, \"model\": 1}, \"Metrics\": {\"train_multiclass_cross_entropy_objective\": {\"sum\": 1.0253536376953125, \"count\": 1, \"min\": 1.0253536376953125, \"max\": 1.0253536376953125}}}\u001b[0m\n",
      "\u001b[34m#metrics {\"StartTime\": 1665673037.2657533, \"EndTime\": 1665673037.2657707, \"Dimensions\": {\"Algorithm\": \"Linear Learner\", \"Host\": \"algo-1\", \"Operation\": \"training\", \"epoch\": 4, \"model\": 2}, \"Metrics\": {\"train_multiclass_cross_entropy_objective\": {\"sum\": 1.00282861328125, \"count\": 1, \"min\": 1.00282861328125, \"max\": 1.00282861328125}}}\u001b[0m\n",
      "\u001b[34m#metrics {\"StartTime\": 1665673037.265858, \"EndTime\": 1665673037.265933, \"Dimensions\": {\"Algorithm\": \"Linear Learner\", \"Host\": \"algo-1\", \"Operation\": \"training\", \"epoch\": 4, \"model\": 3}, \"Metrics\": {\"train_multiclass_cross_entropy_objective\": {\"sum\": 0.9858480224609375, \"count\": 1, \"min\": 0.9858480224609375, \"max\": 0.9858480224609375}}}\u001b[0m\n",
      "\u001b[34m#metrics {\"StartTime\": 1665673037.2660031, \"EndTime\": 1665673037.2660196, \"Dimensions\": {\"Algorithm\": \"Linear Learner\", \"Host\": \"algo-1\", \"Operation\": \"training\", \"epoch\": 4, \"model\": 4}, \"Metrics\": {\"train_multiclass_cross_entropy_objective\": {\"sum\": 1.047233154296875, \"count\": 1, \"min\": 1.047233154296875, \"max\": 1.047233154296875}}}\u001b[0m\n",
      "\u001b[34m#metrics {\"StartTime\": 1665673037.2661057, \"EndTime\": 1665673037.2661242, \"Dimensions\": {\"Algorithm\": \"Linear Learner\", \"Host\": \"algo-1\", \"Operation\": \"training\", \"epoch\": 4, \"model\": 5}, \"Metrics\": {\"train_multiclass_cross_entropy_objective\": {\"sum\": 0.9927888793945312, \"count\": 1, \"min\": 0.9927888793945312, \"max\": 0.9927888793945312}}}\u001b[0m\n",
      "\u001b[34m#metrics {\"StartTime\": 1665673037.2661777, \"EndTime\": 1665673037.2661917, \"Dimensions\": {\"Algorithm\": \"Linear Learner\", \"Host\": \"algo-1\", \"Operation\": \"training\", \"epoch\": 4, \"model\": 6}, \"Metrics\": {\"train_multiclass_cross_entropy_objective\": {\"sum\": 0.8956713256835938, \"count\": 1, \"min\": 0.8956713256835938, \"max\": 0.8956713256835938}}}\u001b[0m\n",
      "\u001b[34m#metrics {\"StartTime\": 1665673037.2662394, \"EndTime\": 1665673037.266255, \"Dimensions\": {\"Algorithm\": \"Linear Learner\", \"Host\": \"algo-1\", \"Operation\": \"training\", \"epoch\": 4, \"model\": 7}, \"Metrics\": {\"train_multiclass_cross_entropy_objective\": {\"sum\": 1.0487437744140624, \"count\": 1, \"min\": 1.0487437744140624, \"max\": 1.0487437744140624}}}\u001b[0m\n",
      "\u001b[34m#metrics {\"StartTime\": 1665673037.2663043, \"EndTime\": 1665673037.2663188, \"Dimensions\": {\"Algorithm\": \"Linear Learner\", \"Host\": \"algo-1\", \"Operation\": \"training\", \"epoch\": 4, \"model\": 8}, \"Metrics\": {\"train_multiclass_cross_entropy_objective\": {\"sum\": 0.8530120849609375, \"count\": 1, \"min\": 0.8530120849609375, \"max\": 0.8530120849609375}}}\u001b[0m\n",
      "\u001b[34m#metrics {\"StartTime\": 1665673037.2663658, \"EndTime\": 1665673037.266379, \"Dimensions\": {\"Algorithm\": \"Linear Learner\", \"Host\": \"algo-1\", \"Operation\": \"training\", \"epoch\": 4, \"model\": 9}, \"Metrics\": {\"train_multiclass_cross_entropy_objective\": {\"sum\": 2.03142626953125, \"count\": 1, \"min\": 2.03142626953125, \"max\": 2.03142626953125}}}\u001b[0m\n",
      "\u001b[34m#metrics {\"StartTime\": 1665673037.2664273, \"EndTime\": 1665673037.2664459, \"Dimensions\": {\"Algorithm\": \"Linear Learner\", \"Host\": \"algo-1\", \"Operation\": \"training\", \"epoch\": 4, \"model\": 10}, \"Metrics\": {\"train_multiclass_cross_entropy_objective\": {\"sum\": 1.0487557373046874, \"count\": 1, \"min\": 1.0487557373046874, \"max\": 1.0487557373046874}}}\u001b[0m\n",
      "\u001b[34m#metrics {\"StartTime\": 1665673037.266495, \"EndTime\": 1665673037.2665093, \"Dimensions\": {\"Algorithm\": \"Linear Learner\", \"Host\": \"algo-1\", \"Operation\": \"training\", \"epoch\": 4, \"model\": 11}, \"Metrics\": {\"train_multiclass_cross_entropy_objective\": {\"sum\": 0.8513424072265625, \"count\": 1, \"min\": 0.8513424072265625, \"max\": 0.8513424072265625}}}\u001b[0m\n",
      "\u001b[34m[10/13/2022 14:57:17 INFO 140479147329344] #quality_metric: host=algo-1, epoch=4, train multiclass_cross_entropy_objective <loss>=1.03218310546875\u001b[0m\n",
      "\u001b[34m[2022-10-13 14:57:17.297] [tensorio] [info] epoch_stats={\"data_pipeline\": \"/opt/ml/input/data/validation\", \"epoch\": 14, \"duration\": 16, \"num_examples\": 1, \"num_bytes\": 11544}\u001b[0m\n",
      "\u001b[34m#metrics {\"StartTime\": 1665673037.302516, \"EndTime\": 1665673037.302567, \"Dimensions\": {\"Algorithm\": \"Linear Learner\", \"Host\": \"algo-1\", \"Operation\": \"training\", \"epoch\": 4, \"model\": 0}, \"Metrics\": {\"validation_multiclass_cross_entropy_objective\": {\"sum\": 1.0100545109929264, \"count\": 1, \"min\": 1.0100545109929264, \"max\": 1.0100545109929264}}}\u001b[0m\n",
      "\u001b[34m#metrics {\"StartTime\": 1665673037.3026574, \"EndTime\": 1665673037.3032525, \"Dimensions\": {\"Algorithm\": \"Linear Learner\", \"Host\": \"algo-1\", \"Operation\": \"training\", \"epoch\": 4, \"model\": 1}, \"Metrics\": {\"validation_multiclass_cross_entropy_objective\": {\"sum\": 0.9982991261525197, \"count\": 1, \"min\": 0.9982991261525197, \"max\": 0.9982991261525197}}}\u001b[0m\n",
      "\u001b[34m#metrics {\"StartTime\": 1665673037.303326, \"EndTime\": 1665673037.3034856, \"Dimensions\": {\"Algorithm\": \"Linear Learner\", \"Host\": \"algo-1\", \"Operation\": \"training\", \"epoch\": 4, \"model\": 2}, \"Metrics\": {\"validation_multiclass_cross_entropy_objective\": {\"sum\": 0.9440632725621129, \"count\": 1, \"min\": 0.9440632725621129, \"max\": 0.9440632725621129}}}\u001b[0m\n",
      "\u001b[34m#metrics {\"StartTime\": 1665673037.303571, \"EndTime\": 1665673037.3037276, \"Dimensions\": {\"Algorithm\": \"Linear Learner\", \"Host\": \"algo-1\", \"Operation\": \"training\", \"epoch\": 4, \"model\": 3}, \"Metrics\": {\"validation_multiclass_cross_entropy_objective\": {\"sum\": 0.9517125310124578, \"count\": 1, \"min\": 0.9517125310124578, \"max\": 0.9517125310124578}}}\u001b[0m\n",
      "\u001b[34m#metrics {\"StartTime\": 1665673037.3038092, \"EndTime\": 1665673037.3039432, \"Dimensions\": {\"Algorithm\": \"Linear Learner\", \"Host\": \"algo-1\", \"Operation\": \"training\", \"epoch\": 4, \"model\": 4}, \"Metrics\": {\"validation_multiclass_cross_entropy_objective\": {\"sum\": 1.0277523006404843, \"count\": 1, \"min\": 1.0277523006404843, \"max\": 1.0277523006404843}}}\u001b[0m\n",
      "\u001b[34m#metrics {\"StartTime\": 1665673037.304018, \"EndTime\": 1665673037.3040402, \"Dimensions\": {\"Algorithm\": \"Linear Learner\", \"Host\": \"algo-1\", \"Operation\": \"training\", \"epoch\": 4, \"model\": 5}, \"Metrics\": {\"validation_multiclass_cross_entropy_objective\": {\"sum\": 0.9736388610289978, \"count\": 1, \"min\": 0.9736388610289978, \"max\": 0.9736388610289978}}}\u001b[0m\n",
      "\u001b[34m#metrics {\"StartTime\": 1665673037.3042216, \"EndTime\": 1665673037.304245, \"Dimensions\": {\"Algorithm\": \"Linear Learner\", \"Host\": \"algo-1\", \"Operation\": \"training\", \"epoch\": 4, \"model\": 6}, \"Metrics\": {\"validation_multiclass_cross_entropy_objective\": {\"sum\": 0.8720021978154913, \"count\": 1, \"min\": 0.8720021978154913, \"max\": 0.8720021978154913}}}\u001b[0m\n",
      "\u001b[34m#metrics {\"StartTime\": 1665673037.3047087, \"EndTime\": 1665673037.304856, \"Dimensions\": {\"Algorithm\": \"Linear Learner\", \"Host\": \"algo-1\", \"Operation\": \"training\", \"epoch\": 4, \"model\": 7}, \"Metrics\": {\"validation_multiclass_cross_entropy_objective\": {\"sum\": 1.0315409479914486, \"count\": 1, \"min\": 1.0315409479914486, \"max\": 1.0315409479914486}}}\u001b[0m\n",
      "\u001b[34m#metrics {\"StartTime\": 1665673037.30494, \"EndTime\": 1665673037.3049626, \"Dimensions\": {\"Algorithm\": \"Linear Learner\", \"Host\": \"algo-1\", \"Operation\": \"training\", \"epoch\": 4, \"model\": 8}, \"Metrics\": {\"validation_multiclass_cross_entropy_objective\": {\"sum\": 0.8065404806051168, \"count\": 1, \"min\": 0.8065404806051168, \"max\": 0.8065404806051168}}}\u001b[0m\n",
      "\u001b[34m#metrics {\"StartTime\": 1665673037.3050284, \"EndTime\": 1665673037.305047, \"Dimensions\": {\"Algorithm\": \"Linear Learner\", \"Host\": \"algo-1\", \"Operation\": \"training\", \"epoch\": 4, \"model\": 9}, \"Metrics\": {\"validation_multiclass_cross_entropy_objective\": {\"sum\": 0.8620898272540118, \"count\": 1, \"min\": 0.8620898272540118, \"max\": 0.8620898272540118}}}\u001b[0m\n",
      "\u001b[34m#metrics {\"StartTime\": 1665673037.3051026, \"EndTime\": 1665673037.30512, \"Dimensions\": {\"Algorithm\": \"Linear Learner\", \"Host\": \"algo-1\", \"Operation\": \"training\", \"epoch\": 4, \"model\": 10}, \"Metrics\": {\"validation_multiclass_cross_entropy_objective\": {\"sum\": 1.0346797908748593, \"count\": 1, \"min\": 1.0346797908748593, \"max\": 1.0346797908748593}}}\u001b[0m\n",
      "\u001b[34m#metrics {\"StartTime\": 1665673037.3051744, \"EndTime\": 1665673037.3051918, \"Dimensions\": {\"Algorithm\": \"Linear Learner\", \"Host\": \"algo-1\", \"Operation\": \"training\", \"epoch\": 4, \"model\": 11}, \"Metrics\": {\"validation_multiclass_cross_entropy_objective\": {\"sum\": 0.9936064299162444, \"count\": 1, \"min\": 0.9936064299162444, \"max\": 0.9936064299162444}}}\u001b[0m\n",
      "\u001b[34m[10/13/2022 14:57:17 INFO 140479147329344] #quality_metric: host=algo-1, epoch=4, validation multiclass_cross_entropy_objective <loss>=1.0100545109929264\u001b[0m\n",
      "\u001b[34m[10/13/2022 14:57:17 INFO 140479147329344] #early_stopping_criteria_metric: host=algo-1, epoch=4, criteria=multiclass_cross_entropy_objective, value=0.8065404806051168\u001b[0m\n",
      "\u001b[34m[10/13/2022 14:57:17 INFO 140479147329344] Saving model for epoch: 4\u001b[0m\n",
      "\u001b[34m[10/13/2022 14:57:17 INFO 140479147329344] Saved checkpoint to \"/tmp/tmptta4f58y/mx-mod-0000.params\"\u001b[0m\n",
      "\u001b[34m[10/13/2022 14:57:17 INFO 140479147329344] #progress_metric: host=algo-1, completed 33.333333333333336 % of epochs\u001b[0m\n",
      "\u001b[34m#metrics {\"StartTime\": 1665673037.2315865, \"EndTime\": 1665673037.3150609, \"Dimensions\": {\"Algorithm\": \"Linear Learner\", \"Host\": \"algo-1\", \"Operation\": \"training\", \"epoch\": 4, \"Meta\": \"training_data_iter\"}, \"Metrics\": {\"Total Records Seen\": {\"sum\": 11656.0, \"count\": 1, \"min\": 11656, \"max\": 11656}, \"Total Batches Seen\": {\"sum\": 13.0, \"count\": 1, \"min\": 13, \"max\": 13}, \"Max Records Seen Between Resets\": {\"sum\": 1776.0, \"count\": 1, \"min\": 1776, \"max\": 1776}, \"Max Batches Seen Between Resets\": {\"sum\": 2.0, \"count\": 1, \"min\": 2, \"max\": 2}, \"Reset Count\": {\"sum\": 7.0, \"count\": 1, \"min\": 7, \"max\": 7}, \"Number of Records Since Last Reset\": {\"sum\": 1776.0, \"count\": 1, \"min\": 1776, \"max\": 1776}, \"Number of Batches Since Last Reset\": {\"sum\": 2.0, \"count\": 1, \"min\": 2, \"max\": 2}}}\u001b[0m\n",
      "\u001b[34m[10/13/2022 14:57:17 INFO 140479147329344] #throughput_metric: host=algo-1, train throughput=21239.646620057254 records/second\u001b[0m\n",
      "\u001b[34m[2022-10-13 14:57:17.341] [tensorio] [info] epoch_stats={\"data_pipeline\": \"/opt/ml/input/data/train\", \"epoch\": 14, \"duration\": 25, \"num_examples\": 2, \"num_bytes\": 92352}\u001b[0m\n",
      "\u001b[34m#metrics {\"StartTime\": 1665673037.34117, \"EndTime\": 1665673037.341229, \"Dimensions\": {\"Algorithm\": \"Linear Learner\", \"Host\": \"algo-1\", \"Operation\": \"training\", \"epoch\": 5, \"model\": 0}, \"Metrics\": {\"train_multiclass_cross_entropy_objective\": {\"sum\": 1.0152379760742187, \"count\": 1, \"min\": 1.0152379760742187, \"max\": 1.0152379760742187}}}\u001b[0m\n",
      "\u001b[34m#metrics {\"StartTime\": 1665673037.3413348, \"EndTime\": 1665673037.3413563, \"Dimensions\": {\"Algorithm\": \"Linear Learner\", \"Host\": \"algo-1\", \"Operation\": \"training\", \"epoch\": 5, \"model\": 1}, \"Metrics\": {\"train_multiclass_cross_entropy_objective\": {\"sum\": 1.0039544067382813, \"count\": 1, \"min\": 1.0039544067382813, \"max\": 1.0039544067382813}}}\u001b[0m\n",
      "\u001b[34m#metrics {\"StartTime\": 1665673037.3414288, \"EndTime\": 1665673037.3414476, \"Dimensions\": {\"Algorithm\": \"Linear Learner\", \"Host\": \"algo-1\", \"Operation\": \"training\", \"epoch\": 5, \"model\": 2}, \"Metrics\": {\"train_multiclass_cross_entropy_objective\": {\"sum\": 0.9525301513671875, \"count\": 1, \"min\": 0.9525301513671875, \"max\": 0.9525301513671875}}}\u001b[0m\n",
      "\u001b[34m#metrics {\"StartTime\": 1665673037.3415062, \"EndTime\": 1665673037.3415258, \"Dimensions\": {\"Algorithm\": \"Linear Learner\", \"Host\": \"algo-1\", \"Operation\": \"training\", \"epoch\": 5, \"model\": 3}, \"Metrics\": {\"train_multiclass_cross_entropy_objective\": {\"sum\": 0.959768310546875, \"count\": 1, \"min\": 0.959768310546875, \"max\": 0.959768310546875}}}\u001b[0m\n",
      "\u001b[34m#metrics {\"StartTime\": 1665673037.3415856, \"EndTime\": 1665673037.341604, \"Dimensions\": {\"Algorithm\": \"Linear Learner\", \"Host\": \"algo-1\", \"Operation\": \"training\", \"epoch\": 5, \"model\": 4}, \"Metrics\": {\"train_multiclass_cross_entropy_objective\": {\"sum\": 1.0289783935546875, \"count\": 1, \"min\": 1.0289783935546875, \"max\": 1.0289783935546875}}}\u001b[0m\n",
      "\u001b[34m#metrics {\"StartTime\": 1665673037.3416631, \"EndTime\": 1665673037.3416812, \"Dimensions\": {\"Algorithm\": \"Linear Learner\", \"Host\": \"algo-1\", \"Operation\": \"training\", \"epoch\": 5, \"model\": 5}, \"Metrics\": {\"train_multiclass_cross_entropy_objective\": {\"sum\": 0.9785779418945313, \"count\": 1, \"min\": 0.9785779418945313, \"max\": 0.9785779418945313}}}\u001b[0m\n",
      "\u001b[34m#metrics {\"StartTime\": 1665673037.34175, \"EndTime\": 1665673037.34177, \"Dimensions\": {\"Algorithm\": \"Linear Learner\", \"Host\": \"algo-1\", \"Operation\": \"training\", \"epoch\": 5, \"model\": 6}, \"Metrics\": {\"train_multiclass_cross_entropy_objective\": {\"sum\": 0.8819891967773438, \"count\": 1, \"min\": 0.8819891967773438, \"max\": 0.8819891967773438}}}\u001b[0m\n",
      "\u001b[34m#metrics {\"StartTime\": 1665673037.3418286, \"EndTime\": 1665673037.3418455, \"Dimensions\": {\"Algorithm\": \"Linear Learner\", \"Host\": \"algo-1\", \"Operation\": \"training\", \"epoch\": 5, \"model\": 7}, \"Metrics\": {\"train_multiclass_cross_entropy_objective\": {\"sum\": 1.035796875, \"count\": 1, \"min\": 1.035796875, \"max\": 1.035796875}}}\u001b[0m\n",
      "\u001b[34m#metrics {\"StartTime\": 1665673037.3419025, \"EndTime\": 1665673037.3419206, \"Dimensions\": {\"Algorithm\": \"Linear Learner\", \"Host\": \"algo-1\", \"Operation\": \"training\", \"epoch\": 5, \"model\": 8}, \"Metrics\": {\"train_multiclass_cross_entropy_objective\": {\"sum\": 0.816642578125, \"count\": 1, \"min\": 0.816642578125, \"max\": 0.816642578125}}}\u001b[0m\n",
      "\u001b[34m#metrics {\"StartTime\": 1665673037.341979, \"EndTime\": 1665673037.341998, \"Dimensions\": {\"Algorithm\": \"Linear Learner\", \"Host\": \"algo-1\", \"Operation\": \"training\", \"epoch\": 5, \"model\": 9}, \"Metrics\": {\"train_multiclass_cross_entropy_objective\": {\"sum\": 0.8850859985351562, \"count\": 1, \"min\": 0.8850859985351562, \"max\": 0.8850859985351562}}}\u001b[0m\n",
      "\u001b[34m#metrics {\"StartTime\": 1665673037.3420599, \"EndTime\": 1665673037.3420792, \"Dimensions\": {\"Algorithm\": \"Linear Learner\", \"Host\": \"algo-1\", \"Operation\": \"training\", \"epoch\": 5, \"model\": 10}, \"Metrics\": {\"train_multiclass_cross_entropy_objective\": {\"sum\": 1.0386148681640626, \"count\": 1, \"min\": 1.0386148681640626, \"max\": 1.0386148681640626}}}\u001b[0m\n",
      "\u001b[34m#metrics {\"StartTime\": 1665673037.3421388, \"EndTime\": 1665673037.3421566, \"Dimensions\": {\"Algorithm\": \"Linear Learner\", \"Host\": \"algo-1\", \"Operation\": \"training\", \"epoch\": 5, \"model\": 11}, \"Metrics\": {\"train_multiclass_cross_entropy_objective\": {\"sum\": 1.0105449829101563, \"count\": 1, \"min\": 1.0105449829101563, \"max\": 1.0105449829101563}}}\u001b[0m\n",
      "\u001b[34m[10/13/2022 14:57:17 INFO 140479147329344] #quality_metric: host=algo-1, epoch=5, train multiclass_cross_entropy_objective <loss>=1.0152379760742187\u001b[0m\n",
      "\u001b[34m[2022-10-13 14:57:17.367] [tensorio] [info] epoch_stats={\"data_pipeline\": \"/opt/ml/input/data/validation\", \"epoch\": 17, \"duration\": 11, \"num_examples\": 1, \"num_bytes\": 11544}\u001b[0m\n",
      "\u001b[34m#metrics {\"StartTime\": 1665673037.3717892, \"EndTime\": 1665673037.3718255, \"Dimensions\": {\"Algorithm\": \"Linear Learner\", \"Host\": \"algo-1\", \"Operation\": \"training\", \"epoch\": 5, \"model\": 0}, \"Metrics\": {\"validation_multiclass_cross_entropy_objective\": {\"sum\": 0.9939004021721918, \"count\": 1, \"min\": 0.9939004021721918, \"max\": 0.9939004021721918}}}\u001b[0m\n",
      "\u001b[34m#metrics {\"StartTime\": 1665673037.3718908, \"EndTime\": 1665673037.3719044, \"Dimensions\": {\"Algorithm\": \"Linear Learner\", \"Host\": \"algo-1\", \"Operation\": \"training\", \"epoch\": 5, \"model\": 1}, \"Metrics\": {\"validation_multiclass_cross_entropy_objective\": {\"sum\": 0.9781173843521256, \"count\": 1, \"min\": 0.9781173843521256, \"max\": 0.9781173843521256}}}\u001b[0m\n",
      "\u001b[34m#metrics {\"StartTime\": 1665673037.3719628, \"EndTime\": 1665673037.3719826, \"Dimensions\": {\"Algorithm\": \"Linear Learner\", \"Host\": \"algo-1\", \"Operation\": \"training\", \"epoch\": 5, \"model\": 2}, \"Metrics\": {\"validation_multiclass_cross_entropy_objective\": {\"sum\": 0.9010299132750915, \"count\": 1, \"min\": 0.9010299132750915, \"max\": 0.9010299132750915}}}\u001b[0m\n",
      "\u001b[34m#metrics {\"StartTime\": 1665673037.3720448, \"EndTime\": 1665673037.372063, \"Dimensions\": {\"Algorithm\": \"Linear Learner\", \"Host\": \"algo-1\", \"Operation\": \"training\", \"epoch\": 5, \"model\": 3}, \"Metrics\": {\"validation_multiclass_cross_entropy_objective\": {\"sum\": 0.9276772576409418, \"count\": 1, \"min\": 0.9276772576409418, \"max\": 0.9276772576409418}}}\u001b[0m\n",
      "\u001b[34m#metrics {\"StartTime\": 1665673037.372121, \"EndTime\": 1665673037.3721397, \"Dimensions\": {\"Algorithm\": \"Linear Learner\", \"Host\": \"algo-1\", \"Operation\": \"training\", \"epoch\": 5, \"model\": 4}, \"Metrics\": {\"validation_multiclass_cross_entropy_objective\": {\"sum\": 1.0094401728999507, \"count\": 1, \"min\": 1.0094401728999507, \"max\": 1.0094401728999507}}}\u001b[0m\n",
      "\u001b[34m#metrics {\"StartTime\": 1665673037.3721998, \"EndTime\": 1665673037.372219, \"Dimensions\": {\"Algorithm\": \"Linear Learner\", \"Host\": \"algo-1\", \"Operation\": \"training\", \"epoch\": 5, \"model\": 5}, \"Metrics\": {\"validation_multiclass_cross_entropy_objective\": {\"sum\": 0.9608209283502253, \"count\": 1, \"min\": 0.9608209283502253, \"max\": 0.9608209283502253}}}\u001b[0m\n",
      "\u001b[34m#metrics {\"StartTime\": 1665673037.3722873, \"EndTime\": 1665673037.3723073, \"Dimensions\": {\"Algorithm\": \"Linear Learner\", \"Host\": \"algo-1\", \"Operation\": \"training\", \"epoch\": 5, \"model\": 6}, \"Metrics\": {\"validation_multiclass_cross_entropy_objective\": {\"sum\": 0.8611121650214668, \"count\": 1, \"min\": 0.8611121650214668, \"max\": 0.8611121650214668}}}\u001b[0m\n",
      "\u001b[34m#metrics {\"StartTime\": 1665673037.3723664, \"EndTime\": 1665673037.3723843, \"Dimensions\": {\"Algorithm\": \"Linear Learner\", \"Host\": \"algo-1\", \"Operation\": \"training\", \"epoch\": 5, \"model\": 7}, \"Metrics\": {\"validation_multiclass_cross_entropy_objective\": {\"sum\": 1.018416877265449, \"count\": 1, \"min\": 1.018416877265449, \"max\": 1.018416877265449}}}\u001b[0m\n",
      "\u001b[34m#metrics {\"StartTime\": 1665673037.3724446, \"EndTime\": 1665673037.3724623, \"Dimensions\": {\"Algorithm\": \"Linear Learner\", \"Host\": \"algo-1\", \"Operation\": \"training\", \"epoch\": 5, \"model\": 8}, \"Metrics\": {\"validation_multiclass_cross_entropy_objective\": {\"sum\": 0.776808111517279, \"count\": 1, \"min\": 0.776808111517279, \"max\": 0.776808111517279}}}\u001b[0m\n",
      "\u001b[34m#metrics {\"StartTime\": 1665673037.372521, \"EndTime\": 1665673037.372538, \"Dimensions\": {\"Algorithm\": \"Linear Learner\", \"Host\": \"algo-1\", \"Operation\": \"training\", \"epoch\": 5, \"model\": 9}, \"Metrics\": {\"validation_multiclass_cross_entropy_objective\": {\"sum\": 1.0299277778144356, \"count\": 1, \"min\": 1.0299277778144356, \"max\": 1.0299277778144356}}}\u001b[0m\n",
      "\u001b[34m#metrics {\"StartTime\": 1665673037.3725975, \"EndTime\": 1665673037.3726163, \"Dimensions\": {\"Algorithm\": \"Linear Learner\", \"Host\": \"algo-1\", \"Operation\": \"training\", \"epoch\": 5, \"model\": 10}, \"Metrics\": {\"validation_multiclass_cross_entropy_objective\": {\"sum\": 1.0237428819811023, \"count\": 1, \"min\": 1.0237428819811023, \"max\": 1.0237428819811023}}}\u001b[0m\n",
      "\u001b[34m#metrics {\"StartTime\": 1665673037.3726726, \"EndTime\": 1665673037.37269, \"Dimensions\": {\"Algorithm\": \"Linear Learner\", \"Host\": \"algo-1\", \"Operation\": \"training\", \"epoch\": 5, \"model\": 11}, \"Metrics\": {\"validation_multiclass_cross_entropy_objective\": {\"sum\": 1.0481382490278364, \"count\": 1, \"min\": 1.0481382490278364, \"max\": 1.0481382490278364}}}\u001b[0m\n",
      "\u001b[34m[10/13/2022 14:57:17 INFO 140479147329344] #quality_metric: host=algo-1, epoch=5, validation multiclass_cross_entropy_objective <loss>=0.9939004021721918\u001b[0m\n",
      "\u001b[34m[10/13/2022 14:57:17 INFO 140479147329344] #early_stopping_criteria_metric: host=algo-1, epoch=5, criteria=multiclass_cross_entropy_objective, value=0.776808111517279\u001b[0m\n",
      "\u001b[34m[10/13/2022 14:57:17 INFO 140479147329344] Epoch 5: Loss improved. Updating best model\u001b[0m\n",
      "\u001b[34m[10/13/2022 14:57:17 INFO 140479147329344] Saving model for epoch: 5\u001b[0m\n",
      "\u001b[34m[10/13/2022 14:57:17 INFO 140479147329344] Saved checkpoint to \"/tmp/tmphu8y1zg8/mx-mod-0000.params\"\u001b[0m\n",
      "\u001b[34m[10/13/2022 14:57:17 INFO 140479147329344] #progress_metric: host=algo-1, completed 40.0 % of epochs\u001b[0m\n",
      "\u001b[34m#metrics {\"StartTime\": 1665673037.3154159, \"EndTime\": 1665673037.3837898, \"Dimensions\": {\"Algorithm\": \"Linear Learner\", \"Host\": \"algo-1\", \"Operation\": \"training\", \"epoch\": 5, \"Meta\": \"training_data_iter\"}, \"Metrics\": {\"Total Records Seen\": {\"sum\": 13432.0, \"count\": 1, \"min\": 13432, \"max\": 13432}, \"Total Batches Seen\": {\"sum\": 15.0, \"count\": 1, \"min\": 15, \"max\": 15}, \"Max Records Seen Between Resets\": {\"sum\": 1776.0, \"count\": 1, \"min\": 1776, \"max\": 1776}, \"Max Batches Seen Between Resets\": {\"sum\": 2.0, \"count\": 1, \"min\": 2, \"max\": 2}, \"Reset Count\": {\"sum\": 8.0, \"count\": 1, \"min\": 8, \"max\": 8}, \"Number of Records Since Last Reset\": {\"sum\": 1776.0, \"count\": 1, \"min\": 1776, \"max\": 1776}, \"Number of Batches Since Last Reset\": {\"sum\": 2.0, \"count\": 1, \"min\": 2, \"max\": 2}}}\u001b[0m\n",
      "\u001b[34m[10/13/2022 14:57:17 INFO 140479147329344] #throughput_metric: host=algo-1, train throughput=25916.527746272084 records/second\u001b[0m\n",
      "\u001b[34m[2022-10-13 14:57:17.412] [tensorio] [info] epoch_stats={\"data_pipeline\": \"/opt/ml/input/data/train\", \"epoch\": 16, \"duration\": 27, \"num_examples\": 2, \"num_bytes\": 92352}\u001b[0m\n",
      "\u001b[34m#metrics {\"StartTime\": 1665673037.4121733, \"EndTime\": 1665673037.412227, \"Dimensions\": {\"Algorithm\": \"Linear Learner\", \"Host\": \"algo-1\", \"Operation\": \"training\", \"epoch\": 6, \"model\": 0}, \"Metrics\": {\"train_multiclass_cross_entropy_objective\": {\"sum\": 0.9983641967773438, \"count\": 1, \"min\": 0.9983641967773438, \"max\": 0.9983641967773438}}}\u001b[0m\n",
      "\u001b[34m#metrics {\"StartTime\": 1665673037.4122953, \"EndTime\": 1665673037.4123173, \"Dimensions\": {\"Algorithm\": \"Linear Learner\", \"Host\": \"algo-1\", \"Operation\": \"training\", \"epoch\": 6, \"model\": 1}, \"Metrics\": {\"train_multiclass_cross_entropy_objective\": {\"sum\": 0.9830233154296875, \"count\": 1, \"min\": 0.9830233154296875, \"max\": 0.9830233154296875}}}\u001b[0m\n",
      "\u001b[34m#metrics {\"StartTime\": 1665673037.412378, \"EndTime\": 1665673037.4123976, \"Dimensions\": {\"Algorithm\": \"Linear Learner\", \"Host\": \"algo-1\", \"Operation\": \"training\", \"epoch\": 6, \"model\": 2}, \"Metrics\": {\"train_multiclass_cross_entropy_objective\": {\"sum\": 0.90822900390625, \"count\": 1, \"min\": 0.90822900390625, \"max\": 0.90822900390625}}}\u001b[0m\n",
      "\u001b[34m#metrics {\"StartTime\": 1665673037.4124517, \"EndTime\": 1665673037.4124699, \"Dimensions\": {\"Algorithm\": \"Linear Learner\", \"Host\": \"algo-1\", \"Operation\": \"training\", \"epoch\": 6, \"model\": 3}, \"Metrics\": {\"train_multiclass_cross_entropy_objective\": {\"sum\": 0.9347615966796875, \"count\": 1, \"min\": 0.9347615966796875, \"max\": 0.9347615966796875}}}\u001b[0m\n",
      "\u001b[34m#metrics {\"StartTime\": 1665673037.4125233, \"EndTime\": 1665673037.4125402, \"Dimensions\": {\"Algorithm\": \"Linear Learner\", \"Host\": \"algo-1\", \"Operation\": \"training\", \"epoch\": 6, \"model\": 4}, \"Metrics\": {\"train_multiclass_cross_entropy_objective\": {\"sum\": 1.01159619140625, \"count\": 1, \"min\": 1.01159619140625, \"max\": 1.01159619140625}}}\u001b[0m\n",
      "\u001b[34m#metrics {\"StartTime\": 1665673037.4125934, \"EndTime\": 1665673037.4126112, \"Dimensions\": {\"Algorithm\": \"Linear Learner\", \"Host\": \"algo-1\", \"Operation\": \"training\", \"epoch\": 6, \"model\": 5}, \"Metrics\": {\"train_multiclass_cross_entropy_objective\": {\"sum\": 0.9659964599609375, \"count\": 1, \"min\": 0.9659964599609375, \"max\": 0.9659964599609375}}}\u001b[0m\n",
      "\u001b[34m#metrics {\"StartTime\": 1665673037.4126656, \"EndTime\": 1665673037.412683, \"Dimensions\": {\"Algorithm\": \"Linear Learner\", \"Host\": \"algo-1\", \"Operation\": \"training\", \"epoch\": 6, \"model\": 6}, \"Metrics\": {\"train_multiclass_cross_entropy_objective\": {\"sum\": 0.8716508178710938, \"count\": 1, \"min\": 0.8716508178710938, \"max\": 0.8716508178710938}}}\u001b[0m\n",
      "\u001b[34m#metrics {\"StartTime\": 1665673037.412739, \"EndTime\": 1665673037.4127567, \"Dimensions\": {\"Algorithm\": \"Linear Learner\", \"Host\": \"algo-1\", \"Operation\": \"training\", \"epoch\": 6, \"model\": 7}, \"Metrics\": {\"train_multiclass_cross_entropy_objective\": {\"sum\": 1.022560546875, \"count\": 1, \"min\": 1.022560546875, \"max\": 1.022560546875}}}\u001b[0m\n",
      "\u001b[34m#metrics {\"StartTime\": 1665673037.4128003, \"EndTime\": 1665673037.412817, \"Dimensions\": {\"Algorithm\": \"Linear Learner\", \"Host\": \"algo-1\", \"Operation\": \"training\", \"epoch\": 6, \"model\": 8}, \"Metrics\": {\"train_multiclass_cross_entropy_objective\": {\"sum\": 0.7877861938476562, \"count\": 1, \"min\": 0.7877861938476562, \"max\": 0.7877861938476562}}}\u001b[0m\n",
      "\u001b[34m#metrics {\"StartTime\": 1665673037.4128609, \"EndTime\": 1665673037.4128766, \"Dimensions\": {\"Algorithm\": \"Linear Learner\", \"Host\": \"algo-1\", \"Operation\": \"training\", \"epoch\": 6, \"model\": 9}, \"Metrics\": {\"train_multiclass_cross_entropy_objective\": {\"sum\": 1.042639892578125, \"count\": 1, \"min\": 1.042639892578125, \"max\": 1.042639892578125}}}\u001b[0m\n",
      "\u001b[34m#metrics {\"StartTime\": 1665673037.4129345, \"EndTime\": 1665673037.4129524, \"Dimensions\": {\"Algorithm\": \"Linear Learner\", \"Host\": \"algo-1\", \"Operation\": \"training\", \"epoch\": 6, \"model\": 10}, \"Metrics\": {\"train_multiclass_cross_entropy_objective\": {\"sum\": 1.0279864501953124, \"count\": 1, \"min\": 1.0279864501953124, \"max\": 1.0279864501953124}}}\u001b[0m\n",
      "\u001b[34m#metrics {\"StartTime\": 1665673037.4130068, \"EndTime\": 1665673037.4130235, \"Dimensions\": {\"Algorithm\": \"Linear Learner\", \"Host\": \"algo-1\", \"Operation\": \"training\", \"epoch\": 6, \"model\": 11}, \"Metrics\": {\"train_multiclass_cross_entropy_objective\": {\"sum\": 1.056670166015625, \"count\": 1, \"min\": 1.056670166015625, \"max\": 1.056670166015625}}}\u001b[0m\n",
      "\u001b[34m[10/13/2022 14:57:17 INFO 140479147329344] #quality_metric: host=algo-1, epoch=6, train multiclass_cross_entropy_objective <loss>=0.9983641967773438\u001b[0m\n",
      "\u001b[34m[2022-10-13 14:57:17.431] [tensorio] [info] epoch_stats={\"data_pipeline\": \"/opt/ml/input/data/validation\", \"epoch\": 20, \"duration\": 9, \"num_examples\": 1, \"num_bytes\": 11544}\u001b[0m\n",
      "\u001b[34m#metrics {\"StartTime\": 1665673037.434259, \"EndTime\": 1665673037.4342911, \"Dimensions\": {\"Algorithm\": \"Linear Learner\", \"Host\": \"algo-1\", \"Operation\": \"training\", \"epoch\": 6, \"model\": 0}, \"Metrics\": {\"validation_multiclass_cross_entropy_objective\": {\"sum\": 0.9816924086562148, \"count\": 1, \"min\": 0.9816924086562148, \"max\": 0.9816924086562148}}}\u001b[0m\n",
      "\u001b[34m#metrics {\"StartTime\": 1665673037.4343562, \"EndTime\": 1665673037.4343774, \"Dimensions\": {\"Algorithm\": \"Linear Learner\", \"Host\": \"algo-1\", \"Operation\": \"training\", \"epoch\": 6, \"model\": 1}, \"Metrics\": {\"validation_multiclass_cross_entropy_objective\": {\"sum\": 0.9640626649598818, \"count\": 1, \"min\": 0.9640626649598818, \"max\": 0.9640626649598818}}}\u001b[0m\n",
      "\u001b[34m#metrics {\"StartTime\": 1665673037.4344392, \"EndTime\": 1665673037.4344575, \"Dimensions\": {\"Algorithm\": \"Linear Learner\", \"Host\": \"algo-1\", \"Operation\": \"training\", \"epoch\": 6, \"model\": 2}, \"Metrics\": {\"validation_multiclass_cross_entropy_objective\": {\"sum\": 0.8840011734146256, \"count\": 1, \"min\": 0.8840011734146256, \"max\": 0.8840011734146256}}}\u001b[0m\n",
      "\u001b[34m#metrics {\"StartTime\": 1665673037.4345086, \"EndTime\": 1665673037.4345267, \"Dimensions\": {\"Algorithm\": \"Linear Learner\", \"Host\": \"algo-1\", \"Operation\": \"training\", \"epoch\": 6, \"model\": 3}, \"Metrics\": {\"validation_multiclass_cross_entropy_objective\": {\"sum\": 0.913693058598149, \"count\": 1, \"min\": 0.913693058598149, \"max\": 0.913693058598149}}}\u001b[0m\n",
      "\u001b[34m#metrics {\"StartTime\": 1665673037.4345808, \"EndTime\": 1665673037.434598, \"Dimensions\": {\"Algorithm\": \"Linear Learner\", \"Host\": \"algo-1\", \"Operation\": \"training\", \"epoch\": 6, \"model\": 4}, \"Metrics\": {\"validation_multiclass_cross_entropy_objective\": {\"sum\": 0.9919377919789907, \"count\": 1, \"min\": 0.9919377919789907, \"max\": 0.9919377919789907}}}\u001b[0m\n",
      "\u001b[34m#metrics {\"StartTime\": 1665673037.4346526, \"EndTime\": 1665673037.4346697, \"Dimensions\": {\"Algorithm\": \"Linear Learner\", \"Host\": \"algo-1\", \"Operation\": \"training\", \"epoch\": 6, \"model\": 5}, \"Metrics\": {\"validation_multiclass_cross_entropy_objective\": {\"sum\": 0.9490948238888303, \"count\": 1, \"min\": 0.9490948238888303, \"max\": 0.9490948238888303}}}\u001b[0m\n",
      "\u001b[34m#metrics {\"StartTime\": 1665673037.4347255, \"EndTime\": 1665673037.434743, \"Dimensions\": {\"Algorithm\": \"Linear Learner\", \"Host\": \"algo-1\", \"Operation\": \"training\", \"epoch\": 6, \"model\": 6}, \"Metrics\": {\"validation_multiclass_cross_entropy_objective\": {\"sum\": 0.8521690024985923, \"count\": 1, \"min\": 0.8521690024985923, \"max\": 0.8521690024985923}}}\u001b[0m\n",
      "\u001b[34m#metrics {\"StartTime\": 1665673037.4347892, \"EndTime\": 1665673037.4348044, \"Dimensions\": {\"Algorithm\": \"Linear Learner\", \"Host\": \"algo-1\", \"Operation\": \"training\", \"epoch\": 6, \"model\": 7}, \"Metrics\": {\"validation_multiclass_cross_entropy_objective\": {\"sum\": 1.007544096525725, \"count\": 1, \"min\": 1.007544096525725, \"max\": 1.007544096525725}}}\u001b[0m\n",
      "\u001b[34m#metrics {\"StartTime\": 1665673037.4348562, \"EndTime\": 1665673037.4348726, \"Dimensions\": {\"Algorithm\": \"Linear Learner\", \"Host\": \"algo-1\", \"Operation\": \"training\", \"epoch\": 6, \"model\": 8}, \"Metrics\": {\"validation_multiclass_cross_entropy_objective\": {\"sum\": 0.7531444790127041, \"count\": 1, \"min\": 0.7531444790127041, \"max\": 0.7531444790127041}}}\u001b[0m\n",
      "\u001b[34m#metrics {\"StartTime\": 1665673037.4349246, \"EndTime\": 1665673037.4349403, \"Dimensions\": {\"Algorithm\": \"Linear Learner\", \"Host\": \"algo-1\", \"Operation\": \"training\", \"epoch\": 6, \"model\": 9}, \"Metrics\": {\"validation_multiclass_cross_entropy_objective\": {\"sum\": 0.9661099545590512, \"count\": 1, \"min\": 0.9661099545590512, \"max\": 0.9661099545590512}}}\u001b[0m\n",
      "\u001b[34m#metrics {\"StartTime\": 1665673037.4349914, \"EndTime\": 1665673037.4350078, \"Dimensions\": {\"Algorithm\": \"Linear Learner\", \"Host\": \"algo-1\", \"Operation\": \"training\", \"epoch\": 6, \"model\": 10}, \"Metrics\": {\"validation_multiclass_cross_entropy_objective\": {\"sum\": 1.0140147166209177, \"count\": 1, \"min\": 1.0140147166209177, \"max\": 1.0140147166209177}}}\u001b[0m\n",
      "\u001b[34m#metrics {\"StartTime\": 1665673037.4350655, \"EndTime\": 1665673037.4350827, \"Dimensions\": {\"Algorithm\": \"Linear Learner\", \"Host\": \"algo-1\", \"Operation\": \"training\", \"epoch\": 6, \"model\": 11}, \"Metrics\": {\"validation_multiclass_cross_entropy_objective\": {\"sum\": 0.7726690618841497, \"count\": 1, \"min\": 0.7726690618841497, \"max\": 0.7726690618841497}}}\u001b[0m\n",
      "\u001b[34m[10/13/2022 14:57:17 INFO 140479147329344] #quality_metric: host=algo-1, epoch=6, validation multiclass_cross_entropy_objective <loss>=0.9816924086562148\u001b[0m\n",
      "\u001b[34m[10/13/2022 14:57:17 INFO 140479147329344] #early_stopping_criteria_metric: host=algo-1, epoch=6, criteria=multiclass_cross_entropy_objective, value=0.7531444790127041\u001b[0m\n",
      "\u001b[34m[10/13/2022 14:57:17 INFO 140479147329344] Epoch 6: Loss improved. Updating best model\u001b[0m\n",
      "\u001b[34m[10/13/2022 14:57:17 INFO 140479147329344] Saving model for epoch: 6\u001b[0m\n",
      "\u001b[34m[10/13/2022 14:57:17 INFO 140479147329344] Saved checkpoint to \"/tmp/tmproj72u4x/mx-mod-0000.params\"\u001b[0m\n",
      "\u001b[34m[10/13/2022 14:57:17 INFO 140479147329344] #progress_metric: host=algo-1, completed 46.666666666666664 % of epochs\u001b[0m\n",
      "\u001b[34m#metrics {\"StartTime\": 1665673037.384144, \"EndTime\": 1665673037.446854, \"Dimensions\": {\"Algorithm\": \"Linear Learner\", \"Host\": \"algo-1\", \"Operation\": \"training\", \"epoch\": 6, \"Meta\": \"training_data_iter\"}, \"Metrics\": {\"Total Records Seen\": {\"sum\": 15208.0, \"count\": 1, \"min\": 15208, \"max\": 15208}, \"Total Batches Seen\": {\"sum\": 17.0, \"count\": 1, \"min\": 17, \"max\": 17}, \"Max Records Seen Between Resets\": {\"sum\": 1776.0, \"count\": 1, \"min\": 1776, \"max\": 1776}, \"Max Batches Seen Between Resets\": {\"sum\": 2.0, \"count\": 1, \"min\": 2, \"max\": 2}, \"Reset Count\": {\"sum\": 9.0, \"count\": 1, \"min\": 9, \"max\": 9}, \"Number of Records Since Last Reset\": {\"sum\": 1776.0, \"count\": 1, \"min\": 1776, \"max\": 1776}, \"Number of Batches Since Last Reset\": {\"sum\": 2.0, \"count\": 1, \"min\": 2, \"max\": 2}}}\u001b[0m\n",
      "\u001b[34m[10/13/2022 14:57:17 INFO 140479147329344] #throughput_metric: host=algo-1, train throughput=28226.491087668244 records/second\u001b[0m\n",
      "\u001b[34m[2022-10-13 14:57:17.475] [tensorio] [info] epoch_stats={\"data_pipeline\": \"/opt/ml/input/data/train\", \"epoch\": 18, \"duration\": 28, \"num_examples\": 2, \"num_bytes\": 92352}\u001b[0m\n",
      "\u001b[34m#metrics {\"StartTime\": 1665673037.4758885, \"EndTime\": 1665673037.475942, \"Dimensions\": {\"Algorithm\": \"Linear Learner\", \"Host\": \"algo-1\", \"Operation\": \"training\", \"epoch\": 7, \"model\": 0}, \"Metrics\": {\"train_multiclass_cross_entropy_objective\": {\"sum\": 0.9853231811523437, \"count\": 1, \"min\": 0.9853231811523437, \"max\": 0.9853231811523437}}}\u001b[0m\n",
      "\u001b[34m#metrics {\"StartTime\": 1665673037.4760225, \"EndTime\": 1665673037.476044, \"Dimensions\": {\"Algorithm\": \"Linear Learner\", \"Host\": \"algo-1\", \"Operation\": \"training\", \"epoch\": 7, \"model\": 1}, \"Metrics\": {\"train_multiclass_cross_entropy_objective\": {\"sum\": 0.9681892700195313, \"count\": 1, \"min\": 0.9681892700195313, \"max\": 0.9681892700195313}}}\u001b[0m\n",
      "\u001b[34m#metrics {\"StartTime\": 1665673037.4761066, \"EndTime\": 1665673037.476126, \"Dimensions\": {\"Algorithm\": \"Linear Learner\", \"Host\": \"algo-1\", \"Operation\": \"training\", \"epoch\": 7, \"model\": 2}, \"Metrics\": {\"train_multiclass_cross_entropy_objective\": {\"sum\": 0.890293212890625, \"count\": 1, \"min\": 0.890293212890625, \"max\": 0.890293212890625}}}\u001b[0m\n",
      "\u001b[34m#metrics {\"StartTime\": 1665673037.4761846, \"EndTime\": 1665673037.476202, \"Dimensions\": {\"Algorithm\": \"Linear Learner\", \"Host\": \"algo-1\", \"Operation\": \"training\", \"epoch\": 7, \"model\": 3}, \"Metrics\": {\"train_multiclass_cross_entropy_objective\": {\"sum\": 0.9197091064453125, \"count\": 1, \"min\": 0.9197091064453125, \"max\": 0.9197091064453125}}}\u001b[0m\n",
      "\u001b[34m#metrics {\"StartTime\": 1665673037.4762604, \"EndTime\": 1665673037.476278, \"Dimensions\": {\"Algorithm\": \"Linear Learner\", \"Host\": \"algo-1\", \"Operation\": \"training\", \"epoch\": 7, \"model\": 4}, \"Metrics\": {\"train_multiclass_cross_entropy_objective\": {\"sum\": 0.9950196533203125, \"count\": 1, \"min\": 0.9950196533203125, \"max\": 0.9950196533203125}}}\u001b[0m\n",
      "\u001b[34m#metrics {\"StartTime\": 1665673037.4763331, \"EndTime\": 1665673037.47635, \"Dimensions\": {\"Algorithm\": \"Linear Learner\", \"Host\": \"algo-1\", \"Operation\": \"training\", \"epoch\": 7, \"model\": 5}, \"Metrics\": {\"train_multiclass_cross_entropy_objective\": {\"sum\": 0.9546382446289062, \"count\": 1, \"min\": 0.9546382446289062, \"max\": 0.9546382446289062}}}\u001b[0m\n",
      "\u001b[34m#metrics {\"StartTime\": 1665673037.476403, \"EndTime\": 1665673037.4764204, \"Dimensions\": {\"Algorithm\": \"Linear Learner\", \"Host\": \"algo-1\", \"Operation\": \"training\", \"epoch\": 7, \"model\": 6}, \"Metrics\": {\"train_multiclass_cross_entropy_objective\": {\"sum\": 0.8637085571289063, \"count\": 1, \"min\": 0.8637085571289063, \"max\": 0.8637085571289063}}}\u001b[0m\n",
      "\u001b[34m#metrics {\"StartTime\": 1665673037.4764767, \"EndTime\": 1665673037.476495, \"Dimensions\": {\"Algorithm\": \"Linear Learner\", \"Host\": \"algo-1\", \"Operation\": \"training\", \"epoch\": 7, \"model\": 7}, \"Metrics\": {\"train_multiclass_cross_entropy_objective\": {\"sum\": 1.0112341918945313, \"count\": 1, \"min\": 1.0112341918945313, \"max\": 1.0112341918945313}}}\u001b[0m\n",
      "\u001b[34m#metrics {\"StartTime\": 1665673037.4765494, \"EndTime\": 1665673037.476565, \"Dimensions\": {\"Algorithm\": \"Linear Learner\", \"Host\": \"algo-1\", \"Operation\": \"training\", \"epoch\": 7, \"model\": 8}, \"Metrics\": {\"train_multiclass_cross_entropy_objective\": {\"sum\": 0.764803955078125, \"count\": 1, \"min\": 0.764803955078125, \"max\": 0.764803955078125}}}\u001b[0m\n",
      "\u001b[34m#metrics {\"StartTime\": 1665673037.4766185, \"EndTime\": 1665673037.4766352, \"Dimensions\": {\"Algorithm\": \"Linear Learner\", \"Host\": \"algo-1\", \"Operation\": \"training\", \"epoch\": 7, \"model\": 9}, \"Metrics\": {\"train_multiclass_cross_entropy_objective\": {\"sum\": 1.0003087158203126, \"count\": 1, \"min\": 1.0003087158203126, \"max\": 1.0003087158203126}}}\u001b[0m\n",
      "\u001b[34m#metrics {\"StartTime\": 1665673037.476686, \"EndTime\": 1665673037.4767017, \"Dimensions\": {\"Algorithm\": \"Linear Learner\", \"Host\": \"algo-1\", \"Operation\": \"training\", \"epoch\": 7, \"model\": 10}, \"Metrics\": {\"train_multiclass_cross_entropy_objective\": {\"sum\": 1.0180759887695312, \"count\": 1, \"min\": 1.0180759887695312, \"max\": 1.0180759887695312}}}\u001b[0m\n",
      "\u001b[34m#metrics {\"StartTime\": 1665673037.4767516, \"EndTime\": 1665673037.476767, \"Dimensions\": {\"Algorithm\": \"Linear Learner\", \"Host\": \"algo-1\", \"Operation\": \"training\", \"epoch\": 7, \"model\": 11}, \"Metrics\": {\"train_multiclass_cross_entropy_objective\": {\"sum\": 0.7881486206054688, \"count\": 1, \"min\": 0.7881486206054688, \"max\": 0.7881486206054688}}}\u001b[0m\n",
      "\u001b[34m[10/13/2022 14:57:17 INFO 140479147329344] #quality_metric: host=algo-1, epoch=7, train multiclass_cross_entropy_objective <loss>=0.9853231811523437\u001b[0m\n",
      "\u001b[34m[2022-10-13 14:57:17.498] [tensorio] [info] epoch_stats={\"data_pipeline\": \"/opt/ml/input/data/validation\", \"epoch\": 23, \"duration\": 11, \"num_examples\": 1, \"num_bytes\": 11544}\u001b[0m\n",
      "\u001b[34m#metrics {\"StartTime\": 1665673037.5025156, \"EndTime\": 1665673037.5025492, \"Dimensions\": {\"Algorithm\": \"Linear Learner\", \"Host\": \"algo-1\", \"Operation\": \"training\", \"epoch\": 7, \"model\": 0}, \"Metrics\": {\"validation_multiclass_cross_entropy_objective\": {\"sum\": 0.9710025959186726, \"count\": 1, \"min\": 0.9710025959186726, \"max\": 0.9710025959186726}}}\u001b[0m\n",
      "\u001b[34m#metrics {\"StartTime\": 1665673037.5026374, \"EndTime\": 1665673037.5026598, \"Dimensions\": {\"Algorithm\": \"Linear Learner\", \"Host\": \"algo-1\", \"Operation\": \"training\", \"epoch\": 7, \"model\": 1}, \"Metrics\": {\"validation_multiclass_cross_entropy_objective\": {\"sum\": 0.9522011559288781, \"count\": 1, \"min\": 0.9522011559288781, \"max\": 0.9522011559288781}}}\u001b[0m\n",
      "\u001b[34m#metrics {\"StartTime\": 1665673037.502723, \"EndTime\": 1665673037.50274, \"Dimensions\": {\"Algorithm\": \"Linear Learner\", \"Host\": \"algo-1\", \"Operation\": \"training\", \"epoch\": 7, \"model\": 2}, \"Metrics\": {\"validation_multiclass_cross_entropy_objective\": {\"sum\": 0.8751449584960938, \"count\": 1, \"min\": 0.8751449584960938, \"max\": 0.8751449584960938}}}\u001b[0m\n",
      "\u001b[34m#metrics {\"StartTime\": 1665673037.5027938, \"EndTime\": 1665673037.5028121, \"Dimensions\": {\"Algorithm\": \"Linear Learner\", \"Host\": \"algo-1\", \"Operation\": \"training\", \"epoch\": 7, \"model\": 3}, \"Metrics\": {\"validation_multiclass_cross_entropy_objective\": {\"sum\": 0.9035690582550324, \"count\": 1, \"min\": 0.9035690582550324, \"max\": 0.9035690582550324}}}\u001b[0m\n",
      "\u001b[34m#metrics {\"StartTime\": 1665673037.5028667, \"EndTime\": 1665673037.5028784, \"Dimensions\": {\"Algorithm\": \"Linear Learner\", \"Host\": \"algo-1\", \"Operation\": \"training\", \"epoch\": 7, \"model\": 4}, \"Metrics\": {\"validation_multiclass_cross_entropy_objective\": {\"sum\": 0.9752499692074887, \"count\": 1, \"min\": 0.9752499692074887, \"max\": 0.9752499692074887}}}\u001b[0m\n",
      "\u001b[34m#metrics {\"StartTime\": 1665673037.5029254, \"EndTime\": 1665673037.5029423, \"Dimensions\": {\"Algorithm\": \"Linear Learner\", \"Host\": \"algo-1\", \"Operation\": \"training\", \"epoch\": 7, \"model\": 5}, \"Metrics\": {\"validation_multiclass_cross_entropy_objective\": {\"sum\": 0.9385290747290259, \"count\": 1, \"min\": 0.9385290747290259, \"max\": 0.9385290747290259}}}\u001b[0m\n",
      "\u001b[34m#metrics {\"StartTime\": 1665673037.5029948, \"EndTime\": 1665673037.5030115, \"Dimensions\": {\"Algorithm\": \"Linear Learner\", \"Host\": \"algo-1\", \"Operation\": \"training\", \"epoch\": 7, \"model\": 6}, \"Metrics\": {\"validation_multiclass_cross_entropy_objective\": {\"sum\": 0.8457017503343187, \"count\": 1, \"min\": 0.8457017503343187, \"max\": 0.8457017503343187}}}\u001b[0m\n",
      "\u001b[34m#metrics {\"StartTime\": 1665673037.503061, \"EndTime\": 1665673037.503078, \"Dimensions\": {\"Algorithm\": \"Linear Learner\", \"Host\": \"algo-1\", \"Operation\": \"training\", \"epoch\": 7, \"model\": 7}, \"Metrics\": {\"validation_multiclass_cross_entropy_objective\": {\"sum\": 0.9978819151182432, \"count\": 1, \"min\": 0.9978819151182432, \"max\": 0.9978819151182432}}}\u001b[0m\n",
      "\u001b[34m#metrics {\"StartTime\": 1665673037.5031295, \"EndTime\": 1665673037.503146, \"Dimensions\": {\"Algorithm\": \"Linear Learner\", \"Host\": \"algo-1\", \"Operation\": \"training\", \"epoch\": 7, \"model\": 8}, \"Metrics\": {\"validation_multiclass_cross_entropy_objective\": {\"sum\": 0.7345062805725647, \"count\": 1, \"min\": 0.7345062805725647, \"max\": 0.7345062805725647}}}\u001b[0m\n",
      "\u001b[34m#metrics {\"StartTime\": 1665673037.5032167, \"EndTime\": 1665673037.5032356, \"Dimensions\": {\"Algorithm\": \"Linear Learner\", \"Host\": \"algo-1\", \"Operation\": \"training\", \"epoch\": 7, \"model\": 9}, \"Metrics\": {\"validation_multiclass_cross_entropy_objective\": {\"sum\": 0.8614959029464034, \"count\": 1, \"min\": 0.8614959029464034, \"max\": 0.8614959029464034}}}\u001b[0m\n",
      "\u001b[34m#metrics {\"StartTime\": 1665673037.5032833, \"EndTime\": 1665673037.5032938, \"Dimensions\": {\"Algorithm\": \"Linear Learner\", \"Host\": \"algo-1\", \"Operation\": \"training\", \"epoch\": 7, \"model\": 10}, \"Metrics\": {\"validation_multiclass_cross_entropy_objective\": {\"sum\": 1.0053842905405406, \"count\": 1, \"min\": 1.0053842905405406, \"max\": 1.0053842905405406}}}\u001b[0m\n",
      "\u001b[34m#metrics {\"StartTime\": 1665673037.5033417, \"EndTime\": 1665673037.5033584, \"Dimensions\": {\"Algorithm\": \"Linear Learner\", \"Host\": \"algo-1\", \"Operation\": \"training\", \"epoch\": 7, \"model\": 11}, \"Metrics\": {\"validation_multiclass_cross_entropy_objective\": {\"sum\": 0.7539334683804899, \"count\": 1, \"min\": 0.7539334683804899, \"max\": 0.7539334683804899}}}\u001b[0m\n",
      "\u001b[34m[10/13/2022 14:57:17 INFO 140479147329344] #quality_metric: host=algo-1, epoch=7, validation multiclass_cross_entropy_objective <loss>=0.9710025959186726\u001b[0m\n",
      "\u001b[34m[10/13/2022 14:57:17 INFO 140479147329344] #early_stopping_criteria_metric: host=algo-1, epoch=7, criteria=multiclass_cross_entropy_objective, value=0.7345062805725647\u001b[0m\n",
      "\u001b[34m[10/13/2022 14:57:17 INFO 140479147329344] Epoch 7: Loss improved. Updating best model\u001b[0m\n",
      "\u001b[34m[10/13/2022 14:57:17 INFO 140479147329344] Saving model for epoch: 7\u001b[0m\n",
      "\u001b[34m[10/13/2022 14:57:17 INFO 140479147329344] Saved checkpoint to \"/tmp/tmp0penalxn/mx-mod-0000.params\"\u001b[0m\n",
      "\u001b[34m[10/13/2022 14:57:17 INFO 140479147329344] #progress_metric: host=algo-1, completed 53.333333333333336 % of epochs\u001b[0m\n",
      "\u001b[34m#metrics {\"StartTime\": 1665673037.4472294, \"EndTime\": 1665673037.513333, \"Dimensions\": {\"Algorithm\": \"Linear Learner\", \"Host\": \"algo-1\", \"Operation\": \"training\", \"epoch\": 7, \"Meta\": \"training_data_iter\"}, \"Metrics\": {\"Total Records Seen\": {\"sum\": 16984.0, \"count\": 1, \"min\": 16984, \"max\": 16984}, \"Total Batches Seen\": {\"sum\": 19.0, \"count\": 1, \"min\": 19, \"max\": 19}, \"Max Records Seen Between Resets\": {\"sum\": 1776.0, \"count\": 1, \"min\": 1776, \"max\": 1776}, \"Max Batches Seen Between Resets\": {\"sum\": 2.0, \"count\": 1, \"min\": 2, \"max\": 2}, \"Reset Count\": {\"sum\": 10.0, \"count\": 1, \"min\": 10, \"max\": 10}, \"Number of Records Since Last Reset\": {\"sum\": 1776.0, \"count\": 1, \"min\": 1776, \"max\": 1776}, \"Number of Batches Since Last Reset\": {\"sum\": 2.0, \"count\": 1, \"min\": 2, \"max\": 2}}}\u001b[0m\n",
      "\u001b[34m[10/13/2022 14:57:17 INFO 140479147329344] #throughput_metric: host=algo-1, train throughput=26802.11098517967 records/second\u001b[0m\n",
      "\u001b[34m[2022-10-13 14:57:17.536] [tensorio] [info] epoch_stats={\"data_pipeline\": \"/opt/ml/input/data/train\", \"epoch\": 20, \"duration\": 22, \"num_examples\": 2, \"num_bytes\": 92352}\u001b[0m\n",
      "\u001b[34m#metrics {\"StartTime\": 1665673037.5364099, \"EndTime\": 1665673037.536466, \"Dimensions\": {\"Algorithm\": \"Linear Learner\", \"Host\": \"algo-1\", \"Operation\": \"training\", \"epoch\": 8, \"model\": 0}, \"Metrics\": {\"train_multiclass_cross_entropy_objective\": {\"sum\": 0.9742128295898438, \"count\": 1, \"min\": 0.9742128295898438, \"max\": 0.9742128295898438}}}\u001b[0m\n",
      "\u001b[34m#metrics {\"StartTime\": 1665673037.5365443, \"EndTime\": 1665673037.536565, \"Dimensions\": {\"Algorithm\": \"Linear Learner\", \"Host\": \"algo-1\", \"Operation\": \"training\", \"epoch\": 8, \"model\": 1}, \"Metrics\": {\"train_multiclass_cross_entropy_objective\": {\"sum\": 0.9560975952148437, \"count\": 1, \"min\": 0.9560975952148437, \"max\": 0.9560975952148437}}}\u001b[0m\n",
      "\u001b[34m#metrics {\"StartTime\": 1665673037.536629, \"EndTime\": 1665673037.5366483, \"Dimensions\": {\"Algorithm\": \"Linear Learner\", \"Host\": \"algo-1\", \"Operation\": \"training\", \"epoch\": 8, \"model\": 2}, \"Metrics\": {\"train_multiclass_cross_entropy_objective\": {\"sum\": 0.88151708984375, \"count\": 1, \"min\": 0.88151708984375, \"max\": 0.88151708984375}}}\u001b[0m\n",
      "\u001b[34m#metrics {\"StartTime\": 1665673037.536707, \"EndTime\": 1665673037.5367255, \"Dimensions\": {\"Algorithm\": \"Linear Learner\", \"Host\": \"algo-1\", \"Operation\": \"training\", \"epoch\": 8, \"model\": 3}, \"Metrics\": {\"train_multiclass_cross_entropy_objective\": {\"sum\": 0.9090670166015625, \"count\": 1, \"min\": 0.9090670166015625, \"max\": 0.9090670166015625}}}\u001b[0m\n",
      "\u001b[34m#metrics {\"StartTime\": 1665673037.5367928, \"EndTime\": 1665673037.5368114, \"Dimensions\": {\"Algorithm\": \"Linear Learner\", \"Host\": \"algo-1\", \"Operation\": \"training\", \"epoch\": 8, \"model\": 4}, \"Metrics\": {\"train_multiclass_cross_entropy_objective\": {\"sum\": 0.979219482421875, \"count\": 1, \"min\": 0.979219482421875, \"max\": 0.979219482421875}}}\u001b[0m\n",
      "\u001b[34m#metrics {\"StartTime\": 1665673037.5368686, \"EndTime\": 1665673037.536885, \"Dimensions\": {\"Algorithm\": \"Linear Learner\", \"Host\": \"algo-1\", \"Operation\": \"training\", \"epoch\": 8, \"model\": 5}, \"Metrics\": {\"train_multiclass_cross_entropy_objective\": {\"sum\": 0.9442431030273437, \"count\": 1, \"min\": 0.9442431030273437, \"max\": 0.9442431030273437}}}\u001b[0m\n",
      "\u001b[34m#metrics {\"StartTime\": 1665673037.53694, \"EndTime\": 1665673037.5369568, \"Dimensions\": {\"Algorithm\": \"Linear Learner\", \"Host\": \"algo-1\", \"Operation\": \"training\", \"epoch\": 8, \"model\": 6}, \"Metrics\": {\"train_multiclass_cross_entropy_objective\": {\"sum\": 0.857370361328125, \"count\": 1, \"min\": 0.857370361328125, \"max\": 0.857370361328125}}}\u001b[0m\n",
      "\u001b[34m#metrics {\"StartTime\": 1665673037.5370102, \"EndTime\": 1665673037.5370266, \"Dimensions\": {\"Algorithm\": \"Linear Learner\", \"Host\": \"algo-1\", \"Operation\": \"training\", \"epoch\": 8, \"model\": 7}, \"Metrics\": {\"train_multiclass_cross_entropy_objective\": {\"sum\": 1.0012473754882814, \"count\": 1, \"min\": 1.0012473754882814, \"max\": 1.0012473754882814}}}\u001b[0m\n",
      "\u001b[34m#metrics {\"StartTime\": 1665673037.5370896, \"EndTime\": 1665673037.5371606, \"Dimensions\": {\"Algorithm\": \"Linear Learner\", \"Host\": \"algo-1\", \"Operation\": \"training\", \"epoch\": 8, \"model\": 8}, \"Metrics\": {\"train_multiclass_cross_entropy_objective\": {\"sum\": 0.7468468017578125, \"count\": 1, \"min\": 0.7468468017578125, \"max\": 0.7468468017578125}}}\u001b[0m\n",
      "\u001b[34m#metrics {\"StartTime\": 1665673037.5372255, \"EndTime\": 1665673037.537244, \"Dimensions\": {\"Algorithm\": \"Linear Learner\", \"Host\": \"algo-1\", \"Operation\": \"training\", \"epoch\": 8, \"model\": 9}, \"Metrics\": {\"train_multiclass_cross_entropy_objective\": {\"sum\": 0.8839507446289062, \"count\": 1, \"min\": 0.8839507446289062, \"max\": 0.8839507446289062}}}\u001b[0m\n",
      "\u001b[34m#metrics {\"StartTime\": 1665673037.5372958, \"EndTime\": 1665673037.5373116, \"Dimensions\": {\"Algorithm\": \"Linear Learner\", \"Host\": \"algo-1\", \"Operation\": \"training\", \"epoch\": 8, \"model\": 10}, \"Metrics\": {\"train_multiclass_cross_entropy_objective\": {\"sum\": 1.009175048828125, \"count\": 1, \"min\": 1.009175048828125, \"max\": 1.009175048828125}}}\u001b[0m\n",
      "\u001b[34m#metrics {\"StartTime\": 1665673037.5373425, \"EndTime\": 1665673037.537351, \"Dimensions\": {\"Algorithm\": \"Linear Learner\", \"Host\": \"algo-1\", \"Operation\": \"training\", \"epoch\": 8, \"model\": 11}, \"Metrics\": {\"train_multiclass_cross_entropy_objective\": {\"sum\": 0.7669869384765625, \"count\": 1, \"min\": 0.7669869384765625, \"max\": 0.7669869384765625}}}\u001b[0m\n",
      "\u001b[34m[10/13/2022 14:57:17 INFO 140479147329344] #quality_metric: host=algo-1, epoch=8, train multiclass_cross_entropy_objective <loss>=0.9742128295898438\u001b[0m\n",
      "\u001b[34m[2022-10-13 14:57:17.563] [tensorio] [info] epoch_stats={\"data_pipeline\": \"/opt/ml/input/data/validation\", \"epoch\": 26, \"duration\": 15, \"num_examples\": 1, \"num_bytes\": 11544}\u001b[0m\n",
      "\u001b[34m#metrics {\"StartTime\": 1665673037.5666645, \"EndTime\": 1665673037.5666983, \"Dimensions\": {\"Algorithm\": \"Linear Learner\", \"Host\": \"algo-1\", \"Operation\": \"training\", \"epoch\": 8, \"model\": 0}, \"Metrics\": {\"validation_multiclass_cross_entropy_objective\": {\"sum\": 0.9585014549461571, \"count\": 1, \"min\": 0.9585014549461571, \"max\": 0.9585014549461571}}}\u001b[0m\n",
      "\u001b[34m#metrics {\"StartTime\": 1665673037.5667663, \"EndTime\": 1665673037.566788, \"Dimensions\": {\"Algorithm\": \"Linear Learner\", \"Host\": \"algo-1\", \"Operation\": \"training\", \"epoch\": 8, \"model\": 1}, \"Metrics\": {\"validation_multiclass_cross_entropy_objective\": {\"sum\": 0.9375753316793356, \"count\": 1, \"min\": 0.9375753316793356, \"max\": 0.9375753316793356}}}\u001b[0m\n",
      "\u001b[34m#metrics {\"StartTime\": 1665673037.5668511, \"EndTime\": 1665673037.5668707, \"Dimensions\": {\"Algorithm\": \"Linear Learner\", \"Host\": \"algo-1\", \"Operation\": \"training\", \"epoch\": 8, \"model\": 2}, \"Metrics\": {\"validation_multiclass_cross_entropy_objective\": {\"sum\": 0.8565547358882319, \"count\": 1, \"min\": 0.8565547358882319, \"max\": 0.8565547358882319}}}\u001b[0m\n",
      "\u001b[34m#metrics {\"StartTime\": 1665673037.56694, \"EndTime\": 1665673037.5669599, \"Dimensions\": {\"Algorithm\": \"Linear Learner\", \"Host\": \"algo-1\", \"Operation\": \"training\", \"epoch\": 8, \"model\": 3}, \"Metrics\": {\"validation_multiclass_cross_entropy_objective\": {\"sum\": 0.8892968667520059, \"count\": 1, \"min\": 0.8892968667520059, \"max\": 0.8892968667520059}}}\u001b[0m\n",
      "\u001b[34m#metrics {\"StartTime\": 1665673037.5670147, \"EndTime\": 1665673037.5670319, \"Dimensions\": {\"Algorithm\": \"Linear Learner\", \"Host\": \"algo-1\", \"Operation\": \"training\", \"epoch\": 8, \"model\": 4}, \"Metrics\": {\"validation_multiclass_cross_entropy_objective\": {\"sum\": 0.9593923757742117, \"count\": 1, \"min\": 0.9593923757742117, \"max\": 0.9593923757742117}}}\u001b[0m\n",
      "\u001b[34m#metrics {\"StartTime\": 1665673037.5670652, \"EndTime\": 1665673037.5670748, \"Dimensions\": {\"Algorithm\": \"Linear Learner\", \"Host\": \"algo-1\", \"Operation\": \"training\", \"epoch\": 8, \"model\": 5}, \"Metrics\": {\"validation_multiclass_cross_entropy_objective\": {\"sum\": 0.9286073564409135, \"count\": 1, \"min\": 0.9286073564409135, \"max\": 0.9286073564409135}}}\u001b[0m\n",
      "\u001b[34m#metrics {\"StartTime\": 1665673037.5671012, \"EndTime\": 1665673037.5671103, \"Dimensions\": {\"Algorithm\": \"Linear Learner\", \"Host\": \"algo-1\", \"Operation\": \"training\", \"epoch\": 8, \"model\": 6}, \"Metrics\": {\"validation_multiclass_cross_entropy_objective\": {\"sum\": 0.839864782384924, \"count\": 1, \"min\": 0.839864782384924, \"max\": 0.839864782384924}}}\u001b[0m\n",
      "\u001b[34m#metrics {\"StartTime\": 1665673037.5671604, \"EndTime\": 1665673037.5671763, \"Dimensions\": {\"Algorithm\": \"Linear Learner\", \"Host\": \"algo-1\", \"Operation\": \"training\", \"epoch\": 8, \"model\": 7}, \"Metrics\": {\"validation_multiclass_cross_entropy_objective\": {\"sum\": 0.9874037321623381, \"count\": 1, \"min\": 0.9874037321623381, \"max\": 0.9874037321623381}}}\u001b[0m\n",
      "\u001b[34m#metrics {\"StartTime\": 1665673037.5672526, \"EndTime\": 1665673037.5672693, \"Dimensions\": {\"Algorithm\": \"Linear Learner\", \"Host\": \"algo-1\", \"Operation\": \"training\", \"epoch\": 8, \"model\": 8}, \"Metrics\": {\"validation_multiclass_cross_entropy_objective\": {\"sum\": 0.7201382748715512, \"count\": 1, \"min\": 0.7201382748715512, \"max\": 0.7201382748715512}}}\u001b[0m\n",
      "\u001b[34m#metrics {\"StartTime\": 1665673037.5685706, \"EndTime\": 1665673037.5685987, \"Dimensions\": {\"Algorithm\": \"Linear Learner\", \"Host\": \"algo-1\", \"Operation\": \"training\", \"epoch\": 8, \"model\": 9}, \"Metrics\": {\"validation_multiclass_cross_entropy_objective\": {\"sum\": 0.7733155671540681, \"count\": 1, \"min\": 0.7733155671540681, \"max\": 0.7733155671540681}}}\u001b[0m\n",
      "\u001b[34m#metrics {\"StartTime\": 1665673037.5686681, \"EndTime\": 1665673037.5686882, \"Dimensions\": {\"Algorithm\": \"Linear Learner\", \"Host\": \"algo-1\", \"Operation\": \"training\", \"epoch\": 8, \"model\": 10}, \"Metrics\": {\"validation_multiclass_cross_entropy_objective\": {\"sum\": 0.9966917295713682, \"count\": 1, \"min\": 0.9966917295713682, \"max\": 0.9966917295713682}}}\u001b[0m\n",
      "\u001b[34m#metrics {\"StartTime\": 1665673037.5687594, \"EndTime\": 1665673037.56878, \"Dimensions\": {\"Algorithm\": \"Linear Learner\", \"Host\": \"algo-1\", \"Operation\": \"training\", \"epoch\": 8, \"model\": 11}, \"Metrics\": {\"validation_multiclass_cross_entropy_objective\": {\"sum\": 0.7390858418232685, \"count\": 1, \"min\": 0.7390858418232685, \"max\": 0.7390858418232685}}}\u001b[0m\n",
      "\u001b[34m[10/13/2022 14:57:17 INFO 140479147329344] #quality_metric: host=algo-1, epoch=8, validation multiclass_cross_entropy_objective <loss>=0.9585014549461571\u001b[0m\n",
      "\u001b[34m[10/13/2022 14:57:17 INFO 140479147329344] #early_stopping_criteria_metric: host=algo-1, epoch=8, criteria=multiclass_cross_entropy_objective, value=0.7201382748715512\u001b[0m\n",
      "\u001b[34m[10/13/2022 14:57:17 INFO 140479147329344] Epoch 8: Loss improved. Updating best model\u001b[0m\n",
      "\u001b[34m[10/13/2022 14:57:17 INFO 140479147329344] Saving model for epoch: 8\u001b[0m\n",
      "\u001b[34m[10/13/2022 14:57:17 INFO 140479147329344] Saved checkpoint to \"/tmp/tmponermtw6/mx-mod-0000.params\"\u001b[0m\n",
      "\u001b[34m[10/13/2022 14:57:17 INFO 140479147329344] #progress_metric: host=algo-1, completed 60.0 % of epochs\u001b[0m\n",
      "\u001b[34m#metrics {\"StartTime\": 1665673037.5136378, \"EndTime\": 1665673037.577426, \"Dimensions\": {\"Algorithm\": \"Linear Learner\", \"Host\": \"algo-1\", \"Operation\": \"training\", \"epoch\": 8, \"Meta\": \"training_data_iter\"}, \"Metrics\": {\"Total Records Seen\": {\"sum\": 18760.0, \"count\": 1, \"min\": 18760, \"max\": 18760}, \"Total Batches Seen\": {\"sum\": 21.0, \"count\": 1, \"min\": 21, \"max\": 21}, \"Max Records Seen Between Resets\": {\"sum\": 1776.0, \"count\": 1, \"min\": 1776, \"max\": 1776}, \"Max Batches Seen Between Resets\": {\"sum\": 2.0, \"count\": 1, \"min\": 2, \"max\": 2}, \"Reset Count\": {\"sum\": 11.0, \"count\": 1, \"min\": 11, \"max\": 11}, \"Number of Records Since Last Reset\": {\"sum\": 1776.0, \"count\": 1, \"min\": 1776, \"max\": 1776}, \"Number of Batches Since Last Reset\": {\"sum\": 2.0, \"count\": 1, \"min\": 2, \"max\": 2}}}\u001b[0m\n",
      "\u001b[34m[10/13/2022 14:57:17 INFO 140479147329344] #throughput_metric: host=algo-1, train throughput=27773.119413001656 records/second\u001b[0m\n",
      "\u001b[34m[2022-10-13 14:57:17.598] [tensorio] [info] epoch_stats={\"data_pipeline\": \"/opt/ml/input/data/train\", \"epoch\": 22, \"duration\": 20, \"num_examples\": 2, \"num_bytes\": 92352}\u001b[0m\n",
      "\u001b[34m#metrics {\"StartTime\": 1665673037.5987446, \"EndTime\": 1665673037.5987914, \"Dimensions\": {\"Algorithm\": \"Linear Learner\", \"Host\": \"algo-1\", \"Operation\": \"training\", \"epoch\": 9, \"model\": 0}, \"Metrics\": {\"train_multiclass_cross_entropy_objective\": {\"sum\": 0.9618958129882812, \"count\": 1, \"min\": 0.9618958129882812, \"max\": 0.9618958129882812}}}\u001b[0m\n",
      "\u001b[34m#metrics {\"StartTime\": 1665673037.5988739, \"EndTime\": 1665673037.598897, \"Dimensions\": {\"Algorithm\": \"Linear Learner\", \"Host\": \"algo-1\", \"Operation\": \"training\", \"epoch\": 9, \"model\": 1}, \"Metrics\": {\"train_multiclass_cross_entropy_objective\": {\"sum\": 0.941915771484375, \"count\": 1, \"min\": 0.941915771484375, \"max\": 0.941915771484375}}}\u001b[0m\n",
      "\u001b[34m#metrics {\"StartTime\": 1665673037.5989392, \"EndTime\": 1665673037.5989497, \"Dimensions\": {\"Algorithm\": \"Linear Learner\", \"Host\": \"algo-1\", \"Operation\": \"training\", \"epoch\": 9, \"model\": 2}, \"Metrics\": {\"train_multiclass_cross_entropy_objective\": {\"sum\": 0.8639841918945312, \"count\": 1, \"min\": 0.8639841918945312, \"max\": 0.8639841918945312}}}\u001b[0m\n",
      "\u001b[34m#metrics {\"StartTime\": 1665673037.5989969, \"EndTime\": 1665673037.5990155, \"Dimensions\": {\"Algorithm\": \"Linear Learner\", \"Host\": \"algo-1\", \"Operation\": \"training\", \"epoch\": 9, \"model\": 3}, \"Metrics\": {\"train_multiclass_cross_entropy_objective\": {\"sum\": 0.8950126953125, \"count\": 1, \"min\": 0.8950126953125, \"max\": 0.8950126953125}}}\u001b[0m\n",
      "\u001b[34m#metrics {\"StartTime\": 1665673037.5990717, \"EndTime\": 1665673037.5990891, \"Dimensions\": {\"Algorithm\": \"Linear Learner\", \"Host\": \"algo-1\", \"Operation\": \"training\", \"epoch\": 9, \"model\": 4}, \"Metrics\": {\"train_multiclass_cross_entropy_objective\": {\"sum\": 0.964184814453125, \"count\": 1, \"min\": 0.964184814453125, \"max\": 0.964184814453125}}}\u001b[0m\n",
      "\u001b[34m#metrics {\"StartTime\": 1665673037.599147, \"EndTime\": 1665673037.5991654, \"Dimensions\": {\"Algorithm\": \"Linear Learner\", \"Host\": \"algo-1\", \"Operation\": \"training\", \"epoch\": 9, \"model\": 5}, \"Metrics\": {\"train_multiclass_cross_entropy_objective\": {\"sum\": 0.9346255493164063, \"count\": 1, \"min\": 0.9346255493164063, \"max\": 0.9346255493164063}}}\u001b[0m\n",
      "\u001b[34m#metrics {\"StartTime\": 1665673037.5992477, \"EndTime\": 1665673037.5992665, \"Dimensions\": {\"Algorithm\": \"Linear Learner\", \"Host\": \"algo-1\", \"Operation\": \"training\", \"epoch\": 9, \"model\": 6}, \"Metrics\": {\"train_multiclass_cross_entropy_objective\": {\"sum\": 0.8526281127929688, \"count\": 1, \"min\": 0.8526281127929688, \"max\": 0.8526281127929688}}}\u001b[0m\n",
      "\u001b[34m#metrics {\"StartTime\": 1665673037.5993226, \"EndTime\": 1665673037.599341, \"Dimensions\": {\"Algorithm\": \"Linear Learner\", \"Host\": \"algo-1\", \"Operation\": \"training\", \"epoch\": 9, \"model\": 7}, \"Metrics\": {\"train_multiclass_cross_entropy_objective\": {\"sum\": 0.990891357421875, \"count\": 1, \"min\": 0.990891357421875, \"max\": 0.990891357421875}}}\u001b[0m\n",
      "\u001b[34m#metrics {\"StartTime\": 1665673037.5993958, \"EndTime\": 1665673037.5994127, \"Dimensions\": {\"Algorithm\": \"Linear Learner\", \"Host\": \"algo-1\", \"Operation\": \"training\", \"epoch\": 9, \"model\": 8}, \"Metrics\": {\"train_multiclass_cross_entropy_objective\": {\"sum\": 0.733297607421875, \"count\": 1, \"min\": 0.733297607421875, \"max\": 0.733297607421875}}}\u001b[0m\n",
      "\u001b[34m#metrics {\"StartTime\": 1665673037.599479, \"EndTime\": 1665673037.5994995, \"Dimensions\": {\"Algorithm\": \"Linear Learner\", \"Host\": \"algo-1\", \"Operation\": \"training\", \"epoch\": 9, \"model\": 9}, \"Metrics\": {\"train_multiclass_cross_entropy_objective\": {\"sum\": 0.8032108764648438, \"count\": 1, \"min\": 0.8032108764648438, \"max\": 0.8032108764648438}}}\u001b[0m\n",
      "\u001b[34m#metrics {\"StartTime\": 1665673037.5995593, \"EndTime\": 1665673037.5995781, \"Dimensions\": {\"Algorithm\": \"Linear Learner\", \"Host\": \"algo-1\", \"Operation\": \"training\", \"epoch\": 9, \"model\": 10}, \"Metrics\": {\"train_multiclass_cross_entropy_objective\": {\"sum\": 1.0005331420898438, \"count\": 1, \"min\": 1.0005331420898438, \"max\": 1.0005331420898438}}}\u001b[0m\n",
      "\u001b[34m#metrics {\"StartTime\": 1665673037.5996337, \"EndTime\": 1665673037.5996516, \"Dimensions\": {\"Algorithm\": \"Linear Learner\", \"Host\": \"algo-1\", \"Operation\": \"training\", \"epoch\": 9, \"model\": 11}, \"Metrics\": {\"train_multiclass_cross_entropy_objective\": {\"sum\": 0.755513671875, \"count\": 1, \"min\": 0.755513671875, \"max\": 0.755513671875}}}\u001b[0m\n",
      "\u001b[34m[10/13/2022 14:57:17 INFO 140479147329344] #quality_metric: host=algo-1, epoch=9, train multiclass_cross_entropy_objective <loss>=0.9618958129882812\u001b[0m\n",
      "\u001b[34m[2022-10-13 14:57:17.623] [tensorio] [info] epoch_stats={\"data_pipeline\": \"/opt/ml/input/data/validation\", \"epoch\": 29, \"duration\": 11, \"num_examples\": 1, \"num_bytes\": 11544}\u001b[0m\n",
      "\u001b[34m#metrics {\"StartTime\": 1665673037.6280344, \"EndTime\": 1665673037.6280684, \"Dimensions\": {\"Algorithm\": \"Linear Learner\", \"Host\": \"algo-1\", \"Operation\": \"training\", \"epoch\": 9, \"model\": 0}, \"Metrics\": {\"validation_multiclass_cross_entropy_objective\": {\"sum\": 0.9445367761560388, \"count\": 1, \"min\": 0.9445367761560388, \"max\": 0.9445367761560388}}}\u001b[0m\n",
      "\u001b[34m#metrics {\"StartTime\": 1665673037.6281362, \"EndTime\": 1665673037.6281567, \"Dimensions\": {\"Algorithm\": \"Linear Learner\", \"Host\": \"algo-1\", \"Operation\": \"training\", \"epoch\": 9, \"model\": 1}, \"Metrics\": {\"validation_multiclass_cross_entropy_objective\": {\"sum\": 0.9207396636138091, \"count\": 1, \"min\": 0.9207396636138091, \"max\": 0.9207396636138091}}}\u001b[0m\n",
      "\u001b[34m#metrics {\"StartTime\": 1665673037.6282222, \"EndTime\": 1665673037.628242, \"Dimensions\": {\"Algorithm\": \"Linear Learner\", \"Host\": \"algo-1\", \"Operation\": \"training\", \"epoch\": 9, \"model\": 2}, \"Metrics\": {\"validation_multiclass_cross_entropy_objective\": {\"sum\": 0.8297453184385557, \"count\": 1, \"min\": 0.8297453184385557, \"max\": 0.8297453184385557}}}\u001b[0m\n",
      "\u001b[34m#metrics {\"StartTime\": 1665673037.6283047, \"EndTime\": 1665673037.6283233, \"Dimensions\": {\"Algorithm\": \"Linear Learner\", \"Host\": \"algo-1\", \"Operation\": \"training\", \"epoch\": 9, \"model\": 3}, \"Metrics\": {\"validation_multiclass_cross_entropy_objective\": {\"sum\": 0.8711527231577281, \"count\": 1, \"min\": 0.8711527231577281, \"max\": 0.8711527231577281}}}\u001b[0m\n",
      "\u001b[34m#metrics {\"StartTime\": 1665673037.6283832, \"EndTime\": 1665673037.6284018, \"Dimensions\": {\"Algorithm\": \"Linear Learner\", \"Host\": \"algo-1\", \"Operation\": \"training\", \"epoch\": 9, \"model\": 4}, \"Metrics\": {\"validation_multiclass_cross_entropy_objective\": {\"sum\": 0.9443805454013584, \"count\": 1, \"min\": 0.9443805454013584, \"max\": 0.9443805454013584}}}\u001b[0m\n",
      "\u001b[34m#metrics {\"StartTime\": 1665673037.6284602, \"EndTime\": 1665673037.6284792, \"Dimensions\": {\"Algorithm\": \"Linear Learner\", \"Host\": \"algo-1\", \"Operation\": \"training\", \"epoch\": 9, \"model\": 5}, \"Metrics\": {\"validation_multiclass_cross_entropy_objective\": {\"sum\": 0.919510368828301, \"count\": 1, \"min\": 0.919510368828301, \"max\": 0.919510368828301}}}\u001b[0m\n",
      "\u001b[34m#metrics {\"StartTime\": 1665673037.6285365, \"EndTime\": 1665673037.6285546, \"Dimensions\": {\"Algorithm\": \"Linear Learner\", \"Host\": \"algo-1\", \"Operation\": \"training\", \"epoch\": 9, \"model\": 6}, \"Metrics\": {\"validation_multiclass_cross_entropy_objective\": {\"sum\": 0.8361467241166948, \"count\": 1, \"min\": 0.8361467241166948, \"max\": 0.8361467241166948}}}\u001b[0m\n",
      "\u001b[34m#metrics {\"StartTime\": 1665673037.628611, \"EndTime\": 1665673037.6286297, \"Dimensions\": {\"Algorithm\": \"Linear Learner\", \"Host\": \"algo-1\", \"Operation\": \"training\", \"epoch\": 9, \"model\": 7}, \"Metrics\": {\"validation_multiclass_cross_entropy_objective\": {\"sum\": 0.9760390273085585, \"count\": 1, \"min\": 0.9760390273085585, \"max\": 0.9760390273085585}}}\u001b[0m\n",
      "\u001b[34m#metrics {\"StartTime\": 1665673037.6286874, \"EndTime\": 1665673037.6287055, \"Dimensions\": {\"Algorithm\": \"Linear Learner\", \"Host\": \"algo-1\", \"Operation\": \"training\", \"epoch\": 9, \"model\": 8}, \"Metrics\": {\"validation_multiclass_cross_entropy_objective\": {\"sum\": 0.7090885746586431, \"count\": 1, \"min\": 0.7090885746586431, \"max\": 0.7090885746586431}}}\u001b[0m\n",
      "\u001b[34m#metrics {\"StartTime\": 1665673037.6287632, \"EndTime\": 1665673037.6287808, \"Dimensions\": {\"Algorithm\": \"Linear Learner\", \"Host\": \"algo-1\", \"Operation\": \"training\", \"epoch\": 9, \"model\": 9}, \"Metrics\": {\"validation_multiclass_cross_entropy_objective\": {\"sum\": 0.8904751614407376, \"count\": 1, \"min\": 0.8904751614407376, \"max\": 0.8904751614407376}}}\u001b[0m\n",
      "\u001b[34m#metrics {\"StartTime\": 1665673037.6288366, \"EndTime\": 1665673037.6288552, \"Dimensions\": {\"Algorithm\": \"Linear Learner\", \"Host\": \"algo-1\", \"Operation\": \"training\", \"epoch\": 9, \"model\": 10}, \"Metrics\": {\"validation_multiclass_cross_entropy_objective\": {\"sum\": 0.9873264072177647, \"count\": 1, \"min\": 0.9873264072177647, \"max\": 0.9873264072177647}}}\u001b[0m\n",
      "\u001b[34m#metrics {\"StartTime\": 1665673037.6289139, \"EndTime\": 1665673037.6289327, \"Dimensions\": {\"Algorithm\": \"Linear Learner\", \"Host\": \"algo-1\", \"Operation\": \"training\", \"epoch\": 9, \"model\": 11}, \"Metrics\": {\"validation_multiclass_cross_entropy_objective\": {\"sum\": 0.732469232232721, \"count\": 1, \"min\": 0.732469232232721, \"max\": 0.732469232232721}}}\u001b[0m\n",
      "\u001b[34m[10/13/2022 14:57:17 INFO 140479147329344] #quality_metric: host=algo-1, epoch=9, validation multiclass_cross_entropy_objective <loss>=0.9445367761560388\u001b[0m\n",
      "\u001b[34m[10/13/2022 14:57:17 INFO 140479147329344] #early_stopping_criteria_metric: host=algo-1, epoch=9, criteria=multiclass_cross_entropy_objective, value=0.7090885746586431\u001b[0m\n",
      "\u001b[34m[10/13/2022 14:57:17 INFO 140479147329344] Epoch 9: Loss improved. Updating best model\u001b[0m\n",
      "\u001b[34m[10/13/2022 14:57:17 INFO 140479147329344] Saving model for epoch: 9\u001b[0m\n",
      "\u001b[34m[10/13/2022 14:57:17 INFO 140479147329344] Saved checkpoint to \"/tmp/tmpz36swfzg/mx-mod-0000.params\"\u001b[0m\n",
      "\u001b[34m[10/13/2022 14:57:17 INFO 140479147329344] #progress_metric: host=algo-1, completed 66.66666666666667 % of epochs\u001b[0m\n",
      "\u001b[34m#metrics {\"StartTime\": 1665673037.5777638, \"EndTime\": 1665673037.6370306, \"Dimensions\": {\"Algorithm\": \"Linear Learner\", \"Host\": \"algo-1\", \"Operation\": \"training\", \"epoch\": 9, \"Meta\": \"training_data_iter\"}, \"Metrics\": {\"Total Records Seen\": {\"sum\": 20536.0, \"count\": 1, \"min\": 20536, \"max\": 20536}, \"Total Batches Seen\": {\"sum\": 23.0, \"count\": 1, \"min\": 23, \"max\": 23}, \"Max Records Seen Between Resets\": {\"sum\": 1776.0, \"count\": 1, \"min\": 1776, \"max\": 1776}, \"Max Batches Seen Between Resets\": {\"sum\": 2.0, \"count\": 1, \"min\": 2, \"max\": 2}, \"Reset Count\": {\"sum\": 12.0, \"count\": 1, \"min\": 12, \"max\": 12}, \"Number of Records Since Last Reset\": {\"sum\": 1776.0, \"count\": 1, \"min\": 1776, \"max\": 1776}, \"Number of Batches Since Last Reset\": {\"sum\": 2.0, \"count\": 1, \"min\": 2, \"max\": 2}}}\u001b[0m\n",
      "\u001b[34m[10/13/2022 14:57:17 INFO 140479147329344] #throughput_metric: host=algo-1, train throughput=29887.912178916198 records/second\u001b[0m\n",
      "\u001b[34m[2022-10-13 14:57:17.663] [tensorio] [info] epoch_stats={\"data_pipeline\": \"/opt/ml/input/data/train\", \"epoch\": 24, \"duration\": 25, \"num_examples\": 2, \"num_bytes\": 92352}\u001b[0m\n",
      "\u001b[34m#metrics {\"StartTime\": 1665673037.6635077, \"EndTime\": 1665673037.6636925, \"Dimensions\": {\"Algorithm\": \"Linear Learner\", \"Host\": \"algo-1\", \"Operation\": \"training\", \"epoch\": 10, \"model\": 0}, \"Metrics\": {\"train_multiclass_cross_entropy_objective\": {\"sum\": 0.9485713500976563, \"count\": 1, \"min\": 0.9485713500976563, \"max\": 0.9485713500976563}}}\u001b[0m\n",
      "\u001b[34m#metrics {\"StartTime\": 1665673037.6637769, \"EndTime\": 1665673037.6637957, \"Dimensions\": {\"Algorithm\": \"Linear Learner\", \"Host\": \"algo-1\", \"Operation\": \"training\", \"epoch\": 10, \"model\": 1}, \"Metrics\": {\"train_multiclass_cross_entropy_objective\": {\"sum\": 0.925982177734375, \"count\": 1, \"min\": 0.925982177734375, \"max\": 0.925982177734375}}}\u001b[0m\n",
      "\u001b[34m#metrics {\"StartTime\": 1665673037.6638567, \"EndTime\": 1665673037.663876, \"Dimensions\": {\"Algorithm\": \"Linear Learner\", \"Host\": \"algo-1\", \"Operation\": \"training\", \"epoch\": 10, \"model\": 2}, \"Metrics\": {\"train_multiclass_cross_entropy_objective\": {\"sum\": 0.8388611450195312, \"count\": 1, \"min\": 0.8388611450195312, \"max\": 0.8388611450195312}}}\u001b[0m\n",
      "\u001b[34m#metrics {\"StartTime\": 1665673037.6639373, \"EndTime\": 1665673037.6639566, \"Dimensions\": {\"Algorithm\": \"Linear Learner\", \"Host\": \"algo-1\", \"Operation\": \"training\", \"epoch\": 10, \"model\": 3}, \"Metrics\": {\"train_multiclass_cross_entropy_objective\": {\"sum\": 0.8776348876953125, \"count\": 1, \"min\": 0.8776348876953125, \"max\": 0.8776348876953125}}}\u001b[0m\n",
      "\u001b[34m#metrics {\"StartTime\": 1665673037.6640153, \"EndTime\": 1665673037.6640346, \"Dimensions\": {\"Algorithm\": \"Linear Learner\", \"Host\": \"algo-1\", \"Operation\": \"training\", \"epoch\": 10, \"model\": 4}, \"Metrics\": {\"train_multiclass_cross_entropy_objective\": {\"sum\": 0.949911376953125, \"count\": 1, \"min\": 0.949911376953125, \"max\": 0.949911376953125}}}\u001b[0m\n",
      "\u001b[34m#metrics {\"StartTime\": 1665673037.66409, \"EndTime\": 1665673037.6641073, \"Dimensions\": {\"Algorithm\": \"Linear Learner\", \"Host\": \"algo-1\", \"Operation\": \"training\", \"epoch\": 10, \"model\": 5}, \"Metrics\": {\"train_multiclass_cross_entropy_objective\": {\"sum\": 0.9256568603515625, \"count\": 1, \"min\": 0.9256568603515625, \"max\": 0.9256568603515625}}}\u001b[0m\n",
      "\u001b[34m#metrics {\"StartTime\": 1665673037.6641643, \"EndTime\": 1665673037.6641817, \"Dimensions\": {\"Algorithm\": \"Linear Learner\", \"Host\": \"algo-1\", \"Operation\": \"training\", \"epoch\": 10, \"model\": 6}, \"Metrics\": {\"train_multiclass_cross_entropy_objective\": {\"sum\": 0.8485236206054687, \"count\": 1, \"min\": 0.8485236206054687, \"max\": 0.8485236206054687}}}\u001b[0m\n",
      "\u001b[34m#metrics {\"StartTime\": 1665673037.6642387, \"EndTime\": 1665673037.6642568, \"Dimensions\": {\"Algorithm\": \"Linear Learner\", \"Host\": \"algo-1\", \"Operation\": \"training\", \"epoch\": 10, \"model\": 7}, \"Metrics\": {\"train_multiclass_cross_entropy_objective\": {\"sum\": 0.9800468139648437, \"count\": 1, \"min\": 0.9800468139648437, \"max\": 0.9800468139648437}}}\u001b[0m\n",
      "\u001b[34m#metrics {\"StartTime\": 1665673037.6643126, \"EndTime\": 1665673037.6643298, \"Dimensions\": {\"Algorithm\": \"Linear Learner\", \"Host\": \"algo-1\", \"Operation\": \"training\", \"epoch\": 10, \"model\": 8}, \"Metrics\": {\"train_multiclass_cross_entropy_objective\": {\"sum\": 0.7232676391601562, \"count\": 1, \"min\": 0.7232676391601562, \"max\": 0.7232676391601562}}}\u001b[0m\n",
      "\u001b[34m#metrics {\"StartTime\": 1665673037.664385, \"EndTime\": 1665673037.6644032, \"Dimensions\": {\"Algorithm\": \"Linear Learner\", \"Host\": \"algo-1\", \"Operation\": \"training\", \"epoch\": 10, \"model\": 9}, \"Metrics\": {\"train_multiclass_cross_entropy_objective\": {\"sum\": 0.9164950561523437, \"count\": 1, \"min\": 0.9164950561523437, \"max\": 0.9164950561523437}}}\u001b[0m\n",
      "\u001b[34m#metrics {\"StartTime\": 1665673037.664458, \"EndTime\": 1665673037.6644757, \"Dimensions\": {\"Algorithm\": \"Linear Learner\", \"Host\": \"algo-1\", \"Operation\": \"training\", \"epoch\": 10, \"model\": 10}, \"Metrics\": {\"train_multiclass_cross_entropy_objective\": {\"sum\": 0.9916439819335937, \"count\": 1, \"min\": 0.9916439819335937, \"max\": 0.9916439819335937}}}\u001b[0m\n",
      "\u001b[34m#metrics {\"StartTime\": 1665673037.6645317, \"EndTime\": 1665673037.6645486, \"Dimensions\": {\"Algorithm\": \"Linear Learner\", \"Host\": \"algo-1\", \"Operation\": \"training\", \"epoch\": 10, \"model\": 11}, \"Metrics\": {\"train_multiclass_cross_entropy_objective\": {\"sum\": 0.747091552734375, \"count\": 1, \"min\": 0.747091552734375, \"max\": 0.747091552734375}}}\u001b[0m\n",
      "\u001b[34m[10/13/2022 14:57:17 INFO 140479147329344] #quality_metric: host=algo-1, epoch=10, train multiclass_cross_entropy_objective <loss>=0.9485713500976563\u001b[0m\n",
      "\u001b[34m[2022-10-13 14:57:17.685] [tensorio] [info] epoch_stats={\"data_pipeline\": \"/opt/ml/input/data/validation\", \"epoch\": 32, \"duration\": 11, \"num_examples\": 1, \"num_bytes\": 11544}\u001b[0m\n",
      "\u001b[34m#metrics {\"StartTime\": 1665673037.6891482, \"EndTime\": 1665673037.689182, \"Dimensions\": {\"Algorithm\": \"Linear Learner\", \"Host\": \"algo-1\", \"Operation\": \"training\", \"epoch\": 10, \"model\": 0}, \"Metrics\": {\"validation_multiclass_cross_entropy_objective\": {\"sum\": 0.9316181492161106, \"count\": 1, \"min\": 0.9316181492161106, \"max\": 0.9316181492161106}}}\u001b[0m\n",
      "\u001b[34m#metrics {\"StartTime\": 1665673037.6892478, \"EndTime\": 1665673037.6892693, \"Dimensions\": {\"Algorithm\": \"Linear Learner\", \"Host\": \"algo-1\", \"Operation\": \"training\", \"epoch\": 10, \"model\": 1}, \"Metrics\": {\"validation_multiclass_cross_entropy_objective\": {\"sum\": 0.9051046285543356, \"count\": 1, \"min\": 0.9051046285543356, \"max\": 0.9051046285543356}}}\u001b[0m\n",
      "\u001b[34m#metrics {\"StartTime\": 1665673037.689333, \"EndTime\": 1665673037.6893525, \"Dimensions\": {\"Algorithm\": \"Linear Learner\", \"Host\": \"algo-1\", \"Operation\": \"training\", \"epoch\": 10, \"model\": 2}, \"Metrics\": {\"validation_multiclass_cross_entropy_objective\": {\"sum\": 0.8061451267551731, \"count\": 1, \"min\": 0.8061451267551731, \"max\": 0.8061451267551731}}}\u001b[0m\n",
      "\u001b[34m#metrics {\"StartTime\": 1665673037.6894138, \"EndTime\": 1665673037.6894333, \"Dimensions\": {\"Algorithm\": \"Linear Learner\", \"Host\": \"algo-1\", \"Operation\": \"training\", \"epoch\": 10, \"model\": 3}, \"Metrics\": {\"validation_multiclass_cross_entropy_objective\": {\"sum\": 0.8541580062728744, \"count\": 1, \"min\": 0.8541580062728744, \"max\": 0.8541580062728744}}}\u001b[0m\n",
      "\u001b[34m#metrics {\"StartTime\": 1665673037.6894913, \"EndTime\": 1665673037.6895096, \"Dimensions\": {\"Algorithm\": \"Linear Learner\", \"Host\": \"algo-1\", \"Operation\": \"training\", \"epoch\": 10, \"model\": 4}, \"Metrics\": {\"validation_multiclass_cross_entropy_objective\": {\"sum\": 0.9302162651543144, \"count\": 1, \"min\": 0.9302162651543144, \"max\": 0.9302162651543144}}}\u001b[0m\n",
      "\u001b[34m#metrics {\"StartTime\": 1665673037.689569, \"EndTime\": 1665673037.689587, \"Dimensions\": {\"Algorithm\": \"Linear Learner\", \"Host\": \"algo-1\", \"Operation\": \"training\", \"epoch\": 10, \"model\": 5}, \"Metrics\": {\"validation_multiclass_cross_entropy_objective\": {\"sum\": 0.9107974628070453, \"count\": 1, \"min\": 0.9107974628070453, \"max\": 0.9107974628070453}}}\u001b[0m\n",
      "\u001b[34m#metrics {\"StartTime\": 1665673037.689629, \"EndTime\": 1665673037.6896453, \"Dimensions\": {\"Algorithm\": \"Linear Learner\", \"Host\": \"algo-1\", \"Operation\": \"training\", \"epoch\": 10, \"model\": 6}, \"Metrics\": {\"validation_multiclass_cross_entropy_objective\": {\"sum\": 0.8320942784214879, \"count\": 1, \"min\": 0.8320942784214879, \"max\": 0.8320942784214879}}}\u001b[0m\n",
      "\u001b[34m#metrics {\"StartTime\": 1665673037.6896908, \"EndTime\": 1665673037.6897075, \"Dimensions\": {\"Algorithm\": \"Linear Learner\", \"Host\": \"algo-1\", \"Operation\": \"training\", \"epoch\": 10, \"model\": 7}, \"Metrics\": {\"validation_multiclass_cross_entropy_objective\": {\"sum\": 0.965047887853674, \"count\": 1, \"min\": 0.965047887853674, \"max\": 0.965047887853674}}}\u001b[0m\n",
      "\u001b[34m#metrics {\"StartTime\": 1665673037.6897604, \"EndTime\": 1665673037.6897802, \"Dimensions\": {\"Algorithm\": \"Linear Learner\", \"Host\": \"algo-1\", \"Operation\": \"training\", \"epoch\": 10, \"model\": 8}, \"Metrics\": {\"validation_multiclass_cross_entropy_objective\": {\"sum\": 0.700357385583826, \"count\": 1, \"min\": 0.700357385583826, \"max\": 0.700357385583826}}}\u001b[0m\n",
      "\u001b[34m#metrics {\"StartTime\": 1665673037.6898456, \"EndTime\": 1665673037.68986, \"Dimensions\": {\"Algorithm\": \"Linear Learner\", \"Host\": \"algo-1\", \"Operation\": \"training\", \"epoch\": 10, \"model\": 9}, \"Metrics\": {\"validation_multiclass_cross_entropy_objective\": {\"sum\": 1.1265192117776957, \"count\": 1, \"min\": 1.1265192117776957, \"max\": 1.1265192117776957}}}\u001b[0m\n",
      "\u001b[34m#metrics {\"StartTime\": 1665673037.6899111, \"EndTime\": 1665673037.6899285, \"Dimensions\": {\"Algorithm\": \"Linear Learner\", \"Host\": \"algo-1\", \"Operation\": \"training\", \"epoch\": 10, \"model\": 10}, \"Metrics\": {\"validation_multiclass_cross_entropy_objective\": {\"sum\": 0.9778387396185247, \"count\": 1, \"min\": 0.9778387396185247, \"max\": 0.9778387396185247}}}\u001b[0m\n",
      "\u001b[34m#metrics {\"StartTime\": 1665673037.6899807, \"EndTime\": 1665673037.6899962, \"Dimensions\": {\"Algorithm\": \"Linear Learner\", \"Host\": \"algo-1\", \"Operation\": \"training\", \"epoch\": 10, \"model\": 11}, \"Metrics\": {\"validation_multiclass_cross_entropy_objective\": {\"sum\": 0.7242622719154702, \"count\": 1, \"min\": 0.7242622719154702, \"max\": 0.7242622719154702}}}\u001b[0m\n",
      "\u001b[34m[10/13/2022 14:57:17 INFO 140479147329344] #quality_metric: host=algo-1, epoch=10, validation multiclass_cross_entropy_objective <loss>=0.9316181492161106\u001b[0m\n",
      "\u001b[34m[10/13/2022 14:57:17 INFO 140479147329344] #early_stopping_criteria_metric: host=algo-1, epoch=10, criteria=multiclass_cross_entropy_objective, value=0.700357385583826\u001b[0m\n",
      "\u001b[34m[10/13/2022 14:57:17 INFO 140479147329344] Epoch 10: Loss improved. Updating best model\u001b[0m\n",
      "\u001b[34m[10/13/2022 14:57:17 INFO 140479147329344] Saving model for epoch: 10\u001b[0m\n",
      "\u001b[34m[10/13/2022 14:57:17 INFO 140479147329344] Saved checkpoint to \"/tmp/tmp7tjf6lpm/mx-mod-0000.params\"\u001b[0m\n",
      "\u001b[34m[10/13/2022 14:57:17 INFO 140479147329344] #progress_metric: host=algo-1, completed 73.33333333333333 % of epochs\u001b[0m\n",
      "\u001b[34m#metrics {\"StartTime\": 1665673037.6373594, \"EndTime\": 1665673037.7019987, \"Dimensions\": {\"Algorithm\": \"Linear Learner\", \"Host\": \"algo-1\", \"Operation\": \"training\", \"epoch\": 10, \"Meta\": \"training_data_iter\"}, \"Metrics\": {\"Total Records Seen\": {\"sum\": 22312.0, \"count\": 1, \"min\": 22312, \"max\": 22312}, \"Total Batches Seen\": {\"sum\": 25.0, \"count\": 1, \"min\": 25, \"max\": 25}, \"Max Records Seen Between Resets\": {\"sum\": 1776.0, \"count\": 1, \"min\": 1776, \"max\": 1776}, \"Max Batches Seen Between Resets\": {\"sum\": 2.0, \"count\": 1, \"min\": 2, \"max\": 2}, \"Reset Count\": {\"sum\": 13.0, \"count\": 1, \"min\": 13, \"max\": 13}, \"Number of Records Since Last Reset\": {\"sum\": 1776.0, \"count\": 1, \"min\": 1776, \"max\": 1776}, \"Number of Batches Since Last Reset\": {\"sum\": 2.0, \"count\": 1, \"min\": 2, \"max\": 2}}}\u001b[0m\n",
      "\u001b[34m[10/13/2022 14:57:17 INFO 140479147329344] #throughput_metric: host=algo-1, train throughput=27416.37494019183 records/second\u001b[0m\n",
      "\u001b[34m[2022-10-13 14:57:17.726] [tensorio] [info] epoch_stats={\"data_pipeline\": \"/opt/ml/input/data/train\", \"epoch\": 26, \"duration\": 24, \"num_examples\": 2, \"num_bytes\": 92352}\u001b[0m\n",
      "\u001b[34m#metrics {\"StartTime\": 1665673037.7266119, \"EndTime\": 1665673037.726666, \"Dimensions\": {\"Algorithm\": \"Linear Learner\", \"Host\": \"algo-1\", \"Operation\": \"training\", \"epoch\": 11, \"model\": 0}, \"Metrics\": {\"train_multiclass_cross_entropy_objective\": {\"sum\": 0.936486328125, \"count\": 1, \"min\": 0.936486328125, \"max\": 0.936486328125}}}\u001b[0m\n",
      "\u001b[34m#metrics {\"StartTime\": 1665673037.7268438, \"EndTime\": 1665673037.7268705, \"Dimensions\": {\"Algorithm\": \"Linear Learner\", \"Host\": \"algo-1\", \"Operation\": \"training\", \"epoch\": 11, \"model\": 1}, \"Metrics\": {\"train_multiclass_cross_entropy_objective\": {\"sum\": 0.9114187622070312, \"count\": 1, \"min\": 0.9114187622070312, \"max\": 0.9114187622070312}}}\u001b[0m\n",
      "\u001b[34m#metrics {\"StartTime\": 1665673037.7270062, \"EndTime\": 1665673037.727033, \"Dimensions\": {\"Algorithm\": \"Linear Learner\", \"Host\": \"algo-1\", \"Operation\": \"training\", \"epoch\": 11, \"model\": 2}, \"Metrics\": {\"train_multiclass_cross_entropy_objective\": {\"sum\": 0.8171005859375, \"count\": 1, \"min\": 0.8171005859375, \"max\": 0.8171005859375}}}\u001b[0m\n",
      "\u001b[34m#metrics {\"StartTime\": 1665673037.7271023, \"EndTime\": 1665673037.7271204, \"Dimensions\": {\"Algorithm\": \"Linear Learner\", \"Host\": \"algo-1\", \"Operation\": \"training\", \"epoch\": 11, \"model\": 3}, \"Metrics\": {\"train_multiclass_cross_entropy_objective\": {\"sum\": 0.8616476440429688, \"count\": 1, \"min\": 0.8616476440429688, \"max\": 0.8616476440429688}}}\u001b[0m\n",
      "\u001b[34m#metrics {\"StartTime\": 1665673037.7271771, \"EndTime\": 1665673037.7272735, \"Dimensions\": {\"Algorithm\": \"Linear Learner\", \"Host\": \"algo-1\", \"Operation\": \"training\", \"epoch\": 11, \"model\": 4}, \"Metrics\": {\"train_multiclass_cross_entropy_objective\": {\"sum\": 0.9363878784179688, \"count\": 1, \"min\": 0.9363878784179688, \"max\": 0.9363878784179688}}}\u001b[0m\n",
      "\u001b[34m#metrics {\"StartTime\": 1665673037.7273402, \"EndTime\": 1665673037.7273605, \"Dimensions\": {\"Algorithm\": \"Linear Learner\", \"Host\": \"algo-1\", \"Operation\": \"training\", \"epoch\": 11, \"model\": 5}, \"Metrics\": {\"train_multiclass_cross_entropy_objective\": {\"sum\": 0.9172357177734375, \"count\": 1, \"min\": 0.9172357177734375, \"max\": 0.9172357177734375}}}\u001b[0m\n",
      "\u001b[34m#metrics {\"StartTime\": 1665673037.7274191, \"EndTime\": 1665673037.7274394, \"Dimensions\": {\"Algorithm\": \"Linear Learner\", \"Host\": \"algo-1\", \"Operation\": \"training\", \"epoch\": 11, \"model\": 6}, \"Metrics\": {\"train_multiclass_cross_entropy_objective\": {\"sum\": 0.8457938842773437, \"count\": 1, \"min\": 0.8457938842773437, \"max\": 0.8457938842773437}}}\u001b[0m\n",
      "\u001b[34m#metrics {\"StartTime\": 1665673037.7274945, \"EndTime\": 1665673037.727513, \"Dimensions\": {\"Algorithm\": \"Linear Learner\", \"Host\": \"algo-1\", \"Operation\": \"training\", \"epoch\": 11, \"model\": 7}, \"Metrics\": {\"train_multiclass_cross_entropy_objective\": {\"sum\": 0.9697664184570313, \"count\": 1, \"min\": 0.9697664184570313, \"max\": 0.9697664184570313}}}\u001b[0m\n",
      "\u001b[34m#metrics {\"StartTime\": 1665673037.7275677, \"EndTime\": 1665673037.7275846, \"Dimensions\": {\"Algorithm\": \"Linear Learner\", \"Host\": \"algo-1\", \"Operation\": \"training\", \"epoch\": 11, \"model\": 8}, \"Metrics\": {\"train_multiclass_cross_entropy_objective\": {\"sum\": 0.7157525024414062, \"count\": 1, \"min\": 0.7157525024414062, \"max\": 0.7157525024414062}}}\u001b[0m\n",
      "\u001b[34m#metrics {\"StartTime\": 1665673037.7276373, \"EndTime\": 1665673037.727655, \"Dimensions\": {\"Algorithm\": \"Linear Learner\", \"Host\": \"algo-1\", \"Operation\": \"training\", \"epoch\": 11, \"model\": 9}, \"Metrics\": {\"train_multiclass_cross_entropy_objective\": {\"sum\": 1.1543360595703125, \"count\": 1, \"min\": 1.1543360595703125, \"max\": 1.1543360595703125}}}\u001b[0m\n",
      "\u001b[34m#metrics {\"StartTime\": 1665673037.7277076, \"EndTime\": 1665673037.7277248, \"Dimensions\": {\"Algorithm\": \"Linear Learner\", \"Host\": \"algo-1\", \"Operation\": \"training\", \"epoch\": 11, \"model\": 10}, \"Metrics\": {\"train_multiclass_cross_entropy_objective\": {\"sum\": 0.982904296875, \"count\": 1, \"min\": 0.982904296875, \"max\": 0.982904296875}}}\u001b[0m\n",
      "\u001b[34m#metrics {\"StartTime\": 1665673037.7277777, \"EndTime\": 1665673037.7277956, \"Dimensions\": {\"Algorithm\": \"Linear Learner\", \"Host\": \"algo-1\", \"Operation\": \"training\", \"epoch\": 11, \"model\": 11}, \"Metrics\": {\"train_multiclass_cross_entropy_objective\": {\"sum\": 0.7418512573242187, \"count\": 1, \"min\": 0.7418512573242187, \"max\": 0.7418512573242187}}}\u001b[0m\n",
      "\u001b[34m[10/13/2022 14:57:17 INFO 140479147329344] #quality_metric: host=algo-1, epoch=11, train multiclass_cross_entropy_objective <loss>=0.936486328125\u001b[0m\n",
      "\u001b[34m[2022-10-13 14:57:17.752] [tensorio] [info] epoch_stats={\"data_pipeline\": \"/opt/ml/input/data/validation\", \"epoch\": 35, \"duration\": 12, \"num_examples\": 1, \"num_bytes\": 11544}\u001b[0m\n",
      "\u001b[34m#metrics {\"StartTime\": 1665673037.755824, \"EndTime\": 1665673037.7558572, \"Dimensions\": {\"Algorithm\": \"Linear Learner\", \"Host\": \"algo-1\", \"Operation\": \"training\", \"epoch\": 11, \"model\": 0}, \"Metrics\": {\"validation_multiclass_cross_entropy_objective\": {\"sum\": 0.9206571149396466, \"count\": 1, \"min\": 0.9206571149396466, \"max\": 0.9206571149396466}}}\u001b[0m\n",
      "\u001b[34m#metrics {\"StartTime\": 1665673037.755925, \"EndTime\": 1665673037.7559385, \"Dimensions\": {\"Algorithm\": \"Linear Learner\", \"Host\": \"algo-1\", \"Operation\": \"training\", \"epoch\": 11, \"model\": 1}, \"Metrics\": {\"validation_multiclass_cross_entropy_objective\": {\"sum\": 0.8926412221547719, \"count\": 1, \"min\": 0.8926412221547719, \"max\": 0.8926412221547719}}}\u001b[0m\n",
      "\u001b[34m#metrics {\"StartTime\": 1665673037.7560031, \"EndTime\": 1665673037.7560208, \"Dimensions\": {\"Algorithm\": \"Linear Learner\", \"Host\": \"algo-1\", \"Operation\": \"training\", \"epoch\": 11, \"model\": 2}, \"Metrics\": {\"validation_multiclass_cross_entropy_objective\": {\"sum\": 0.79347174017279, \"count\": 1, \"min\": 0.79347174017279, \"max\": 0.79347174017279}}}\u001b[0m\n",
      "\u001b[34m#metrics {\"StartTime\": 1665673037.756076, \"EndTime\": 1665673037.756092, \"Dimensions\": {\"Algorithm\": \"Linear Learner\", \"Host\": \"algo-1\", \"Operation\": \"training\", \"epoch\": 11, \"model\": 3}, \"Metrics\": {\"validation_multiclass_cross_entropy_objective\": {\"sum\": 0.8417616148252745, \"count\": 1, \"min\": 0.8417616148252745, \"max\": 0.8417616148252745}}}\u001b[0m\n",
      "\u001b[34m#metrics {\"StartTime\": 1665673037.756147, \"EndTime\": 1665673037.756165, \"Dimensions\": {\"Algorithm\": \"Linear Learner\", \"Host\": \"algo-1\", \"Operation\": \"training\", \"epoch\": 11, \"model\": 4}, \"Metrics\": {\"validation_multiclass_cross_entropy_objective\": {\"sum\": 0.9168795336474169, \"count\": 1, \"min\": 0.9168795336474169, \"max\": 0.9168795336474169}}}\u001b[0m\n",
      "\u001b[34m#metrics {\"StartTime\": 1665673037.7562199, \"EndTime\": 1665673037.7562377, \"Dimensions\": {\"Algorithm\": \"Linear Learner\", \"Host\": \"algo-1\", \"Operation\": \"training\", \"epoch\": 11, \"model\": 5}, \"Metrics\": {\"validation_multiclass_cross_entropy_objective\": {\"sum\": 0.9027696214280687, \"count\": 1, \"min\": 0.9027696214280687, \"max\": 0.9027696214280687}}}\u001b[0m\n",
      "\u001b[34m#metrics {\"StartTime\": 1665673037.7562907, \"EndTime\": 1665673037.756308, \"Dimensions\": {\"Algorithm\": \"Linear Learner\", \"Host\": \"algo-1\", \"Operation\": \"training\", \"epoch\": 11, \"model\": 6}, \"Metrics\": {\"validation_multiclass_cross_entropy_objective\": {\"sum\": 0.8300546182168497, \"count\": 1, \"min\": 0.8300546182168497, \"max\": 0.8300546182168497}}}\u001b[0m\n",
      "\u001b[34m#metrics {\"StartTime\": 1665673037.756356, \"EndTime\": 1665673037.7563736, \"Dimensions\": {\"Algorithm\": \"Linear Learner\", \"Host\": \"algo-1\", \"Operation\": \"training\", \"epoch\": 11, \"model\": 7}, \"Metrics\": {\"validation_multiclass_cross_entropy_objective\": {\"sum\": 0.9552351118208052, \"count\": 1, \"min\": 0.9552351118208052, \"max\": 0.9552351118208052}}}\u001b[0m\n",
      "\u001b[34m#metrics {\"StartTime\": 1665673037.756428, \"EndTime\": 1665673037.7564447, \"Dimensions\": {\"Algorithm\": \"Linear Learner\", \"Host\": \"algo-1\", \"Operation\": \"training\", \"epoch\": 11, \"model\": 8}, \"Metrics\": {\"validation_multiclass_cross_entropy_objective\": {\"sum\": 0.6932918101817638, \"count\": 1, \"min\": 0.6932918101817638, \"max\": 0.6932918101817638}}}\u001b[0m\n",
      "\u001b[34m#metrics {\"StartTime\": 1665673037.7564921, \"EndTime\": 1665673037.7565084, \"Dimensions\": {\"Algorithm\": \"Linear Learner\", \"Host\": \"algo-1\", \"Operation\": \"training\", \"epoch\": 11, \"model\": 9}, \"Metrics\": {\"validation_multiclass_cross_entropy_objective\": {\"sum\": 0.8486811319986979, \"count\": 1, \"min\": 0.8486811319986979, \"max\": 0.8486811319986979}}}\u001b[0m\n",
      "\u001b[34m#metrics {\"StartTime\": 1665673037.7565515, \"EndTime\": 1665673037.7565672, \"Dimensions\": {\"Algorithm\": \"Linear Learner\", \"Host\": \"algo-1\", \"Operation\": \"training\", \"epoch\": 11, \"model\": 10}, \"Metrics\": {\"validation_multiclass_cross_entropy_objective\": {\"sum\": 0.9689559936523438, \"count\": 1, \"min\": 0.9689559936523438, \"max\": 0.9689559936523438}}}\u001b[0m\n",
      "\u001b[34m#metrics {\"StartTime\": 1665673037.756625, \"EndTime\": 1665673037.7566423, \"Dimensions\": {\"Algorithm\": \"Linear Learner\", \"Host\": \"algo-1\", \"Operation\": \"training\", \"epoch\": 11, \"model\": 11}, \"Metrics\": {\"validation_multiclass_cross_entropy_objective\": {\"sum\": 0.7209465095588753, \"count\": 1, \"min\": 0.7209465095588753, \"max\": 0.7209465095588753}}}\u001b[0m\n",
      "\u001b[34m[10/13/2022 14:57:17 INFO 140479147329344] #quality_metric: host=algo-1, epoch=11, validation multiclass_cross_entropy_objective <loss>=0.9206571149396466\u001b[0m\n",
      "\u001b[34m[10/13/2022 14:57:17 INFO 140479147329344] #early_stopping_criteria_metric: host=algo-1, epoch=11, criteria=multiclass_cross_entropy_objective, value=0.6932918101817638\u001b[0m\n",
      "\u001b[34m[10/13/2022 14:57:17 INFO 140479147329344] Epoch 11: Loss improved. Updating best model\u001b[0m\n",
      "\u001b[34m[10/13/2022 14:57:17 INFO 140479147329344] Saving model for epoch: 11\u001b[0m\n",
      "\u001b[34m[10/13/2022 14:57:17 INFO 140479147329344] Saved checkpoint to \"/tmp/tmp6hc8zaup/mx-mod-0000.params\"\u001b[0m\n",
      "\u001b[34m[10/13/2022 14:57:17 INFO 140479147329344] #progress_metric: host=algo-1, completed 80.0 % of epochs\u001b[0m\n",
      "\u001b[34m#metrics {\"StartTime\": 1665673037.702322, \"EndTime\": 1665673037.769083, \"Dimensions\": {\"Algorithm\": \"Linear Learner\", \"Host\": \"algo-1\", \"Operation\": \"training\", \"epoch\": 11, \"Meta\": \"training_data_iter\"}, \"Metrics\": {\"Total Records Seen\": {\"sum\": 24088.0, \"count\": 1, \"min\": 24088, \"max\": 24088}, \"Total Batches Seen\": {\"sum\": 27.0, \"count\": 1, \"min\": 27, \"max\": 27}, \"Max Records Seen Between Resets\": {\"sum\": 1776.0, \"count\": 1, \"min\": 1776, \"max\": 1776}, \"Max Batches Seen Between Resets\": {\"sum\": 2.0, \"count\": 1, \"min\": 2, \"max\": 2}, \"Reset Count\": {\"sum\": 14.0, \"count\": 1, \"min\": 14, \"max\": 14}, \"Number of Records Since Last Reset\": {\"sum\": 1776.0, \"count\": 1, \"min\": 1776, \"max\": 1776}, \"Number of Batches Since Last Reset\": {\"sum\": 2.0, \"count\": 1, \"min\": 2, \"max\": 2}}}\u001b[0m\n",
      "\u001b[34m[10/13/2022 14:57:17 INFO 140479147329344] #throughput_metric: host=algo-1, train throughput=26511.082297672434 records/second\u001b[0m\n",
      "\u001b[34m[2022-10-13 14:57:17.803] [tensorio] [info] epoch_stats={\"data_pipeline\": \"/opt/ml/input/data/train\", \"epoch\": 28, \"duration\": 33, \"num_examples\": 2, \"num_bytes\": 92352}\u001b[0m\n",
      "\u001b[34m#metrics {\"StartTime\": 1665673037.8037777, \"EndTime\": 1665673037.8038354, \"Dimensions\": {\"Algorithm\": \"Linear Learner\", \"Host\": \"algo-1\", \"Operation\": \"training\", \"epoch\": 12, \"model\": 0}, \"Metrics\": {\"train_multiclass_cross_entropy_objective\": {\"sum\": 0.9263245849609375, \"count\": 1, \"min\": 0.9263245849609375, \"max\": 0.9263245849609375}}}\u001b[0m\n",
      "\u001b[34m#metrics {\"StartTime\": 1665673037.804003, \"EndTime\": 1665673037.8040307, \"Dimensions\": {\"Algorithm\": \"Linear Learner\", \"Host\": \"algo-1\", \"Operation\": \"training\", \"epoch\": 12, \"model\": 1}, \"Metrics\": {\"train_multiclass_cross_entropy_objective\": {\"sum\": 0.8999277954101562, \"count\": 1, \"min\": 0.8999277954101562, \"max\": 0.8999277954101562}}}\u001b[0m\n",
      "\u001b[34m#metrics {\"StartTime\": 1665673037.8041453, \"EndTime\": 1665673037.8041902, \"Dimensions\": {\"Algorithm\": \"Linear Learner\", \"Host\": \"algo-1\", \"Operation\": \"training\", \"epoch\": 12, \"model\": 2}, \"Metrics\": {\"train_multiclass_cross_entropy_objective\": {\"sum\": 0.8059401245117187, \"count\": 1, \"min\": 0.8059401245117187, \"max\": 0.8059401245117187}}}\u001b[0m\n",
      "\u001b[34m#metrics {\"StartTime\": 1665673037.8043056, \"EndTime\": 1665673037.804326, \"Dimensions\": {\"Algorithm\": \"Linear Learner\", \"Host\": \"algo-1\", \"Operation\": \"training\", \"epoch\": 12, \"model\": 3}, \"Metrics\": {\"train_multiclass_cross_entropy_objective\": {\"sum\": 0.8501904296875, \"count\": 1, \"min\": 0.8501904296875, \"max\": 0.8501904296875}}}\u001b[0m\n",
      "\u001b[34m#metrics {\"StartTime\": 1665673037.8044584, \"EndTime\": 1665673037.8044808, \"Dimensions\": {\"Algorithm\": \"Linear Learner\", \"Host\": \"algo-1\", \"Operation\": \"training\", \"epoch\": 12, \"model\": 4}, \"Metrics\": {\"train_multiclass_cross_entropy_objective\": {\"sum\": 0.9235873413085938, \"count\": 1, \"min\": 0.9235873413085938, \"max\": 0.9235873413085938}}}\u001b[0m\n",
      "\u001b[34m#metrics {\"StartTime\": 1665673037.8046262, \"EndTime\": 1665673037.8046494, \"Dimensions\": {\"Algorithm\": \"Linear Learner\", \"Host\": \"algo-1\", \"Operation\": \"training\", \"epoch\": 12, \"model\": 5}, \"Metrics\": {\"train_multiclass_cross_entropy_objective\": {\"sum\": 0.9092908325195312, \"count\": 1, \"min\": 0.9092908325195312, \"max\": 0.9092908325195312}}}\u001b[0m\n",
      "\u001b[34m#metrics {\"StartTime\": 1665673037.804715, \"EndTime\": 1665673037.804734, \"Dimensions\": {\"Algorithm\": \"Linear Learner\", \"Host\": \"algo-1\", \"Operation\": \"training\", \"epoch\": 12, \"model\": 6}, \"Metrics\": {\"train_multiclass_cross_entropy_objective\": {\"sum\": 0.8428941040039063, \"count\": 1, \"min\": 0.8428941040039063, \"max\": 0.8428941040039063}}}\u001b[0m\n",
      "\u001b[34m#metrics {\"StartTime\": 1665673037.8047967, \"EndTime\": 1665673037.804818, \"Dimensions\": {\"Algorithm\": \"Linear Learner\", \"Host\": \"algo-1\", \"Operation\": \"training\", \"epoch\": 12, \"model\": 7}, \"Metrics\": {\"train_multiclass_cross_entropy_objective\": {\"sum\": 0.9606159057617187, \"count\": 1, \"min\": 0.9606159057617187, \"max\": 0.9606159057617187}}}\u001b[0m\n",
      "\u001b[34m#metrics {\"StartTime\": 1665673037.8048704, \"EndTime\": 1665673037.8048904, \"Dimensions\": {\"Algorithm\": \"Linear Learner\", \"Host\": \"algo-1\", \"Operation\": \"training\", \"epoch\": 12, \"model\": 8}, \"Metrics\": {\"train_multiclass_cross_entropy_objective\": {\"sum\": 0.7100371704101562, \"count\": 1, \"min\": 0.7100371704101562, \"max\": 0.7100371704101562}}}\u001b[0m\n",
      "\u001b[34m#metrics {\"StartTime\": 1665673037.8049428, \"EndTime\": 1665673037.80496, \"Dimensions\": {\"Algorithm\": \"Linear Learner\", \"Host\": \"algo-1\", \"Operation\": \"training\", \"epoch\": 12, \"model\": 9}, \"Metrics\": {\"train_multiclass_cross_entropy_objective\": {\"sum\": 0.8775864868164063, \"count\": 1, \"min\": 0.8775864868164063, \"max\": 0.8775864868164063}}}\u001b[0m\n",
      "\u001b[34m#metrics {\"StartTime\": 1665673037.8050134, \"EndTime\": 1665673037.8050344, \"Dimensions\": {\"Algorithm\": \"Linear Learner\", \"Host\": \"algo-1\", \"Operation\": \"training\", \"epoch\": 12, \"model\": 10}, \"Metrics\": {\"train_multiclass_cross_entropy_objective\": {\"sum\": 0.9748095703125, \"count\": 1, \"min\": 0.9748095703125, \"max\": 0.9748095703125}}}\u001b[0m\n",
      "\u001b[34m#metrics {\"StartTime\": 1665673037.8051345, \"EndTime\": 1665673037.8051581, \"Dimensions\": {\"Algorithm\": \"Linear Learner\", \"Host\": \"algo-1\", \"Operation\": \"training\", \"epoch\": 12, \"model\": 11}, \"Metrics\": {\"train_multiclass_cross_entropy_objective\": {\"sum\": 0.7370922241210938, \"count\": 1, \"min\": 0.7370922241210938, \"max\": 0.7370922241210938}}}\u001b[0m\n",
      "\u001b[34m[10/13/2022 14:57:17 INFO 140479147329344] #quality_metric: host=algo-1, epoch=12, train multiclass_cross_entropy_objective <loss>=0.9263245849609375\u001b[0m\n",
      "\u001b[34m[2022-10-13 14:57:17.834] [tensorio] [info] epoch_stats={\"data_pipeline\": \"/opt/ml/input/data/validation\", \"epoch\": 38, \"duration\": 17, \"num_examples\": 1, \"num_bytes\": 11544}\u001b[0m\n",
      "\u001b[34m#metrics {\"StartTime\": 1665673037.8390992, \"EndTime\": 1665673037.839154, \"Dimensions\": {\"Algorithm\": \"Linear Learner\", \"Host\": \"algo-1\", \"Operation\": \"training\", \"epoch\": 12, \"model\": 0}, \"Metrics\": {\"validation_multiclass_cross_entropy_objective\": {\"sum\": 0.9108252310538077, \"count\": 1, \"min\": 0.9108252310538077, \"max\": 0.9108252310538077}}}\u001b[0m\n",
      "\u001b[34m#metrics {\"StartTime\": 1665673037.839286, \"EndTime\": 1665673037.83931, \"Dimensions\": {\"Algorithm\": \"Linear Learner\", \"Host\": \"algo-1\", \"Operation\": \"training\", \"epoch\": 12, \"model\": 1}, \"Metrics\": {\"validation_multiclass_cross_entropy_objective\": {\"sum\": 0.8820520349451013, \"count\": 1, \"min\": 0.8820520349451013, \"max\": 0.8820520349451013}}}\u001b[0m\n",
      "\u001b[34m#metrics {\"StartTime\": 1665673037.8393764, \"EndTime\": 1665673037.839396, \"Dimensions\": {\"Algorithm\": \"Linear Learner\", \"Host\": \"algo-1\", \"Operation\": \"training\", \"epoch\": 12, \"model\": 2}, \"Metrics\": {\"validation_multiclass_cross_entropy_objective\": {\"sum\": 0.7874741425385346, \"count\": 1, \"min\": 0.7874741425385346, \"max\": 0.7874741425385346}}}\u001b[0m\n",
      "\u001b[34m#metrics {\"StartTime\": 1665673037.8394566, \"EndTime\": 1665673037.8394766, \"Dimensions\": {\"Algorithm\": \"Linear Learner\", \"Host\": \"algo-1\", \"Operation\": \"training\", \"epoch\": 12, \"model\": 3}, \"Metrics\": {\"validation_multiclass_cross_entropy_objective\": {\"sum\": 0.8325396701022312, \"count\": 1, \"min\": 0.8325396701022312, \"max\": 0.8325396701022312}}}\u001b[0m\n",
      "\u001b[34m#metrics {\"StartTime\": 1665673037.8395512, \"EndTime\": 1665673037.8395696, \"Dimensions\": {\"Algorithm\": \"Linear Learner\", \"Host\": \"algo-1\", \"Operation\": \"training\", \"epoch\": 12, \"model\": 4}, \"Metrics\": {\"validation_multiclass_cross_entropy_objective\": {\"sum\": 0.904331585308453, \"count\": 1, \"min\": 0.904331585308453, \"max\": 0.904331585308453}}}\u001b[0m\n",
      "\u001b[34m#metrics {\"StartTime\": 1665673037.8396287, \"EndTime\": 1665673037.8396475, \"Dimensions\": {\"Algorithm\": \"Linear Learner\", \"Host\": \"algo-1\", \"Operation\": \"training\", \"epoch\": 12, \"model\": 5}, \"Metrics\": {\"validation_multiclass_cross_entropy_objective\": {\"sum\": 0.8949262601835234, \"count\": 1, \"min\": 0.8949262601835234, \"max\": 0.8949262601835234}}}\u001b[0m\n",
      "\u001b[34m#metrics {\"StartTime\": 1665673037.8397145, \"EndTime\": 1665673037.8397372, \"Dimensions\": {\"Algorithm\": \"Linear Learner\", \"Host\": \"algo-1\", \"Operation\": \"training\", \"epoch\": 12, \"model\": 6}, \"Metrics\": {\"validation_multiclass_cross_entropy_objective\": {\"sum\": 0.8271030047992328, \"count\": 1, \"min\": 0.8271030047992328, \"max\": 0.8271030047992328}}}\u001b[0m\n",
      "\u001b[34m#metrics {\"StartTime\": 1665673037.8398128, \"EndTime\": 1665673037.8398314, \"Dimensions\": {\"Algorithm\": \"Linear Learner\", \"Host\": \"algo-1\", \"Operation\": \"training\", \"epoch\": 12, \"model\": 7}, \"Metrics\": {\"validation_multiclass_cross_entropy_objective\": {\"sum\": 0.9462568953230575, \"count\": 1, \"min\": 0.9462568953230575, \"max\": 0.9462568953230575}}}\u001b[0m\n",
      "\u001b[34m#metrics {\"StartTime\": 1665673037.8399074, \"EndTime\": 1665673037.8399296, \"Dimensions\": {\"Algorithm\": \"Linear Learner\", \"Host\": \"algo-1\", \"Operation\": \"training\", \"epoch\": 12, \"model\": 8}, \"Metrics\": {\"validation_multiclass_cross_entropy_objective\": {\"sum\": 0.6876294935071791, \"count\": 1, \"min\": 0.6876294935071791, \"max\": 0.6876294935071791}}}\u001b[0m\n",
      "\u001b[34m#metrics {\"StartTime\": 1665673037.8399894, \"EndTime\": 1665673037.840008, \"Dimensions\": {\"Algorithm\": \"Linear Learner\", \"Host\": \"algo-1\", \"Operation\": \"training\", \"epoch\": 12, \"model\": 9}, \"Metrics\": {\"validation_multiclass_cross_entropy_objective\": {\"sum\": 0.9615854486688837, \"count\": 1, \"min\": 0.9615854486688837, \"max\": 0.9615854486688837}}}\u001b[0m\n",
      "\u001b[34m#metrics {\"StartTime\": 1665673037.8400567, \"EndTime\": 1665673037.840073, \"Dimensions\": {\"Algorithm\": \"Linear Learner\", \"Host\": \"algo-1\", \"Operation\": \"training\", \"epoch\": 12, \"model\": 10}, \"Metrics\": {\"validation_multiclass_cross_entropy_objective\": {\"sum\": 0.9608302760768581, \"count\": 1, \"min\": 0.9608302760768581, \"max\": 0.9608302760768581}}}\u001b[0m\n",
      "\u001b[34m#metrics {\"StartTime\": 1665673037.840123, \"EndTime\": 1665673037.840138, \"Dimensions\": {\"Algorithm\": \"Linear Learner\", \"Host\": \"algo-1\", \"Operation\": \"training\", \"epoch\": 12, \"model\": 11}, \"Metrics\": {\"validation_multiclass_cross_entropy_objective\": {\"sum\": 0.715646692224451, \"count\": 1, \"min\": 0.715646692224451, \"max\": 0.715646692224451}}}\u001b[0m\n",
      "\u001b[34m[10/13/2022 14:57:17 INFO 140479147329344] #quality_metric: host=algo-1, epoch=12, validation multiclass_cross_entropy_objective <loss>=0.9108252310538077\u001b[0m\n",
      "\u001b[34m[10/13/2022 14:57:17 INFO 140479147329344] #early_stopping_criteria_metric: host=algo-1, epoch=12, criteria=multiclass_cross_entropy_objective, value=0.6876294935071791\u001b[0m\n",
      "\u001b[34m[10/13/2022 14:57:17 INFO 140479147329344] Epoch 12: Loss improved. Updating best model\u001b[0m\n",
      "\u001b[34m[10/13/2022 14:57:17 INFO 140479147329344] Saving model for epoch: 12\u001b[0m\n",
      "\u001b[34m[10/13/2022 14:57:17 INFO 140479147329344] Saved checkpoint to \"/tmp/tmpjdowewv8/mx-mod-0000.params\"\u001b[0m\n",
      "\u001b[34m[10/13/2022 14:57:17 INFO 140479147329344] #progress_metric: host=algo-1, completed 86.66666666666667 % of epochs\u001b[0m\n",
      "\u001b[34m#metrics {\"StartTime\": 1665673037.76956, \"EndTime\": 1665673037.851556, \"Dimensions\": {\"Algorithm\": \"Linear Learner\", \"Host\": \"algo-1\", \"Operation\": \"training\", \"epoch\": 12, \"Meta\": \"training_data_iter\"}, \"Metrics\": {\"Total Records Seen\": {\"sum\": 25864.0, \"count\": 1, \"min\": 25864, \"max\": 25864}, \"Total Batches Seen\": {\"sum\": 29.0, \"count\": 1, \"min\": 29, \"max\": 29}, \"Max Records Seen Between Resets\": {\"sum\": 1776.0, \"count\": 1, \"min\": 1776, \"max\": 1776}, \"Max Batches Seen Between Resets\": {\"sum\": 2.0, \"count\": 1, \"min\": 2, \"max\": 2}, \"Reset Count\": {\"sum\": 15.0, \"count\": 1, \"min\": 15, \"max\": 15}, \"Number of Records Since Last Reset\": {\"sum\": 1776.0, \"count\": 1, \"min\": 1776, \"max\": 1776}, \"Number of Batches Since Last Reset\": {\"sum\": 2.0, \"count\": 1, \"min\": 2, \"max\": 2}}}\u001b[0m\n",
      "\u001b[34m[10/13/2022 14:57:17 INFO 140479147329344] #throughput_metric: host=algo-1, train throughput=21611.78118644412 records/second\u001b[0m\n",
      "\u001b[34m[2022-10-13 14:57:17.887] [tensorio] [info] epoch_stats={\"data_pipeline\": \"/opt/ml/input/data/train\", \"epoch\": 30, \"duration\": 35, \"num_examples\": 2, \"num_bytes\": 92352}\u001b[0m\n",
      "\u001b[34m#metrics {\"StartTime\": 1665673037.8879917, \"EndTime\": 1665673037.8880556, \"Dimensions\": {\"Algorithm\": \"Linear Learner\", \"Host\": \"algo-1\", \"Operation\": \"training\", \"epoch\": 13, \"model\": 0}, \"Metrics\": {\"train_multiclass_cross_entropy_objective\": {\"sum\": 0.9170615234375, \"count\": 1, \"min\": 0.9170615234375, \"max\": 0.9170615234375}}}\u001b[0m\n",
      "\u001b[34m#metrics {\"StartTime\": 1665673037.8884385, \"EndTime\": 1665673037.8885007, \"Dimensions\": {\"Algorithm\": \"Linear Learner\", \"Host\": \"algo-1\", \"Operation\": \"training\", \"epoch\": 13, \"model\": 1}, \"Metrics\": {\"train_multiclass_cross_entropy_objective\": {\"sum\": 0.890017822265625, \"count\": 1, \"min\": 0.890017822265625, \"max\": 0.890017822265625}}}\u001b[0m\n",
      "\u001b[34m#metrics {\"StartTime\": 1665673037.8888245, \"EndTime\": 1665673037.8888555, \"Dimensions\": {\"Algorithm\": \"Linear Learner\", \"Host\": \"algo-1\", \"Operation\": \"training\", \"epoch\": 13, \"model\": 2}, \"Metrics\": {\"train_multiclass_cross_entropy_objective\": {\"sum\": 0.8010418090820313, \"count\": 1, \"min\": 0.8010418090820313, \"max\": 0.8010418090820313}}}\u001b[0m\n",
      "\u001b[34m#metrics {\"StartTime\": 1665673037.888983, \"EndTime\": 1665673037.889006, \"Dimensions\": {\"Algorithm\": \"Linear Learner\", \"Host\": \"algo-1\", \"Operation\": \"training\", \"epoch\": 13, \"model\": 3}, \"Metrics\": {\"train_multiclass_cross_entropy_objective\": {\"sum\": 0.8416005249023437, \"count\": 1, \"min\": 0.8416005249023437, \"max\": 0.8416005249023437}}}\u001b[0m\n",
      "\u001b[34m#metrics {\"StartTime\": 1665673037.8890705, \"EndTime\": 1665673037.8890886, \"Dimensions\": {\"Algorithm\": \"Linear Learner\", \"Host\": \"algo-1\", \"Operation\": \"training\", \"epoch\": 13, \"model\": 4}, \"Metrics\": {\"train_multiclass_cross_entropy_objective\": {\"sum\": 0.911470703125, \"count\": 1, \"min\": 0.911470703125, \"max\": 0.911470703125}}}\u001b[0m\n",
      "\u001b[34m#metrics {\"StartTime\": 1665673037.889145, \"EndTime\": 1665673037.889162, \"Dimensions\": {\"Algorithm\": \"Linear Learner\", \"Host\": \"algo-1\", \"Operation\": \"training\", \"epoch\": 13, \"model\": 5}, \"Metrics\": {\"train_multiclass_cross_entropy_objective\": {\"sum\": 0.901758544921875, \"count\": 1, \"min\": 0.901758544921875, \"max\": 0.901758544921875}}}\u001b[0m\n",
      "\u001b[34m#metrics {\"StartTime\": 1665673037.889218, \"EndTime\": 1665673037.8892348, \"Dimensions\": {\"Algorithm\": \"Linear Learner\", \"Host\": \"algo-1\", \"Operation\": \"training\", \"epoch\": 13, \"model\": 6}, \"Metrics\": {\"train_multiclass_cross_entropy_objective\": {\"sum\": 0.8414108276367187, \"count\": 1, \"min\": 0.8414108276367187, \"max\": 0.8414108276367187}}}\u001b[0m\n",
      "\u001b[34m#metrics {\"StartTime\": 1665673037.88929, \"EndTime\": 1665673037.889312, \"Dimensions\": {\"Algorithm\": \"Linear Learner\", \"Host\": \"algo-1\", \"Operation\": \"training\", \"epoch\": 13, \"model\": 7}, \"Metrics\": {\"train_multiclass_cross_entropy_objective\": {\"sum\": 0.9520338134765625, \"count\": 1, \"min\": 0.9520338134765625, \"max\": 0.9520338134765625}}}\u001b[0m\n",
      "\u001b[34m#metrics {\"StartTime\": 1665673037.889369, \"EndTime\": 1665673037.8893833, \"Dimensions\": {\"Algorithm\": \"Linear Learner\", \"Host\": \"algo-1\", \"Operation\": \"training\", \"epoch\": 13, \"model\": 8}, \"Metrics\": {\"train_multiclass_cross_entropy_objective\": {\"sum\": 0.7057743530273437, \"count\": 1, \"min\": 0.7057743530273437, \"max\": 0.7057743530273437}}}\u001b[0m\n",
      "\u001b[34m#metrics {\"StartTime\": 1665673037.8894389, \"EndTime\": 1665673037.8894577, \"Dimensions\": {\"Algorithm\": \"Linear Learner\", \"Host\": \"algo-1\", \"Operation\": \"training\", \"epoch\": 13, \"model\": 9}, \"Metrics\": {\"train_multiclass_cross_entropy_objective\": {\"sum\": 0.994546630859375, \"count\": 1, \"min\": 0.994546630859375, \"max\": 0.994546630859375}}}\u001b[0m\n",
      "\u001b[34m#metrics {\"StartTime\": 1665673037.889517, \"EndTime\": 1665673037.889533, \"Dimensions\": {\"Algorithm\": \"Linear Learner\", \"Host\": \"algo-1\", \"Operation\": \"training\", \"epoch\": 13, \"model\": 10}, \"Metrics\": {\"train_multiclass_cross_entropy_objective\": {\"sum\": 0.9672753295898437, \"count\": 1, \"min\": 0.9672753295898437, \"max\": 0.9672753295898437}}}\u001b[0m\n",
      "\u001b[34m#metrics {\"StartTime\": 1665673037.8895938, \"EndTime\": 1665673037.8896081, \"Dimensions\": {\"Algorithm\": \"Linear Learner\", \"Host\": \"algo-1\", \"Operation\": \"training\", \"epoch\": 13, \"model\": 11}, \"Metrics\": {\"train_multiclass_cross_entropy_objective\": {\"sum\": 0.7346845092773437, \"count\": 1, \"min\": 0.7346845092773437, \"max\": 0.7346845092773437}}}\u001b[0m\n",
      "\u001b[34m[10/13/2022 14:57:17 INFO 140479147329344] #quality_metric: host=algo-1, epoch=13, train multiclass_cross_entropy_objective <loss>=0.9170615234375\u001b[0m\n",
      "\u001b[34m[2022-10-13 14:57:17.987] [tensorio] [info] epoch_stats={\"data_pipeline\": \"/opt/ml/input/data/validation\", \"epoch\": 41, \"duration\": 47, \"num_examples\": 1, \"num_bytes\": 11544}\u001b[0m\n",
      "\u001b[34m#metrics {\"StartTime\": 1665673037.9919965, \"EndTime\": 1665673037.9920576, \"Dimensions\": {\"Algorithm\": \"Linear Learner\", \"Host\": \"algo-1\", \"Operation\": \"training\", \"epoch\": 13, \"model\": 0}, \"Metrics\": {\"validation_multiclass_cross_entropy_objective\": {\"sum\": 0.9007824734524563, \"count\": 1, \"min\": 0.9007824734524563, \"max\": 0.9007824734524563}}}\u001b[0m\n",
      "\u001b[34m#metrics {\"StartTime\": 1665673037.9924047, \"EndTime\": 1665673037.992433, \"Dimensions\": {\"Algorithm\": \"Linear Learner\", \"Host\": \"algo-1\", \"Operation\": \"training\", \"epoch\": 13, \"model\": 1}, \"Metrics\": {\"validation_multiclass_cross_entropy_objective\": {\"sum\": 0.8710235045836853, \"count\": 1, \"min\": 0.8710235045836853, \"max\": 0.8710235045836853}}}\u001b[0m\n",
      "\u001b[34m#metrics {\"StartTime\": 1665673037.9927757, \"EndTime\": 1665673037.992841, \"Dimensions\": {\"Algorithm\": \"Linear Learner\", \"Host\": \"algo-1\", \"Operation\": \"training\", \"epoch\": 13, \"model\": 2}, \"Metrics\": {\"validation_multiclass_cross_entropy_objective\": {\"sum\": 0.7801455935916385, \"count\": 1, \"min\": 0.7801455935916385, \"max\": 0.7801455935916385}}}\u001b[0m\n",
      "\u001b[34m#metrics {\"StartTime\": 1665673037.993141, \"EndTime\": 1665673037.9931672, \"Dimensions\": {\"Algorithm\": \"Linear Learner\", \"Host\": \"algo-1\", \"Operation\": \"training\", \"epoch\": 13, \"model\": 3}, \"Metrics\": {\"validation_multiclass_cross_entropy_objective\": {\"sum\": 0.8227114978137317, \"count\": 1, \"min\": 0.8227114978137317, \"max\": 0.8227114978137317}}}\u001b[0m\n",
      "\u001b[34m#metrics {\"StartTime\": 1665673037.9934855, \"EndTime\": 1665673037.9935112, \"Dimensions\": {\"Algorithm\": \"Linear Learner\", \"Host\": \"algo-1\", \"Operation\": \"training\", \"epoch\": 13, \"model\": 4}, \"Metrics\": {\"validation_multiclass_cross_entropy_objective\": {\"sum\": 0.8925252003712697, \"count\": 1, \"min\": 0.8925252003712697, \"max\": 0.8925252003712697}}}\u001b[0m\n",
      "\u001b[34m#metrics {\"StartTime\": 1665673037.9938214, \"EndTime\": 1665673037.9938476, \"Dimensions\": {\"Algorithm\": \"Linear Learner\", \"Host\": \"algo-1\", \"Operation\": \"training\", \"epoch\": 13, \"model\": 5}, \"Metrics\": {\"validation_multiclass_cross_entropy_objective\": {\"sum\": 0.8877381333359727, \"count\": 1, \"min\": 0.8877381333359727, \"max\": 0.8877381333359727}}}\u001b[0m\n",
      "\u001b[34m#metrics {\"StartTime\": 1665673037.9941795, \"EndTime\": 1665673037.9942055, \"Dimensions\": {\"Algorithm\": \"Linear Learner\", \"Host\": \"algo-1\", \"Operation\": \"training\", \"epoch\": 13, \"model\": 6}, \"Metrics\": {\"validation_multiclass_cross_entropy_objective\": {\"sum\": 0.8262692013302365, \"count\": 1, \"min\": 0.8262692013302365, \"max\": 0.8262692013302365}}}\u001b[0m\n",
      "\u001b[34m#metrics {\"StartTime\": 1665673037.9947991, \"EndTime\": 1665673037.994826, \"Dimensions\": {\"Algorithm\": \"Linear Learner\", \"Host\": \"algo-1\", \"Operation\": \"training\", \"epoch\": 13, \"model\": 7}, \"Metrics\": {\"validation_multiclass_cross_entropy_objective\": {\"sum\": 0.937435734379399, \"count\": 1, \"min\": 0.937435734379399, \"max\": 0.937435734379399}}}\u001b[0m\n",
      "\u001b[34m#metrics {\"StartTime\": 1665673037.9951158, \"EndTime\": 1665673037.995141, \"Dimensions\": {\"Algorithm\": \"Linear Learner\", \"Host\": \"algo-1\", \"Operation\": \"training\", \"epoch\": 13, \"model\": 8}, \"Metrics\": {\"validation_multiclass_cross_entropy_objective\": {\"sum\": 0.6832418355855856, \"count\": 1, \"min\": 0.6832418355855856, \"max\": 0.6832418355855856}}}\u001b[0m\n",
      "\u001b[34m#metrics {\"StartTime\": 1665673037.9954727, \"EndTime\": 1665673037.9954982, \"Dimensions\": {\"Algorithm\": \"Linear Learner\", \"Host\": \"algo-1\", \"Operation\": \"training\", \"epoch\": 13, \"model\": 9}, \"Metrics\": {\"validation_multiclass_cross_entropy_objective\": {\"sum\": 0.7841880042273719, \"count\": 1, \"min\": 0.7841880042273719, \"max\": 0.7841880042273719}}}\u001b[0m\n",
      "\u001b[34m#metrics {\"StartTime\": 1665673037.995809, \"EndTime\": 1665673037.9958344, \"Dimensions\": {\"Algorithm\": \"Linear Learner\", \"Host\": \"algo-1\", \"Operation\": \"training\", \"epoch\": 13, \"model\": 10}, \"Metrics\": {\"validation_multiclass_cross_entropy_objective\": {\"sum\": 0.9531310485289978, \"count\": 1, \"min\": 0.9531310485289978, \"max\": 0.9531310485289978}}}\u001b[0m\n",
      "\u001b[34m#metrics {\"StartTime\": 1665673037.996152, \"EndTime\": 1665673037.9961774, \"Dimensions\": {\"Algorithm\": \"Linear Learner\", \"Host\": \"algo-1\", \"Operation\": \"training\", \"epoch\": 13, \"model\": 11}, \"Metrics\": {\"validation_multiclass_cross_entropy_objective\": {\"sum\": 0.7147295840151675, \"count\": 1, \"min\": 0.7147295840151675, \"max\": 0.7147295840151675}}}\u001b[0m\n",
      "\u001b[34m[10/13/2022 14:57:17 INFO 140479147329344] #quality_metric: host=algo-1, epoch=13, validation multiclass_cross_entropy_objective <loss>=0.9007824734524563\u001b[0m\n",
      "\u001b[34m[10/13/2022 14:57:17 INFO 140479147329344] #early_stopping_criteria_metric: host=algo-1, epoch=13, criteria=multiclass_cross_entropy_objective, value=0.6832418355855856\u001b[0m\n",
      "\u001b[34m[10/13/2022 14:57:17 INFO 140479147329344] Epoch 13: Loss improved. Updating best model\u001b[0m\n",
      "\u001b[34m[10/13/2022 14:57:18 INFO 140479147329344] Saving model for epoch: 13\u001b[0m\n",
      "\u001b[34m[10/13/2022 14:57:18 INFO 140479147329344] Saved checkpoint to \"/tmp/tmp2wwg31by/mx-mod-0000.params\"\u001b[0m\n",
      "\u001b[34m[10/13/2022 14:57:18 INFO 140479147329344] #progress_metric: host=algo-1, completed 93.33333333333333 % of epochs\u001b[0m\n",
      "\u001b[34m#metrics {\"StartTime\": 1665673037.8518918, \"EndTime\": 1665673038.0115635, \"Dimensions\": {\"Algorithm\": \"Linear Learner\", \"Host\": \"algo-1\", \"Operation\": \"training\", \"epoch\": 13, \"Meta\": \"training_data_iter\"}, \"Metrics\": {\"Total Records Seen\": {\"sum\": 27640.0, \"count\": 1, \"min\": 27640, \"max\": 27640}, \"Total Batches Seen\": {\"sum\": 31.0, \"count\": 1, \"min\": 31, \"max\": 31}, \"Max Records Seen Between Resets\": {\"sum\": 1776.0, \"count\": 1, \"min\": 1776, \"max\": 1776}, \"Max Batches Seen Between Resets\": {\"sum\": 2.0, \"count\": 1, \"min\": 2, \"max\": 2}, \"Reset Count\": {\"sum\": 16.0, \"count\": 1, \"min\": 16, \"max\": 16}, \"Number of Records Since Last Reset\": {\"sum\": 1776.0, \"count\": 1, \"min\": 1776, \"max\": 1776}, \"Number of Batches Since Last Reset\": {\"sum\": 2.0, \"count\": 1, \"min\": 2, \"max\": 2}}}\u001b[0m\n",
      "\u001b[34m[10/13/2022 14:57:18 INFO 140479147329344] #throughput_metric: host=algo-1, train throughput=11092.919321476596 records/second\u001b[0m\n",
      "\u001b[34m[2022-10-13 14:57:18.058] [tensorio] [info] epoch_stats={\"data_pipeline\": \"/opt/ml/input/data/train\", \"epoch\": 32, \"duration\": 46, \"num_examples\": 2, \"num_bytes\": 92352}\u001b[0m\n",
      "\u001b[34m#metrics {\"StartTime\": 1665673038.0590234, \"EndTime\": 1665673038.0590909, \"Dimensions\": {\"Algorithm\": \"Linear Learner\", \"Host\": \"algo-1\", \"Operation\": \"training\", \"epoch\": 14, \"model\": 0}, \"Metrics\": {\"train_multiclass_cross_entropy_objective\": {\"sum\": 0.9072907104492187, \"count\": 1, \"min\": 0.9072907104492187, \"max\": 0.9072907104492187}}}\u001b[0m\n",
      "\u001b[34m#metrics {\"StartTime\": 1665673038.0595117, \"EndTime\": 1665673038.0595717, \"Dimensions\": {\"Algorithm\": \"Linear Learner\", \"Host\": \"algo-1\", \"Operation\": \"training\", \"epoch\": 14, \"model\": 1}, \"Metrics\": {\"train_multiclass_cross_entropy_objective\": {\"sum\": 0.8793280029296875, \"count\": 1, \"min\": 0.8793280029296875, \"max\": 0.8793280029296875}}}\u001b[0m\n",
      "\u001b[34m#metrics {\"StartTime\": 1665673038.0600963, \"EndTime\": 1665673038.060129, \"Dimensions\": {\"Algorithm\": \"Linear Learner\", \"Host\": \"algo-1\", \"Operation\": \"training\", \"epoch\": 14, \"model\": 2}, \"Metrics\": {\"train_multiclass_cross_entropy_objective\": {\"sum\": 0.7944518432617188, \"count\": 1, \"min\": 0.7944518432617188, \"max\": 0.7944518432617188}}}\u001b[0m\n",
      "\u001b[34m#metrics {\"StartTime\": 1665673038.0604727, \"EndTime\": 1665673038.0605423, \"Dimensions\": {\"Algorithm\": \"Linear Learner\", \"Host\": \"algo-1\", \"Operation\": \"training\", \"epoch\": 14, \"model\": 3}, \"Metrics\": {\"train_multiclass_cross_entropy_objective\": {\"sum\": 0.8320138549804688, \"count\": 1, \"min\": 0.8320138549804688, \"max\": 0.8320138549804688}}}\u001b[0m\n",
      "\u001b[34m#metrics {\"StartTime\": 1665673038.0608864, \"EndTime\": 1665673038.0609136, \"Dimensions\": {\"Algorithm\": \"Linear Learner\", \"Host\": \"algo-1\", \"Operation\": \"training\", \"epoch\": 14, \"model\": 4}, \"Metrics\": {\"train_multiclass_cross_entropy_objective\": {\"sum\": 0.8999974975585937, \"count\": 1, \"min\": 0.8999974975585937, \"max\": 0.8999974975585937}}}\u001b[0m\n",
      "\u001b[34m#metrics {\"StartTime\": 1665673038.0612574, \"EndTime\": 1665673038.0613744, \"Dimensions\": {\"Algorithm\": \"Linear Learner\", \"Host\": \"algo-1\", \"Operation\": \"training\", \"epoch\": 14, \"model\": 5}, \"Metrics\": {\"train_multiclass_cross_entropy_objective\": {\"sum\": 0.8945975341796875, \"count\": 1, \"min\": 0.8945975341796875, \"max\": 0.8945975341796875}}}\u001b[0m\n",
      "\u001b[34m#metrics {\"StartTime\": 1665673038.0616982, \"EndTime\": 1665673038.0617557, \"Dimensions\": {\"Algorithm\": \"Linear Learner\", \"Host\": \"algo-1\", \"Operation\": \"training\", \"epoch\": 14, \"model\": 6}, \"Metrics\": {\"train_multiclass_cross_entropy_objective\": {\"sum\": 0.8393883666992188, \"count\": 1, \"min\": 0.8393883666992188, \"max\": 0.8393883666992188}}}\u001b[0m\n",
      "\u001b[34m#metrics {\"StartTime\": 1665673038.062073, \"EndTime\": 1665673038.0621192, \"Dimensions\": {\"Algorithm\": \"Linear Learner\", \"Host\": \"algo-1\", \"Operation\": \"training\", \"epoch\": 14, \"model\": 7}, \"Metrics\": {\"train_multiclass_cross_entropy_objective\": {\"sum\": 0.9432586059570313, \"count\": 1, \"min\": 0.9432586059570313, \"max\": 0.9432586059570313}}}\u001b[0m\n",
      "\u001b[34m#metrics {\"StartTime\": 1665673038.0624406, \"EndTime\": 1665673038.0624716, \"Dimensions\": {\"Algorithm\": \"Linear Learner\", \"Host\": \"algo-1\", \"Operation\": \"training\", \"epoch\": 14, \"model\": 8}, \"Metrics\": {\"train_multiclass_cross_entropy_objective\": {\"sum\": 0.702761474609375, \"count\": 1, \"min\": 0.702761474609375, \"max\": 0.702761474609375}}}\u001b[0m\n",
      "\u001b[34m#metrics {\"StartTime\": 1665673038.062808, \"EndTime\": 1665673038.062838, \"Dimensions\": {\"Algorithm\": \"Linear Learner\", \"Host\": \"algo-1\", \"Operation\": \"training\", \"epoch\": 14, \"model\": 9}, \"Metrics\": {\"train_multiclass_cross_entropy_objective\": {\"sum\": 0.8147272338867187, \"count\": 1, \"min\": 0.8147272338867187, \"max\": 0.8147272338867187}}}\u001b[0m\n",
      "\u001b[34m#metrics {\"StartTime\": 1665673038.063179, \"EndTime\": 1665673038.063207, \"Dimensions\": {\"Algorithm\": \"Linear Learner\", \"Host\": \"algo-1\", \"Operation\": \"training\", \"epoch\": 14, \"model\": 10}, \"Metrics\": {\"train_multiclass_cross_entropy_objective\": {\"sum\": 0.9598355102539062, \"count\": 1, \"min\": 0.9598355102539062, \"max\": 0.9598355102539062}}}\u001b[0m\n",
      "\u001b[34m#metrics {\"StartTime\": 1665673038.0635533, \"EndTime\": 1665673038.0635796, \"Dimensions\": {\"Algorithm\": \"Linear Learner\", \"Host\": \"algo-1\", \"Operation\": \"training\", \"epoch\": 14, \"model\": 11}, \"Metrics\": {\"train_multiclass_cross_entropy_objective\": {\"sum\": 0.7322227783203125, \"count\": 1, \"min\": 0.7322227783203125, \"max\": 0.7322227783203125}}}\u001b[0m\n",
      "\u001b[34m[10/13/2022 14:57:18 INFO 140479147329344] #quality_metric: host=algo-1, epoch=14, train multiclass_cross_entropy_objective <loss>=0.9072907104492187\u001b[0m\n",
      "\u001b[34m[2022-10-13 14:57:18.162] [tensorio] [info] epoch_stats={\"data_pipeline\": \"/opt/ml/input/data/validation\", \"epoch\": 44, \"duration\": 81, \"num_examples\": 1, \"num_bytes\": 11544}\u001b[0m\n",
      "\u001b[34m#metrics {\"StartTime\": 1665673038.1679623, \"EndTime\": 1665673038.1680286, \"Dimensions\": {\"Algorithm\": \"Linear Learner\", \"Host\": \"algo-1\", \"Operation\": \"training\", \"epoch\": 14, \"model\": 0}, \"Metrics\": {\"validation_multiclass_cross_entropy_objective\": {\"sum\": 0.8905522801854588, \"count\": 1, \"min\": 0.8905522801854588, \"max\": 0.8905522801854588}}}\u001b[0m\n",
      "\u001b[34m#metrics {\"StartTime\": 1665673038.1681564, \"EndTime\": 1665673038.1681788, \"Dimensions\": {\"Algorithm\": \"Linear Learner\", \"Host\": \"algo-1\", \"Operation\": \"training\", \"epoch\": 14, \"model\": 1}, \"Metrics\": {\"validation_multiclass_cross_entropy_objective\": {\"sum\": 0.8593943140528224, \"count\": 1, \"min\": 0.8593943140528224, \"max\": 0.8593943140528224}}}\u001b[0m\n",
      "\u001b[34m#metrics {\"StartTime\": 1665673038.1682425, \"EndTime\": 1665673038.1682613, \"Dimensions\": {\"Algorithm\": \"Linear Learner\", \"Host\": \"algo-1\", \"Operation\": \"training\", \"epoch\": 14, \"model\": 2}, \"Metrics\": {\"validation_multiclass_cross_entropy_objective\": {\"sum\": 0.7685393599776534, \"count\": 1, \"min\": 0.7685393599776534, \"max\": 0.7685393599776534}}}\u001b[0m\n",
      "\u001b[34m#metrics {\"StartTime\": 1665673038.1683168, \"EndTime\": 1665673038.1683335, \"Dimensions\": {\"Algorithm\": \"Linear Learner\", \"Host\": \"algo-1\", \"Operation\": \"training\", \"epoch\": 14, \"model\": 3}, \"Metrics\": {\"validation_multiclass_cross_entropy_objective\": {\"sum\": 0.8112817025399423, \"count\": 1, \"min\": 0.8112817025399423, \"max\": 0.8112817025399423}}}\u001b[0m\n",
      "\u001b[34m#metrics {\"StartTime\": 1665673038.1683886, \"EndTime\": 1665673038.1684058, \"Dimensions\": {\"Algorithm\": \"Linear Learner\", \"Host\": \"algo-1\", \"Operation\": \"training\", \"epoch\": 14, \"model\": 4}, \"Metrics\": {\"validation_multiclass_cross_entropy_objective\": {\"sum\": 0.8814151523349522, \"count\": 1, \"min\": 0.8814151523349522, \"max\": 0.8814151523349522}}}\u001b[0m\n",
      "\u001b[34m#metrics {\"StartTime\": 1665673038.1684582, \"EndTime\": 1665673038.1684752, \"Dimensions\": {\"Algorithm\": \"Linear Learner\", \"Host\": \"algo-1\", \"Operation\": \"training\", \"epoch\": 14, \"model\": 5}, \"Metrics\": {\"validation_multiclass_cross_entropy_objective\": {\"sum\": 0.880560522680884, \"count\": 1, \"min\": 0.880560522680884, \"max\": 0.880560522680884}}}\u001b[0m\n",
      "\u001b[34m#metrics {\"StartTime\": 1665673038.1685264, \"EndTime\": 1665673038.1685436, \"Dimensions\": {\"Algorithm\": \"Linear Learner\", \"Host\": \"algo-1\", \"Operation\": \"training\", \"epoch\": 14, \"model\": 6}, \"Metrics\": {\"validation_multiclass_cross_entropy_objective\": {\"sum\": 0.8240079450177716, \"count\": 1, \"min\": 0.8240079450177716, \"max\": 0.8240079450177716}}}\u001b[0m\n",
      "\u001b[34m#metrics {\"StartTime\": 1665673038.1685967, \"EndTime\": 1665673038.1686134, \"Dimensions\": {\"Algorithm\": \"Linear Learner\", \"Host\": \"algo-1\", \"Operation\": \"training\", \"epoch\": 14, \"model\": 7}, \"Metrics\": {\"validation_multiclass_cross_entropy_objective\": {\"sum\": 0.9287912179757883, \"count\": 1, \"min\": 0.9287912179757883, \"max\": 0.9287912179757883}}}\u001b[0m\n",
      "\u001b[34m#metrics {\"StartTime\": 1665673038.168662, \"EndTime\": 1665673038.16868, \"Dimensions\": {\"Algorithm\": \"Linear Learner\", \"Host\": \"algo-1\", \"Operation\": \"training\", \"epoch\": 14, \"model\": 8}, \"Metrics\": {\"validation_multiclass_cross_entropy_objective\": {\"sum\": 0.679933771356806, \"count\": 1, \"min\": 0.679933771356806, \"max\": 0.679933771356806}}}\u001b[0m\n",
      "\u001b[34m#metrics {\"StartTime\": 1665673038.168728, \"EndTime\": 1665673038.1687446, \"Dimensions\": {\"Algorithm\": \"Linear Learner\", \"Host\": \"algo-1\", \"Operation\": \"training\", \"epoch\": 14, \"model\": 9}, \"Metrics\": {\"validation_multiclass_cross_entropy_objective\": {\"sum\": 0.8714913033150338, \"count\": 1, \"min\": 0.8714913033150338, \"max\": 0.8714913033150338}}}\u001b[0m\n",
      "\u001b[34m#metrics {\"StartTime\": 1665673038.1687925, \"EndTime\": 1665673038.1688077, \"Dimensions\": {\"Algorithm\": \"Linear Learner\", \"Host\": \"algo-1\", \"Operation\": \"training\", \"epoch\": 14, \"model\": 10}, \"Metrics\": {\"validation_multiclass_cross_entropy_objective\": {\"sum\": 0.9456884710638372, \"count\": 1, \"min\": 0.9456884710638372, \"max\": 0.9456884710638372}}}\u001b[0m\n",
      "\u001b[34m#metrics {\"StartTime\": 1665673038.168863, \"EndTime\": 1665673038.1688778, \"Dimensions\": {\"Algorithm\": \"Linear Learner\", \"Host\": \"algo-1\", \"Operation\": \"training\", \"epoch\": 14, \"model\": 11}, \"Metrics\": {\"validation_multiclass_cross_entropy_objective\": {\"sum\": 0.7118841635214316, \"count\": 1, \"min\": 0.7118841635214316, \"max\": 0.7118841635214316}}}\u001b[0m\n",
      "\u001b[34m[10/13/2022 14:57:18 INFO 140479147329344] #quality_metric: host=algo-1, epoch=14, validation multiclass_cross_entropy_objective <loss>=0.8905522801854588\u001b[0m\n",
      "\u001b[34m[10/13/2022 14:57:18 INFO 140479147329344] #early_stopping_criteria_metric: host=algo-1, epoch=14, criteria=multiclass_cross_entropy_objective, value=0.679933771356806\u001b[0m\n",
      "\u001b[34m[10/13/2022 14:57:18 INFO 140479147329344] Epoch 14: Loss improved. Updating best model\u001b[0m\n",
      "\u001b[34m[10/13/2022 14:57:18 INFO 140479147329344] Saving model for epoch: 14\u001b[0m\n",
      "\u001b[34m[10/13/2022 14:57:18 INFO 140479147329344] Saved checkpoint to \"/tmp/tmp2gtfdhip/mx-mod-0000.params\"\u001b[0m\n",
      "\u001b[34m[10/13/2022 14:57:18 INFO 140479147329344] #progress_metric: host=algo-1, completed 100.0 % of epochs\u001b[0m\n",
      "\u001b[34m#metrics {\"StartTime\": 1665673038.0124135, \"EndTime\": 1665673038.1892421, \"Dimensions\": {\"Algorithm\": \"Linear Learner\", \"Host\": \"algo-1\", \"Operation\": \"training\", \"epoch\": 14, \"Meta\": \"training_data_iter\"}, \"Metrics\": {\"Total Records Seen\": {\"sum\": 29416.0, \"count\": 1, \"min\": 29416, \"max\": 29416}, \"Total Batches Seen\": {\"sum\": 33.0, \"count\": 1, \"min\": 33, \"max\": 33}, \"Max Records Seen Between Resets\": {\"sum\": 1776.0, \"count\": 1, \"min\": 1776, \"max\": 1776}, \"Max Batches Seen Between Resets\": {\"sum\": 2.0, \"count\": 1, \"min\": 2, \"max\": 2}, \"Reset Count\": {\"sum\": 17.0, \"count\": 1, \"min\": 17, \"max\": 17}, \"Number of Records Since Last Reset\": {\"sum\": 1776.0, \"count\": 1, \"min\": 1776, \"max\": 1776}, \"Number of Batches Since Last Reset\": {\"sum\": 2.0, \"count\": 1, \"min\": 2, \"max\": 2}}}\u001b[0m\n",
      "\u001b[34m[10/13/2022 14:57:18 INFO 140479147329344] #throughput_metric: host=algo-1, train throughput=10018.390248822863 records/second\u001b[0m\n",
      "\u001b[34m[10/13/2022 14:57:18 WARNING 140479147329344] wait_for_all_workers will not sync workers since the kv store is not running distributed\u001b[0m\n",
      "\u001b[34m[10/13/2022 14:57:18 WARNING 140479147329344] wait_for_all_workers will not sync workers since the kv store is not running distributed\u001b[0m\n",
      "\u001b[34m[2022-10-13 14:57:18.236] [tensorio] [info] epoch_stats={\"data_pipeline\": \"/opt/ml/input/data/validation\", \"epoch\": 47, \"duration\": 15, \"num_examples\": 1, \"num_bytes\": 11544}\u001b[0m\n",
      "\u001b[34m[10/13/2022 14:57:18 INFO 140479147329344] #early_stopping_criteria_metric: host=algo-1, epoch=14, criteria=multiclass_cross_entropy_objective, value=0.679933771356806\u001b[0m\n",
      "\u001b[34m[2022-10-13 14:57:18.276] [tensorio] [info] epoch_stats={\"data_pipeline\": \"/opt/ml/input/data/validation\", \"epoch\": 49, \"duration\": 27, \"num_examples\": 1, \"num_bytes\": 11544}\u001b[0m\n",
      "\u001b[34m/opt/amazon/lib/python3.7/site-packages/numpy/core/fromnumeric.py:87: VisibleDeprecationWarning: Creating an ndarray from nested sequences exceeding the maximum number of dimensions of 32 is deprecated. If you mean to do this, you must specify 'dtype=object' when creating the ndarray.\n",
      "  return ufunc.reduce(obj, axis, dtype, out, **passkwargs)\u001b[0m\n",
      "\u001b[34m[10/13/2022 14:57:18 INFO 140479147329344] #validation_score (algo-1) : ('multiclass_cross_entropy_objective', 0.679933771356806)\u001b[0m\n",
      "\u001b[34m[10/13/2022 14:57:18 INFO 140479147329344] #validation_score (algo-1) : ('multiclass_accuracy', 0.8018018018018018)\u001b[0m\n",
      "\u001b[34m[10/13/2022 14:57:18 INFO 140479147329344] #validation_score (algo-1) : ('multiclass_top_k_accuracy_3', 1.0)\u001b[0m\n",
      "\u001b[34m[10/13/2022 14:57:18 INFO 140479147329344] #validation_score (algo-1) : ('dcg', 0.916824821953301)\u001b[0m\n",
      "\u001b[34m[10/13/2022 14:57:18 INFO 140479147329344] #validation_score (algo-1) : ('macro_recall', 0.8032333)\u001b[0m\n",
      "\u001b[34m[10/13/2022 14:57:18 INFO 140479147329344] #validation_score (algo-1) : ('macro_precision', 0.80768627)\u001b[0m\n",
      "\u001b[34m[10/13/2022 14:57:18 INFO 140479147329344] #validation_score (algo-1) : ('macro_f_1.000', 0.8033984)\u001b[0m\n",
      "\u001b[34m[10/13/2022 14:57:18 INFO 140479147329344] #validation_score (algo-1) : ('multiclass_balanced_accuracy', 0.8032332856758865)\u001b[0m\n",
      "\u001b[34m[10/13/2022 14:57:18 INFO 140479147329344] #validation_score (algo-1) : ('multiclass_log_loss', 0.8713880263932385)\u001b[0m\n",
      "\u001b[34m[10/13/2022 14:57:18 INFO 140479147329344] #quality_metric: host=algo-1, validation multiclass_cross_entropy_objective <loss>=0.679933771356806\u001b[0m\n",
      "\u001b[34m[10/13/2022 14:57:18 INFO 140479147329344] #quality_metric: host=algo-1, validation multiclass_accuracy <score>=0.8018018018018018\u001b[0m\n",
      "\u001b[34m[10/13/2022 14:57:18 INFO 140479147329344] #quality_metric: host=algo-1, validation multiclass_top_k_accuracy_3 <score>=1.0\u001b[0m\n",
      "\u001b[34m[10/13/2022 14:57:18 INFO 140479147329344] #quality_metric: host=algo-1, validation dcg <score>=0.916824821953301\u001b[0m\n",
      "\u001b[34m[10/13/2022 14:57:18 INFO 140479147329344] #quality_metric: host=algo-1, validation macro_recall <score>=0.8032333254814148\u001b[0m\n",
      "\u001b[34m[10/13/2022 14:57:18 INFO 140479147329344] #quality_metric: host=algo-1, validation macro_precision <score>=0.8076862692832947\u001b[0m\n",
      "\u001b[34m[10/13/2022 14:57:18 INFO 140479147329344] #quality_metric: host=algo-1, validation macro_f_1.000 <score>=0.8033983707427979\u001b[0m\n",
      "\u001b[34m[10/13/2022 14:57:18 INFO 140479147329344] #quality_metric: host=algo-1, validation multiclass_balanced_accuracy <score>=0.8032332856758865\u001b[0m\n",
      "\u001b[34m[10/13/2022 14:57:18 INFO 140479147329344] #quality_metric: host=algo-1, validation multiclass_log_loss <score>=0.8713880263932385\u001b[0m\n",
      "\u001b[34m[10/13/2022 14:57:18 INFO 140479147329344] Best model found for hyperparameters: {\"optimizer\": \"adam\", \"learning_rate\": 0.10200995219090397, \"l1\": 0.10587917499153388, \"wd\": 0.011994309302164696, \"lr_scheduler_step\": 52, \"lr_scheduler_factor\": 0.9835865984378375, \"lr_scheduler_minimum_lr\": 2.597459914786608e-06}\u001b[0m\n",
      "\u001b[34m[10/13/2022 14:57:18 INFO 140479147329344] Saved checkpoint to \"/tmp/tmpesms3zx2/mx-mod-0000.params\"\u001b[0m\n",
      "\u001b[34m[2022-10-13 14:57:18.319] [tensorio] [info] epoch_stats={\"data_pipeline\": \"/opt/ml/input/data/test\", \"epoch\": 0, \"duration\": 1593, \"num_examples\": 1, \"num_bytes\": 11544}\u001b[0m\n",
      "\u001b[34m[2022-10-13 14:57:18.360] [tensorio] [info] epoch_stats={\"data_pipeline\": \"/opt/ml/input/data/test\", \"epoch\": 1, \"duration\": 40, \"num_examples\": 1, \"num_bytes\": 11544}\u001b[0m\n",
      "\u001b[34m/opt/amazon/lib/python3.7/site-packages/numpy/core/fromnumeric.py:87: VisibleDeprecationWarning: Creating an ndarray from nested sequences exceeding the maximum number of dimensions of 32 is deprecated. If you mean to do this, you must specify 'dtype=object' when creating the ndarray.\n",
      "  return ufunc.reduce(obj, axis, dtype, out, **passkwargs)\u001b[0m\n",
      "\u001b[34m#metrics {\"StartTime\": 1665673038.3192897, \"EndTime\": 1665673038.393034, \"Dimensions\": {\"Algorithm\": \"Linear Learner\", \"Host\": \"algo-1\", \"Operation\": \"training\", \"Meta\": \"test_data_iter\"}, \"Metrics\": {\"Total Records Seen\": {\"sum\": 222.0, \"count\": 1, \"min\": 222, \"max\": 222}, \"Total Batches Seen\": {\"sum\": 1.0, \"count\": 1, \"min\": 1, \"max\": 1}, \"Max Records Seen Between Resets\": {\"sum\": 222.0, \"count\": 1, \"min\": 222, \"max\": 222}, \"Max Batches Seen Between Resets\": {\"sum\": 1.0, \"count\": 1, \"min\": 1, \"max\": 1}, \"Reset Count\": {\"sum\": 1.0, \"count\": 1, \"min\": 1, \"max\": 1}, \"Number of Records Since Last Reset\": {\"sum\": 222.0, \"count\": 1, \"min\": 222, \"max\": 222}, \"Number of Batches Since Last Reset\": {\"sum\": 1.0, \"count\": 1, \"min\": 1, \"max\": 1}}}\u001b[0m\n",
      "\u001b[34m[10/13/2022 14:57:18 INFO 140479147329344] #test_score (algo-1) : ('multiclass_cross_entropy_objective', 0.8117860673784135)\u001b[0m\n",
      "\u001b[34m[10/13/2022 14:57:18 INFO 140479147329344] #test_score (algo-1) : ('multiclass_accuracy', 0.7207207207207207)\u001b[0m\n",
      "\u001b[34m[10/13/2022 14:57:18 INFO 140479147329344] #test_score (algo-1) : ('multiclass_top_k_accuracy_3', 1.0)\u001b[0m\n",
      "\u001b[34m[10/13/2022 14:57:18 INFO 140479147329344] #test_score (algo-1) : ('dcg', 0.8821820095852688)\u001b[0m\n",
      "\u001b[34m[10/13/2022 14:57:18 INFO 140479147329344] #test_score (algo-1) : ('macro_recall', 0.7169678)\u001b[0m\n",
      "\u001b[34m[10/13/2022 14:57:18 INFO 140479147329344] #test_score (algo-1) : ('macro_precision', 0.7299402)\u001b[0m\n",
      "\u001b[34m[10/13/2022 14:57:18 INFO 140479147329344] #test_score (algo-1) : ('macro_f_1.000', 0.7183555)\u001b[0m\n",
      "\u001b[34m[10/13/2022 14:57:18 INFO 140479147329344] #test_score (algo-1) : ('multiclass_balanced_accuracy', 0.7169678147939017)\u001b[0m\n",
      "\u001b[34m[10/13/2022 14:57:18 INFO 140479147329344] #test_score (algo-1) : ('multiclass_log_loss', 0.9070928323188799)\u001b[0m\n",
      "\u001b[34m[10/13/2022 14:57:18 INFO 140479147329344] #quality_metric: host=algo-1, test multiclass_cross_entropy_objective <loss>=0.8117860673784135\u001b[0m\n",
      "\u001b[34m[10/13/2022 14:57:18 INFO 140479147329344] #quality_metric: host=algo-1, test multiclass_accuracy <score>=0.7207207207207207\u001b[0m\n",
      "\u001b[34m[10/13/2022 14:57:18 INFO 140479147329344] #quality_metric: host=algo-1, test multiclass_top_k_accuracy_3 <score>=1.0\u001b[0m\n",
      "\u001b[34m[10/13/2022 14:57:18 INFO 140479147329344] #quality_metric: host=algo-1, test dcg <score>=0.8821820095852688\u001b[0m\n",
      "\u001b[34m[10/13/2022 14:57:18 INFO 140479147329344] #quality_metric: host=algo-1, test macro_recall <score>=0.7169678211212158\u001b[0m\n",
      "\u001b[34m[10/13/2022 14:57:18 INFO 140479147329344] #quality_metric: host=algo-1, test macro_precision <score>=0.7299401760101318\u001b[0m\n",
      "\u001b[34m[10/13/2022 14:57:18 INFO 140479147329344] #quality_metric: host=algo-1, test macro_f_1.000 <score>=0.7183554768562317\u001b[0m\n",
      "\u001b[34m[10/13/2022 14:57:18 INFO 140479147329344] #quality_metric: host=algo-1, test multiclass_balanced_accuracy <score>=0.7169678147939017\u001b[0m\n",
      "\u001b[34m[10/13/2022 14:57:18 INFO 140479147329344] #quality_metric: host=algo-1, test multiclass_log_loss <score>=0.9070928323188799\u001b[0m\n",
      "\u001b[34m#metrics {\"StartTime\": 1665673036.7212577, \"EndTime\": 1665673038.4023001, \"Dimensions\": {\"Algorithm\": \"Linear Learner\", \"Host\": \"algo-1\", \"Operation\": \"training\"}, \"Metrics\": {\"initialize.time\": {\"sum\": 183.4542751312256, \"count\": 1, \"min\": 183.4542751312256, \"max\": 183.4542751312256}, \"epochs\": {\"sum\": 15.0, \"count\": 1, \"min\": 15, \"max\": 15}, \"check_early_stopping.time\": {\"sum\": 15.160322189331055, \"count\": 16, \"min\": 0.23293495178222656, \"max\": 1.6911029815673828}, \"update.time\": {\"sum\": 1205.4119110107422, \"count\": 15, \"min\": 54.90374565124512, \"max\": 171.77414894104004}, \"finalize.time\": {\"sum\": 124.60732460021973, \"count\": 1, \"min\": 124.60732460021973, \"max\": 124.60732460021973}, \"setuptime\": {\"sum\": 4.802703857421875, \"count\": 1, \"min\": 4.802703857421875, \"max\": 4.802703857421875}, \"totaltime\": {\"sum\": 1919.2438125610352, \"count\": 1, \"min\": 1919.2438125610352, \"max\": 1919.2438125610352}}}\u001b[0m\n",
      "\n",
      "2022-10-13 14:57:54 Completed - Training job completed\n",
      "ProfilerReport-1665672773: NoIssuesFound\n",
      "Training seconds: 178\n",
      "Billable seconds: 178\n"
     ]
    }
   ],
   "source": [
    "multiclass_estimator.fit([train_records, val_records, test_records])"
   ]
  },
  {
   "cell_type": "markdown",
   "id": "919caf7e",
   "metadata": {
    "id": "cfcb1f00-4ba1-499b-a80f-67de7d34ead2"
   },
   "source": [
    "### Deploy a model hosting endpoint"
   ]
  },
  {
   "cell_type": "code",
   "execution_count": 22,
   "id": "ac9729f2",
   "metadata": {
    "id": "bd9fac51-c7b2-4b0c-bf6b-c264a6e82c03"
   },
   "outputs": [
    {
     "name": "stdout",
     "output_type": "stream",
     "text": [
      "--------!"
     ]
    }
   ],
   "source": [
    "multiclass_predictor = multiclass_estimator.deploy(initial_instance_count=1, instance_type='ml.m4.xlarge')"
   ]
  },
  {
   "cell_type": "markdown",
   "id": "f77a04cc",
   "metadata": {
    "id": "d5274955-f1a9-4a94-ba1f-b67b687c5286"
   },
   "source": [
    "### Evaluate a model on a test set using the given prediction endpoint. Display classification metrics"
   ]
  },
  {
   "cell_type": "code",
   "execution_count": 23,
   "id": "f0ca1fa2",
   "metadata": {
    "id": "f4951683-c2b1-44a8-9d53-4576b17dc8a8"
   },
   "outputs": [],
   "source": [
    "def evaluate_metrics(predictor, test_features, test_labels):\n",
    "    # split the test dataset into 100 batches and evaluate using prediction endpoint\n",
    "    prediction_batches = [predictor.predict(batch) for batch in np.array_split(test_features, 100)]\n",
    "\n",
    "    # parse protobuf responses to extract predicted labels\n",
    "    extract_label = lambda x: x.label['predicted_label'].float32_tensor.values\n",
    "    test_preds = np.concatenate([np.array([extract_label(x) for x in batch]) for batch in prediction_batches])\n",
    "    test_preds = test_preds.reshape((-1,))\n",
    "    \n",
    "    # calculate accuracy\n",
    "    accuracy = (test_preds == test_labels).sum() / test_labels.shape[0]\n",
    "    \n",
    "    # calculate recall for each class\n",
    "    recall_per_class, classes = [], []\n",
    "    for target_label in np.unique(test_labels):\n",
    "        recall_numerator = np.logical_and(test_preds == target_label, test_labels == target_label).sum()\n",
    "        recall_denominator = (test_labels == target_label).sum()\n",
    "        recall_per_class.append(recall_numerator / recall_denominator)\n",
    "        classes.append(label_map[target_label])\n",
    "    recall = pd.DataFrame({'recall': recall_per_class, 'class_label': classes})\n",
    "    recall.sort_values('class_label', ascending=False, inplace=True)\n",
    "\n",
    "    # calculate confusion matrix\n",
    "    label_mapper = np.vectorize(lambda x: label_map[x])\n",
    "    confusion_matrix = pd.crosstab(label_mapper(test_labels), label_mapper(test_preds), \n",
    "                                   rownames=['Actuals'], colnames=['Predictions'], normalize='index')\n",
    "\n",
    "    # display results\n",
    "    sns.heatmap(confusion_matrix, annot=True, fmt='.2f', cmap=\"YlGnBu\").set_title('Confusion Matrix')  \n",
    "    ax = recall.plot(kind='barh', x='class_label', y='recall', color='steelblue', title='Recall', legend=False)\n",
    "    ax.set_ylabel('')\n",
    "    print('Accuracy: {:.3f}'.format(accuracy))"
   ]
  },
  {
   "cell_type": "markdown",
   "id": "f57b7232",
   "metadata": {
    "id": "0c9ac589-ffe4-443f-999b-7d5eb4f6073a"
   },
   "source": [
    "### Evaluate metrics of the model trained with default hyperparameters"
   ]
  },
  {
   "cell_type": "code",
   "execution_count": 24,
   "id": "67ecb951",
   "metadata": {
    "id": "32f913fd-4528-4c54-9261-ea492d975565"
   },
   "outputs": [
    {
     "name": "stdout",
     "output_type": "stream",
     "text": [
      "Accuracy: 0.721\n"
     ]
    },
    {
     "data": {
      "image/png": "[encoded data removed]",
      "text/plain": [
       "<Figure size 432x288 with 2 Axes>"
      ]
     },
     "metadata": {},
     "output_type": "display_data"
    },
    {
     "data": {
      "image/png": "[encoded data removed]",
      "text/plain": [
       "<Figure size 432x288 with 1 Axes>"
      ]
     },
     "metadata": {},
     "output_type": "display_data"
    }
   ],
   "source": [
    "evaluate_metrics(multiclass_predictor, test_features, test_labels)"
   ]
  },
  {
   "cell_type": "markdown",
   "id": "09cc1785",
   "metadata": {
    "id": "17b27e9c-a3b1-49e0-8dcd-968a43dd2549"
   },
   "source": [
    "### Copy the SageMaker endpoint name from SageMaker console using the documentation and proceed with next steps."
   ]
  },
  {
   "cell_type": "markdown",
   "id": "592c3f8c",
   "metadata": {
    "id": "e485b237-d951-402c-8f98-d85ae75836e6"
   },
   "source": [
    "In this Notebook, we have learnt how to predict Risk Index using multiclass classifier SageMaker Models. How to build, run and evaluate them in Watson Studio platform. This model is now deployed on SageMaker Platform."
   ]
  },
  {
   "cell_type": "code",
   "execution_count": null,
   "id": "cf3e833a",
   "metadata": {
    "id": "049294fc-09af-41cc-84e7-a575f623e212"
   },
   "outputs": [],
   "source": []
  }
 ],
 "metadata": {
  "kernelspec": {
   "display_name": "Python 3.9",
   "language": "python",
   "name": "python3"
  },
  "language_info": {
   "codemirror_mode": {
    "name": "ipython",
    "version": 3
   },
   "file_extension": ".py",
   "mimetype": "text/x-python",
   "name": "python",
   "nbconvert_exporter": "python",
   "pygments_lexer": "ipython3",
   "version": "3.9.7"
  }
 },
 "nbformat": 4,
 "nbformat_minor": 5
}
